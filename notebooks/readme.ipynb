{
 "cells": [
  {
   "cell_type": "raw",
   "metadata": {},
   "source": [
    "---\n",
    "description: Tools for wrangling with geospatial data\n",
    "output-file: index.html\n",
    "title: Geowrangler\n",
    "\n",
    "---\n",
    "\n"
   ]
  },
  {
   "cell_type": "markdown",
   "metadata": {},
   "source": [
    "<img src=\"https://raw.githubusercontent.com/thinkingmachines/geowrangler/master/images/Geowrangler.svg\" alt=\"Geowrangler logo\" style=\"max-width: 245px;\" />\n",
    "\n",
    "### Overview"
   ]
  },
  {
   "cell_type": "markdown",
   "metadata": {},
   "source": [
    "[![License:MIT](https://img.shields.io/github/license/thinkingmachines/geowrangler?style=flat-square.png)](https://github.com/thinkingmachines/geowrangler/blob/master/LICENSE)\n",
    "[![Versions](https://img.shields.io/pypi/pyversions/geowrangler.svg?style=flat-square)](https://pypi.org/project/geowrangler/)\n",
    "[![Docs](https://img.shields.io/badge/docs-passing-green?style=flat-square.png)](https://geowrangler.thinkingmachin.es)"
   ]
  },
  {
   "cell_type": "markdown",
   "metadata": {},
   "source": [
    "**Geowrangler** is a Python package for geodata wrangling. It helps you build data transformation workflows that have no out-of-the-box solutions from other geospatial libraries.\n",
    "\n",
    "We surveyed our past geospatial projects to extract these solutions for our work and hope that these will be useful for others as well.\n",
    "\n",
    "Our audience are researchers, analysts, and engineers delivering geospatial projects. \n",
    "\n",
    "We [welcome your comments, suggestions, bug reports, and code contributions](https://github.com/thinkingmachines/geowrangler/discussions) to make **Geowrangler** better. "
   ]
  },
  {
   "cell_type": "markdown",
   "metadata": {},
   "source": [
    "### Installation\n",
    "\n",
    "```\n",
    "pip install geowrangler\n",
    "```"
   ]
  },
  {
   "cell_type": "markdown",
   "metadata": {},
   "source": [
    "### Documentation\n",
    "\n",
    "Please visit our [**Documentation site**](https://geowrangler.thinkingmachin.es)  to give you an introduction to Geowrangler."
   ]
  },
  {
   "cell_type": "markdown",
   "metadata": {},
   "source": [
    "### Development and Contributing\n",
    "\n",
    "Please checkout the [DEVELOPMENT](https://github.com/thinkingmachines/geowrangler/blob/master/DEVELOPMENT.md) and the [CONTRIBUTING](https://github.com/thinkingmachines/geowrangler/blob/master/CONTRIBUTING.md) sections to learn how to contribute, enhance, and fix Geowrangler."
   ]
  }
 ],
 "metadata": {
  "kernelspec": {
   "display_name": "python3",
   "language": "python",
   "name": "python3"
  }
 },
 "nbformat": 4,
 "nbformat_minor": 4
}
