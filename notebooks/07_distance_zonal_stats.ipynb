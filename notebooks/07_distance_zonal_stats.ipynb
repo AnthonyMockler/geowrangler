{
 "cells": [
  {
   "cell_type": "raw",
   "id": "992940d7",
   "metadata": {},
   "source": [
    "---\n",
    "description: generate vector zonal stat features for distances to features\n",
    "output-file: distance_zonal_stats.html\n",
    "title: Distance Zonal Stats\n",
    "\n",
    "---\n",
    "\n"
   ]
  },
  {
   "cell_type": "markdown",
   "id": "35aeac04",
   "metadata": {},
   "source": [
    "[![](https://colab.research.google.com/assets/colab-badge.svg \"Open in Colab button\")](https://colab.research.google.com/github/thinkingmachines/geowrangler/blob/master/notebooks/07_distance_zonal_stats.ipynb)"
   ]
  },
  {
   "cell_type": "code",
   "execution_count": null,
   "id": "81db6f4a",
   "metadata": {},
   "outputs": [],
   "source": [
    "#| default_exp distance_zonal_stats"
   ]
  },
  {
   "cell_type": "code",
   "execution_count": null,
   "id": "0bd903f7-54e4-44be-af97-ded1447563a6",
   "metadata": {},
   "outputs": [],
   "source": [
    "#| include: false\n",
    "#| no_test\n",
    "! [ -e /content ] && pip install -Uqq geowrangler"
   ]
  },
  {
   "cell_type": "code",
   "execution_count": null,
   "id": "4193ede1-b155-40b0-b90a-1e619fa91fef",
   "metadata": {},
   "outputs": [],
   "source": [
    "#| include: false\n",
    "#| no_test\n",
    "!mkdir -p ../data\n",
    "![ -e /content ] && ln -s ../data ."
   ]
  },
  {
   "cell_type": "code",
   "execution_count": null,
   "id": "83e17627-2953-424b-add4-1070099a3c64",
   "metadata": {},
   "outputs": [],
   "source": [
    "#| include: false\n",
    "#| no_test\n",
    "!mkdir -p ../data\n",
    "# download sample geojson files from repo"
   ]
  },
  {
   "cell_type": "code",
   "execution_count": null,
   "id": "8daa0f3a-d80c-4030-bce8-d437cdb313ea",
   "metadata": {},
   "outputs": [],
   "source": [
    "#| include: false\n",
    "#| no_test\n",
    "%reload_ext autoreload\n",
    "%autoreload 2\n",
    "%matplotlib inline"
   ]
  },
  {
   "cell_type": "code",
   "execution_count": null,
   "id": "3f8bdce3-4760-4c80-a60b-3e2d5ac49d3c",
   "metadata": {},
   "outputs": [],
   "source": [
    "#| include: false\n",
    "import warnings\n",
    "\n",
    "from shapely.errors import ShapelyDeprecationWarning"
   ]
  },
  {
   "cell_type": "code",
   "execution_count": null,
   "id": "41f1f307-4ffa-4548-8d6f-7b44442b1004",
   "metadata": {},
   "outputs": [],
   "source": [
    "#| include: false\n",
    "warnings.filterwarnings(action=\"ignore\", category=UserWarning, module=\"geopandas\")\n",
    "warnings.filterwarnings(\n",
    "    action=\"ignore\", category=ShapelyDeprecationWarning, module=\"pandas\"\n",
    ")"
   ]
  },
  {
   "cell_type": "code",
   "execution_count": null,
   "id": "f438213c-41dc-432f-a54a-48dda949f2ca",
   "metadata": {},
   "outputs": [],
   "source": [
    "#| export\n",
    "from typing import Any, Dict, List\n",
    "\n",
    "import geopandas as gpd\n",
    "\n",
    "import geowrangler.area_zonal_stats as azs\n",
    "import geowrangler.vector_zonal_stats as vzs\n",
    "from geowrangler.vector_zonal_stats import GEO_INDEX_NAME"
   ]
  },
  {
   "cell_type": "code",
   "execution_count": null,
   "id": "aabdc447-d2ef-45f0-bd1b-a7a0fbd90a14",
   "metadata": {},
   "outputs": [],
   "source": [
    "#| include: false\n",
    "import matplotlib.pyplot as plt\n",
    "from shapely.geometry import Point, Polygon"
   ]
  },
  {
   "cell_type": "code",
   "execution_count": null,
   "id": "8921f67a-31a5-4b59-ac50-2966b8760a6c",
   "metadata": {},
   "outputs": [],
   "source": [
    "#| exporti\n",
    "INTERNAL_DISTANCE_COL = \"__Geowrangleer_nearest_distance\"\n",
    "\n",
    "\n",
    "def build_agg_distance_dicts(expanded_aggs, distance_col):\n",
    "    agg_dicts = vzs._build_agg_args(expanded_aggs)\n",
    "    if distance_col is not None:\n",
    "        agg_dicts[distance_col] = (INTERNAL_DISTANCE_COL, \"mean\")\n",
    "    return agg_dicts"
   ]
  },
  {
   "cell_type": "code",
   "execution_count": null,
   "id": "d228a69b-05fb-4dda-a27c-2bd09742414a",
   "metadata": {},
   "outputs": [],
   "source": [
    "#| export\n",
    "def create_distance_zonal_stats(\n",
    "    aoi: gpd.GeoDataFrame,  # Area of interest for which zonal stats are to be computed for\n",
    "    data: gpd.GeoDataFrame,  # Source gdf of region/areas containing data to compute zonal stats from\n",
    "    max_distance: float,  # max distance to compute distance for (the larger the slower the join), set to None for no limit\n",
    "    aggregations: List[Dict[str, Any]] = [],  # aggregations\n",
    "    distance_col: str = \"nearest\",  # column name of the distance column, set to None if not wanted in results\n",
    "):\n",
    "    \"\"\"Computes zonal stats based on nearest matching data geometry within `max_distance`.\n",
    "    Note that setting a too high max_distance (or None) will incur a performance cost.\n",
    "    \"\"\"\n",
    "    # aoi/data crs should be planar\n",
    "    azs.validate_area_aoi(aoi)\n",
    "    azs.validate_area_data(data)\n",
    "\n",
    "    fixed_aggs = [vzs._fix_agg(agg) for agg in aggregations]\n",
    "\n",
    "    vzs._validate_aggs(fixed_aggs, data)\n",
    "\n",
    "    # reindex aoi\n",
    "    aoi_index_name = aoi.index.name\n",
    "    aoi = vzs._prep_aoi(aoi)\n",
    "\n",
    "    # sync aoi/data crs\n",
    "    if not data.crs.equals(aoi.crs):\n",
    "        data = data.to_crs(aoi.crs)\n",
    "\n",
    "    # add spatial indexes\n",
    "    aoi.geometry.sindex\n",
    "    data.geometry.sindex\n",
    "\n",
    "    # nearest\n",
    "    nearest = gpd.sjoin_nearest(\n",
    "        aoi[[GEO_INDEX_NAME, \"geometry\"]],\n",
    "        data,\n",
    "        how=\"inner\",\n",
    "        max_distance=max_distance,\n",
    "        distance_col=INTERNAL_DISTANCE_COL,\n",
    "    )\n",
    "\n",
    "    groups = nearest.groupby(GEO_INDEX_NAME)\n",
    "\n",
    "    expanded_aggs = vzs._expand_aggs(fixed_aggs)\n",
    "    agg_distance_dicts = build_agg_distance_dicts(expanded_aggs, distance_col)\n",
    "\n",
    "    aggregates = groups.agg(**agg_distance_dicts)\n",
    "\n",
    "    results = aoi.merge(\n",
    "        aggregates, how=\"left\", on=GEO_INDEX_NAME, suffixes=(None, \"_y\")\n",
    "    )\n",
    "    results = vzs._fillnas(expanded_aggs, results, aoi)\n",
    "\n",
    "    results = results.set_index(GEO_INDEX_NAME)\n",
    "    results.index.name = aoi_index_name\n",
    "    return results"
   ]
  },
  {
   "cell_type": "markdown",
   "id": "fc7eb32f-136b-44a1-810e-e52eef535852",
   "metadata": {},
   "source": [
    "## Test data"
   ]
  },
  {
   "cell_type": "markdown",
   "id": "190370e2-f39f-4f9f-b945-cad745c3df1e",
   "metadata": {},
   "source": [
    "### Simple squares"
   ]
  },
  {
   "cell_type": "code",
   "execution_count": null,
   "id": "f92381eb-da51-41e1-b6b0-4fe7480601d4",
   "metadata": {},
   "outputs": [],
   "source": [
    "#| include: false\n",
    "def make_point_df(\n",
    "    xsize,\n",
    "    ysize,\n",
    "    has_internet=True,\n",
    "    has_population=True,\n",
    "    size=1,\n",
    "    offset_x=0.25,\n",
    "    offset_y=0.0,\n",
    "    pop_x_factor=100,\n",
    "    pop_y_factor=0,\n",
    "    internet_base_speed=20.0,\n",
    "    internet_x_exp=2.0,\n",
    "    internet_y_factor=100,\n",
    "    crs=\"EPSG:3857\",\n",
    "):\n",
    "    d = dict(\n",
    "        geometry=[\n",
    "            Point(x + offset_x, y + offset_y)\n",
    "            for x in range(xsize)\n",
    "            for y in range(ysize)\n",
    "        ]\n",
    "    )\n",
    "    if has_population:\n",
    "        d[\"population\"] = [\n",
    "            pop_x_factor * (x + 1) + y * (pop_x_factor * ysize + pop_y_factor)\n",
    "            for x in range(xsize)\n",
    "            for y in range(ysize)\n",
    "        ]\n",
    "    if has_internet:\n",
    "        d[\"internet_speed\"] = [\n",
    "            internet_base_speed / (internet_x_exp**x) + internet_y_factor * y\n",
    "            for x in range(xsize)\n",
    "            for y in range(ysize)\n",
    "        ]\n",
    "    return gpd.GeoDataFrame(d, crs=crs)"
   ]
  },
  {
   "cell_type": "code",
   "execution_count": null,
   "id": "29c6aed0-9482-4364-8494-fd4b11c0c689",
   "metadata": {},
   "outputs": [],
   "source": [
    "#| include: false\n",
    "def square(x, y, size=1):\n",
    "    return Polygon([(x, y), (x, size + y), (size + x, size + y), (size + x, y)])"
   ]
  },
  {
   "cell_type": "code",
   "execution_count": null,
   "id": "a2ad38f2-ef5f-4f2b-b681-8872346a65e8",
   "metadata": {},
   "outputs": [],
   "source": [
    "#| include: false\n",
    "def make_df(\n",
    "    xsize,\n",
    "    ysize,\n",
    "    has_internet=True,\n",
    "    has_population=True,\n",
    "    size=1,\n",
    "    offset_x=0.25,\n",
    "    offset_y=0.0,\n",
    "    pop_x_factor=100,\n",
    "    pop_y_factor=0,\n",
    "    internet_base_speed=20.0,\n",
    "    internet_x_exp=2.0,\n",
    "    internet_y_factor=100,\n",
    "    crs=\"EPSG:3857\",\n",
    "):\n",
    "    d = dict(\n",
    "        geometry=[\n",
    "            square(x + offset_x, y + offset_y)\n",
    "            for x in range(xsize)\n",
    "            for y in range(ysize)\n",
    "        ]\n",
    "    )\n",
    "    if has_population:\n",
    "        d[\"population\"] = [\n",
    "            pop_x_factor * (x + 1) + y * (pop_x_factor * ysize + pop_y_factor)\n",
    "            for x in range(xsize)\n",
    "            for y in range(ysize)\n",
    "        ]\n",
    "    if has_internet:\n",
    "        d[\"internet_speed\"] = [\n",
    "            internet_base_speed / (internet_x_exp**x) + internet_y_factor * y\n",
    "            for x in range(xsize)\n",
    "            for y in range(ysize)\n",
    "        ]\n",
    "    return gpd.GeoDataFrame(d, crs=crs)"
   ]
  },
  {
   "cell_type": "code",
   "execution_count": null,
   "id": "b3153f1e-c2e4-4633-a7ab-4df9cf58cb38",
   "metadata": {},
   "outputs": [],
   "source": [
    "#| include: false\n",
    "simple_aoi = make_df(3, 1, has_internet=False, has_population=False, offset_x=0.0)\n",
    "simple_data = make_df(3, 1)"
   ]
  },
  {
   "cell_type": "code",
   "execution_count": null,
   "id": "f69269ae-ce43-4871-b6f5-cd56d9385bc3",
   "metadata": {},
   "outputs": [],
   "source": [
    "#| include: false\n",
    "simple_point_data = make_point_df(3, 5, offset_x=0.5, offset_y=3.0)"
   ]
  },
  {
   "cell_type": "markdown",
   "id": "4e29f388-b5e2-48ac-bec7-00febb252c78",
   "metadata": {},
   "source": [
    "Given an aoi (`simple_aoi`) and geodataframe containing sample data (`simple_data`)"
   ]
  },
  {
   "cell_type": "code",
   "execution_count": null,
   "id": "6bf3038c-01db-4a23-be8a-966f995f7941",
   "metadata": {},
   "outputs": [
    {
     "data": {
      "text/html": [
       "<div>\n",
       "<style scoped>\n",
       "    .dataframe tbody tr th:only-of-type {\n",
       "        vertical-align: middle;\n",
       "    }\n",
       "\n",
       "    .dataframe tbody tr th {\n",
       "        vertical-align: top;\n",
       "    }\n",
       "\n",
       "    .dataframe thead th {\n",
       "        text-align: right;\n",
       "    }\n",
       "</style>\n",
       "<table border=\"1\" class=\"dataframe\">\n",
       "  <thead>\n",
       "    <tr style=\"text-align: right;\">\n",
       "      <th></th>\n",
       "      <th>geometry</th>\n",
       "    </tr>\n",
       "  </thead>\n",
       "  <tbody>\n",
       "    <tr>\n",
       "      <th>0</th>\n",
       "      <td>POLYGON ((0 0, 0 1, 1 1, 1 0, 0 0))</td>\n",
       "    </tr>\n",
       "    <tr>\n",
       "      <th>1</th>\n",
       "      <td>POLYGON ((1 0, 1 1, 2 1, 2 0, 1 0))</td>\n",
       "    </tr>\n",
       "    <tr>\n",
       "      <th>2</th>\n",
       "      <td>POLYGON ((2 0, 2 1, 3 1, 3 0, 2 0))</td>\n",
       "    </tr>\n",
       "  </tbody>\n",
       "</table>\n",
       "</div>"
      ],
      "text/plain": [
       "                              geometry\n",
       "0  POLYGON ((0 0, 0 1, 1 1, 1 0, 0 0))\n",
       "1  POLYGON ((1 0, 1 1, 2 1, 2 0, 1 0))\n",
       "2  POLYGON ((2 0, 2 1, 3 1, 3 0, 2 0))"
      ]
     },
     "execution_count": null,
     "metadata": {},
     "output_type": "execute_result"
    }
   ],
   "source": [
    "simple_aoi"
   ]
  },
  {
   "cell_type": "code",
   "execution_count": null,
   "id": "c42f2dec-891a-44e5-a8e4-baed7b19e287",
   "metadata": {},
   "outputs": [
    {
     "data": {
      "text/html": [
       "<div>\n",
       "<style scoped>\n",
       "    .dataframe tbody tr th:only-of-type {\n",
       "        vertical-align: middle;\n",
       "    }\n",
       "\n",
       "    .dataframe tbody tr th {\n",
       "        vertical-align: top;\n",
       "    }\n",
       "\n",
       "    .dataframe thead th {\n",
       "        text-align: right;\n",
       "    }\n",
       "</style>\n",
       "<table border=\"1\" class=\"dataframe\">\n",
       "  <thead>\n",
       "    <tr style=\"text-align: right;\">\n",
       "      <th></th>\n",
       "      <th>geometry</th>\n",
       "      <th>population</th>\n",
       "      <th>internet_speed</th>\n",
       "    </tr>\n",
       "  </thead>\n",
       "  <tbody>\n",
       "    <tr>\n",
       "      <th>0</th>\n",
       "      <td>POLYGON ((0.25 0, 0.25 1, 1.25 1, 1.25 0, 0.25...</td>\n",
       "      <td>100</td>\n",
       "      <td>20.0</td>\n",
       "    </tr>\n",
       "    <tr>\n",
       "      <th>1</th>\n",
       "      <td>POLYGON ((1.25 0, 1.25 1, 2.25 1, 2.25 0, 1.25...</td>\n",
       "      <td>200</td>\n",
       "      <td>10.0</td>\n",
       "    </tr>\n",
       "    <tr>\n",
       "      <th>2</th>\n",
       "      <td>POLYGON ((2.25 0, 2.25 1, 3.25 1, 3.25 0, 2.25...</td>\n",
       "      <td>300</td>\n",
       "      <td>5.0</td>\n",
       "    </tr>\n",
       "  </tbody>\n",
       "</table>\n",
       "</div>"
      ],
      "text/plain": [
       "                                            geometry  population  \\\n",
       "0  POLYGON ((0.25 0, 0.25 1, 1.25 1, 1.25 0, 0.25...         100   \n",
       "1  POLYGON ((1.25 0, 1.25 1, 2.25 1, 2.25 0, 1.25...         200   \n",
       "2  POLYGON ((2.25 0, 2.25 1, 3.25 1, 3.25 0, 2.25...         300   \n",
       "\n",
       "   internet_speed  \n",
       "0            20.0  \n",
       "1            10.0  \n",
       "2             5.0  "
      ]
     },
     "execution_count": null,
     "metadata": {},
     "output_type": "execute_result"
    }
   ],
   "source": [
    "simple_data"
   ]
  },
  {
   "cell_type": "markdown",
   "id": "447ca6ae-6733-48ce-ae65-07944f7fed0a",
   "metadata": {},
   "source": [
    "We also have simple point data which do not intersect with our AOIs."
   ]
  },
  {
   "cell_type": "code",
   "execution_count": null,
   "id": "e1e355cf-f4cb-4464-99f6-f6ecda87a41f",
   "metadata": {},
   "outputs": [
    {
     "data": {
      "text/html": [
       "<div>\n",
       "<style scoped>\n",
       "    .dataframe tbody tr th:only-of-type {\n",
       "        vertical-align: middle;\n",
       "    }\n",
       "\n",
       "    .dataframe tbody tr th {\n",
       "        vertical-align: top;\n",
       "    }\n",
       "\n",
       "    .dataframe thead th {\n",
       "        text-align: right;\n",
       "    }\n",
       "</style>\n",
       "<table border=\"1\" class=\"dataframe\">\n",
       "  <thead>\n",
       "    <tr style=\"text-align: right;\">\n",
       "      <th></th>\n",
       "      <th>geometry</th>\n",
       "      <th>population</th>\n",
       "      <th>internet_speed</th>\n",
       "    </tr>\n",
       "  </thead>\n",
       "  <tbody>\n",
       "    <tr>\n",
       "      <th>0</th>\n",
       "      <td>POINT (0.5 3)</td>\n",
       "      <td>100</td>\n",
       "      <td>20.0</td>\n",
       "    </tr>\n",
       "    <tr>\n",
       "      <th>1</th>\n",
       "      <td>POINT (0.5 4)</td>\n",
       "      <td>600</td>\n",
       "      <td>120.0</td>\n",
       "    </tr>\n",
       "    <tr>\n",
       "      <th>2</th>\n",
       "      <td>POINT (0.5 5)</td>\n",
       "      <td>1100</td>\n",
       "      <td>220.0</td>\n",
       "    </tr>\n",
       "    <tr>\n",
       "      <th>3</th>\n",
       "      <td>POINT (0.5 6)</td>\n",
       "      <td>1600</td>\n",
       "      <td>320.0</td>\n",
       "    </tr>\n",
       "    <tr>\n",
       "      <th>4</th>\n",
       "      <td>POINT (0.5 7)</td>\n",
       "      <td>2100</td>\n",
       "      <td>420.0</td>\n",
       "    </tr>\n",
       "    <tr>\n",
       "      <th>5</th>\n",
       "      <td>POINT (1.5 3)</td>\n",
       "      <td>200</td>\n",
       "      <td>10.0</td>\n",
       "    </tr>\n",
       "    <tr>\n",
       "      <th>6</th>\n",
       "      <td>POINT (1.5 4)</td>\n",
       "      <td>700</td>\n",
       "      <td>110.0</td>\n",
       "    </tr>\n",
       "    <tr>\n",
       "      <th>7</th>\n",
       "      <td>POINT (1.5 5)</td>\n",
       "      <td>1200</td>\n",
       "      <td>210.0</td>\n",
       "    </tr>\n",
       "    <tr>\n",
       "      <th>8</th>\n",
       "      <td>POINT (1.5 6)</td>\n",
       "      <td>1700</td>\n",
       "      <td>310.0</td>\n",
       "    </tr>\n",
       "    <tr>\n",
       "      <th>9</th>\n",
       "      <td>POINT (1.5 7)</td>\n",
       "      <td>2200</td>\n",
       "      <td>410.0</td>\n",
       "    </tr>\n",
       "    <tr>\n",
       "      <th>10</th>\n",
       "      <td>POINT (2.5 3)</td>\n",
       "      <td>300</td>\n",
       "      <td>5.0</td>\n",
       "    </tr>\n",
       "    <tr>\n",
       "      <th>11</th>\n",
       "      <td>POINT (2.5 4)</td>\n",
       "      <td>800</td>\n",
       "      <td>105.0</td>\n",
       "    </tr>\n",
       "    <tr>\n",
       "      <th>12</th>\n",
       "      <td>POINT (2.5 5)</td>\n",
       "      <td>1300</td>\n",
       "      <td>205.0</td>\n",
       "    </tr>\n",
       "    <tr>\n",
       "      <th>13</th>\n",
       "      <td>POINT (2.5 6)</td>\n",
       "      <td>1800</td>\n",
       "      <td>305.0</td>\n",
       "    </tr>\n",
       "    <tr>\n",
       "      <th>14</th>\n",
       "      <td>POINT (2.5 7)</td>\n",
       "      <td>2300</td>\n",
       "      <td>405.0</td>\n",
       "    </tr>\n",
       "  </tbody>\n",
       "</table>\n",
       "</div>"
      ],
      "text/plain": [
       "         geometry  population  internet_speed\n",
       "0   POINT (0.5 3)         100            20.0\n",
       "1   POINT (0.5 4)         600           120.0\n",
       "2   POINT (0.5 5)        1100           220.0\n",
       "3   POINT (0.5 6)        1600           320.0\n",
       "4   POINT (0.5 7)        2100           420.0\n",
       "5   POINT (1.5 3)         200            10.0\n",
       "6   POINT (1.5 4)         700           110.0\n",
       "7   POINT (1.5 5)        1200           210.0\n",
       "8   POINT (1.5 6)        1700           310.0\n",
       "9   POINT (1.5 7)        2200           410.0\n",
       "10  POINT (2.5 3)         300             5.0\n",
       "11  POINT (2.5 4)         800           105.0\n",
       "12  POINT (2.5 5)        1300           205.0\n",
       "13  POINT (2.5 6)        1800           305.0\n",
       "14  POINT (2.5 7)        2300           405.0"
      ]
     },
     "execution_count": null,
     "metadata": {},
     "output_type": "execute_result"
    }
   ],
   "source": [
    "simple_point_data"
   ]
  },
  {
   "cell_type": "code",
   "execution_count": null,
   "id": "f784528a-e90f-4544-9b8b-6d6720019b5e",
   "metadata": {},
   "outputs": [
    {
     "data": {
      "image/png": "[encoded data removed]",
      "text/plain": [
       "<Figure size 640x480 with 1 Axes>"
      ]
     },
     "metadata": {},
     "output_type": "display_data"
    }
   ],
   "source": [
    "ax = plt.axes()\n",
    "ax = simple_data.plot(\n",
    "    ax=ax, color=[\"orange\", \"brown\", \"purple\"], edgecolor=\"yellow\", alpha=0.4\n",
    ")\n",
    "ax = simple_aoi.plot(ax=ax, facecolor=\"none\", edgecolor=[\"r\", \"g\", \"b\"])\n",
    "ax = simple_point_data.plot(ax=ax)"
   ]
  },
  {
   "cell_type": "markdown",
   "id": "4a54a8c3-0cac-4059-a5e7-da3659e0b0df",
   "metadata": {},
   "source": [
    "The red,green,blue outlines are the 3 regions of interest (aoi) while the orange,brown, purple areas are the data areas.The blue dots are data which do not intersect our AOIs. "
   ]
  },
  {
   "cell_type": "code",
   "execution_count": null,
   "id": "b00ea090-f2a6-4da4-9317-34b5112a4f01",
   "metadata": {},
   "outputs": [
    {
     "name": "stdout",
     "output_type": "stream",
     "text": [
      "CPU times: user 6.39 ms, sys: 764 µs, total: 7.16 ms\n",
      "Wall time: 6.84 ms\n"
     ]
    }
   ],
   "source": [
    "%%time\n",
    "results = create_distance_zonal_stats(\n",
    "    simple_aoi,\n",
    "    simple_point_data,\n",
    "    max_distance=7,\n",
    "    aggregations=[\n",
    "        dict(func=\"count\"),\n",
    "        dict(func=\"sum\", column=\"population\"),\n",
    "        dict(func=\"mean\", column=\"internet_speed\"),\n",
    "    ],\n",
    ")"
   ]
  },
  {
   "cell_type": "code",
   "execution_count": null,
   "id": "9045bac2-8114-4bde-a0a3-9a15e7f2cec8",
   "metadata": {},
   "outputs": [
    {
     "data": {
      "text/html": [
       "<div>\n",
       "<style scoped>\n",
       "    .dataframe tbody tr th:only-of-type {\n",
       "        vertical-align: middle;\n",
       "    }\n",
       "\n",
       "    .dataframe tbody tr th {\n",
       "        vertical-align: top;\n",
       "    }\n",
       "\n",
       "    .dataframe thead th {\n",
       "        text-align: right;\n",
       "    }\n",
       "</style>\n",
       "<table border=\"1\" class=\"dataframe\">\n",
       "  <thead>\n",
       "    <tr style=\"text-align: right;\">\n",
       "      <th></th>\n",
       "      <th>geometry</th>\n",
       "      <th>index_count</th>\n",
       "      <th>population_sum</th>\n",
       "      <th>internet_speed_mean</th>\n",
       "      <th>nearest</th>\n",
       "    </tr>\n",
       "  </thead>\n",
       "  <tbody>\n",
       "    <tr>\n",
       "      <th>0</th>\n",
       "      <td>POLYGON ((0 0, 0 1, 1 1, 1 0, 0 0))</td>\n",
       "      <td>1</td>\n",
       "      <td>100</td>\n",
       "      <td>20.0</td>\n",
       "      <td>2.0</td>\n",
       "    </tr>\n",
       "    <tr>\n",
       "      <th>1</th>\n",
       "      <td>POLYGON ((1 0, 1 1, 2 1, 2 0, 1 0))</td>\n",
       "      <td>1</td>\n",
       "      <td>200</td>\n",
       "      <td>10.0</td>\n",
       "      <td>2.0</td>\n",
       "    </tr>\n",
       "    <tr>\n",
       "      <th>2</th>\n",
       "      <td>POLYGON ((2 0, 2 1, 3 1, 3 0, 2 0))</td>\n",
       "      <td>1</td>\n",
       "      <td>300</td>\n",
       "      <td>5.0</td>\n",
       "      <td>2.0</td>\n",
       "    </tr>\n",
       "  </tbody>\n",
       "</table>\n",
       "</div>"
      ],
      "text/plain": [
       "                              geometry  index_count  population_sum  \\\n",
       "0  POLYGON ((0 0, 0 1, 1 1, 1 0, 0 0))            1             100   \n",
       "1  POLYGON ((1 0, 1 1, 2 1, 2 0, 1 0))            1             200   \n",
       "2  POLYGON ((2 0, 2 1, 3 1, 3 0, 2 0))            1             300   \n",
       "\n",
       "   internet_speed_mean  nearest  \n",
       "0                 20.0      2.0  \n",
       "1                 10.0      2.0  \n",
       "2                  5.0      2.0  "
      ]
     },
     "execution_count": null,
     "metadata": {},
     "output_type": "execute_result"
    }
   ],
   "source": [
    "results"
   ]
  },
  {
   "cell_type": "code",
   "execution_count": null,
   "id": "c777b2eb-f2ce-4496-9de9-6dcc7a21ae10",
   "metadata": {},
   "outputs": [
    {
     "name": "stdout",
     "output_type": "stream",
     "text": [
      "CPU times: user 6.3 ms, sys: 560 µs, total: 6.86 ms\n",
      "Wall time: 6.65 ms\n"
     ]
    }
   ],
   "source": [
    "%%time\n",
    "results2 = create_distance_zonal_stats(\n",
    "    simple_aoi,\n",
    "    simple_data,\n",
    "    max_distance=1,\n",
    "    aggregations=[\n",
    "        dict(func=\"count\"),\n",
    "        dict(func=\"sum\", column=\"population\"),\n",
    "        dict(func=\"mean\", column=\"internet_speed\"),\n",
    "    ],\n",
    ")"
   ]
  },
  {
   "cell_type": "code",
   "execution_count": null,
   "id": "e6d18a51-a7da-4359-a88c-3cb38cf18599",
   "metadata": {},
   "outputs": [
    {
     "data": {
      "text/html": [
       "<div>\n",
       "<style scoped>\n",
       "    .dataframe tbody tr th:only-of-type {\n",
       "        vertical-align: middle;\n",
       "    }\n",
       "\n",
       "    .dataframe tbody tr th {\n",
       "        vertical-align: top;\n",
       "    }\n",
       "\n",
       "    .dataframe thead th {\n",
       "        text-align: right;\n",
       "    }\n",
       "</style>\n",
       "<table border=\"1\" class=\"dataframe\">\n",
       "  <thead>\n",
       "    <tr style=\"text-align: right;\">\n",
       "      <th></th>\n",
       "      <th>geometry</th>\n",
       "      <th>index_count</th>\n",
       "      <th>population_sum</th>\n",
       "      <th>internet_speed_mean</th>\n",
       "      <th>nearest</th>\n",
       "    </tr>\n",
       "  </thead>\n",
       "  <tbody>\n",
       "    <tr>\n",
       "      <th>0</th>\n",
       "      <td>POLYGON ((0 0, 0 1, 1 1, 1 0, 0 0))</td>\n",
       "      <td>1</td>\n",
       "      <td>100</td>\n",
       "      <td>20.0</td>\n",
       "      <td>0.0</td>\n",
       "    </tr>\n",
       "    <tr>\n",
       "      <th>1</th>\n",
       "      <td>POLYGON ((1 0, 1 1, 2 1, 2 0, 1 0))</td>\n",
       "      <td>2</td>\n",
       "      <td>300</td>\n",
       "      <td>15.0</td>\n",
       "      <td>0.0</td>\n",
       "    </tr>\n",
       "    <tr>\n",
       "      <th>2</th>\n",
       "      <td>POLYGON ((2 0, 2 1, 3 1, 3 0, 2 0))</td>\n",
       "      <td>2</td>\n",
       "      <td>500</td>\n",
       "      <td>7.5</td>\n",
       "      <td>0.0</td>\n",
       "    </tr>\n",
       "  </tbody>\n",
       "</table>\n",
       "</div>"
      ],
      "text/plain": [
       "                              geometry  index_count  population_sum  \\\n",
       "0  POLYGON ((0 0, 0 1, 1 1, 1 0, 0 0))            1             100   \n",
       "1  POLYGON ((1 0, 1 1, 2 1, 2 0, 1 0))            2             300   \n",
       "2  POLYGON ((2 0, 2 1, 3 1, 3 0, 2 0))            2             500   \n",
       "\n",
       "   internet_speed_mean  nearest  \n",
       "0                 20.0      0.0  \n",
       "1                 15.0      0.0  \n",
       "2                  7.5      0.0  "
      ]
     },
     "execution_count": null,
     "metadata": {},
     "output_type": "execute_result"
    }
   ],
   "source": [
    "results2"
   ]
  }
 ],
 "metadata": {
  "kernelspec": {
   "display_name": "python3",
   "language": "python",
   "name": "python3"
  }
 },
 "nbformat": 4,
 "nbformat_minor": 5
}
