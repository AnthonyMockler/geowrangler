{
 "cells": [
  {
   "cell_type": "raw",
   "id": "aab469be",
   "metadata": {},
   "source": [
    "---\n",
    "output-file: overview.usecase_ookla.html\n",
    "title: Exploring Internet Speeds with Ookla\n",
    "\n",
    "---\n",
    "\n"
   ]
  },
  {
   "cell_type": "markdown",
   "id": "27f6e84f",
   "metadata": {},
   "source": [
    "> A simple use case demo for using geowrangler modules to find the Philippine provinces/towns with the slowest/fastest internet speeds."
   ]
  },
  {
   "cell_type": "markdown",
   "id": "3eb404f4",
   "metadata": {},
   "source": [
    "[![](https://colab.research.google.com/assets/colab-badge.svg \"Open in Colab button\")](https://colab.research.google.com/github/thinkingmachines/geowrangler/blob/master/notebooks/overview.usecase_ookla.ipynb)"
   ]
  },
  {
   "cell_type": "code",
   "execution_count": null,
   "id": "1a12bdc5-566a-409c-ae39-3636f131c65d",
   "metadata": {},
   "outputs": [],
   "source": [
    "#| include: false\n",
    "# all_slow\n",
    "# all_no_test"
   ]
  },
  {
   "cell_type": "code",
   "execution_count": null,
   "id": "4832ee28-c56f-454b-ac7d-eb35158220c8",
   "metadata": {},
   "outputs": [],
   "source": [
    "#| include: false\n",
    "#| no_test\n",
    "! [ -e /content ] && pip install -Uqq fastparquet\n",
    "! [ -e /content ] && pip install -Uqq geowrangler"
   ]
  },
  {
   "cell_type": "code",
   "execution_count": null,
   "id": "8dadc39a-8b5f-41fc-9e78-e62f710ae0bb",
   "metadata": {},
   "outputs": [],
   "source": [
    "#| include: false\n",
    "#| no_test\n",
    "!mkdir -p ../data\n",
    "![ -e /content ] && ln -s ../data ."
   ]
  },
  {
   "cell_type": "code",
   "execution_count": null,
   "id": "f59a0b84-0de7-414a-be2e-3e5d3b94b000",
   "metadata": {},
   "outputs": [],
   "source": [
    "#| include: false\n",
    "#| no_test\n",
    "%reload_ext autoreload\n",
    "%autoreload 2\n",
    "%matplotlib inline"
   ]
  },
  {
   "cell_type": "markdown",
   "id": "zhqGVIF5uOmX",
   "metadata": {},
   "source": [
    "## Summary\n",
    "\n",
    "This **Use Case Demo** shows how to use the [_geowrangler.datasets.ookla_](./datasets_ookla.html) and the [*geowrangler.area_zonal_stats*](./area_zonal_stats.html) modules to find the slowest/fastest internet speeds within an area or region of interest.\n"
   ]
  },
  {
   "cell_type": "markdown",
   "id": "a35ac6cb-a246-42ca-bd3e-730d941a2485",
   "metadata": {},
   "source": [
    "### How geowrangler can make this process easier\n",
    "\n",
    "Geowrangler can:\n",
    "\n",
    "* Validate your geodataframes\n",
    "* Help you download Ookla data (internet speed)\n",
    "* Generate zonal stats for your province/town"
   ]
  },
  {
   "cell_type": "markdown",
   "id": "5c5d1045-d556-4c29-8d60-05708fd86f22",
   "metadata": {},
   "source": [
    "### What you need to do\n",
    "\n",
    "* Get your AOIs (areas of interest) - get the boundaries of your administrative regions\n",
    "* Download ookla data\n",
    "* Validate AOIs and ookla data\n",
    "* Generate zonal Stats\n",
    "* Analyze and find fastest/slowest internet speeds"
   ]
  },
  {
   "cell_type": "markdown",
   "id": "0G_7-gWfuXS7",
   "metadata": {},
   "source": [
    "## Tutorial "
   ]
  },
  {
   "cell_type": "markdown",
   "id": "51f2d0d2-560b-4658-9482-0cbdef28adbd",
   "metadata": {},
   "source": [
    "\n",
    "### Import libraries\n",
    "\n",
    "Lets start by importing the required libraries"
   ]
  },
  {
   "cell_type": "code",
   "execution_count": null,
   "id": "cc74ec47-221e-4fab-92ad-996dc9834061",
   "metadata": {},
   "outputs": [],
   "source": [
    "import geopandas as gpd\n",
    "import matplotlib.pyplot as plt\n",
    "import pandas as pd\n",
    "\n",
    "import geowrangler.area_zonal_stats as azs"
   ]
  },
  {
   "cell_type": "code",
   "execution_count": null,
   "id": "c21bd544-9329-46a4-a779-dc88007218a0",
   "metadata": {},
   "outputs": [],
   "source": [
    "#| include: false\n",
    "pd.set_option(\"display.max_columns\", 500)\n",
    "pd.set_option(\"display.width\", 1000)"
   ]
  },
  {
   "cell_type": "code",
   "execution_count": null,
   "id": "e0a7872a-e5be-4b3f-a7ae-f9d77c36f4f6",
   "metadata": {},
   "outputs": [],
   "source": [
    "#| include: false\n",
    "#| no_test\n",
    "!mkdir -p ../data"
   ]
  },
  {
   "cell_type": "markdown",
   "id": "agheFrwBubQx",
   "metadata": {},
   "source": [
    "### Download Admin Areas\n",
    "\n",
    "Next, we get the administrative boundaries geodataset using [data from Humanitarian Data Exchange](https://data.humdata.org/dataset/cod-ab-phl)  "
   ]
  },
  {
   "cell_type": "markdown",
   "id": "0e29c3d3-61ed-448a-bbe6-ef1dff404a85",
   "metadata": {},
   "source": [
    "#### Set Region Filter\n",
    ":::{.callout-important}\n",
    "\n",
    "Setting the region filter to `None` will compute the zonal stats for the whole Philippines and can take a lot longer than for a region.\n",
    "\n",
    ":::\n",
    "\n",
    "Set the **REGION_FILTER** to your Region (or `None` for the whole Philippines)."
   ]
  },
  {
   "cell_type": "code",
   "execution_count": null,
   "id": "15d927a7-5137-46bf-8dca-81c4abf77b5b",
   "metadata": {},
   "outputs": [],
   "source": [
    "# REGION_FILTER = None  # All regions\n",
    "REGION_FILTER = \"National Capital Region (NCR)\"  # limit to 1 to speed up processin"
   ]
  },
  {
   "cell_type": "markdown",
   "id": "e3311c7c-cd87-4ab0-a210-dd49c3c31705",
   "metadata": {},
   "source": [
    "Download the geodataset containing the admin areas of your country.\n",
    "\n",
    "Here we are using the data for the Philippines."
   ]
  },
  {
   "cell_type": "code",
   "execution_count": null,
   "id": "2f1f58e5-f202-43a9-807a-25958dc15b56",
   "metadata": {},
   "outputs": [],
   "source": [
    "#| no_test\n",
    "phl_admin_file = \"phl_adminboundaries\"\n",
    "phl_admin_zip = f\"{phl_admin_file}.zip\"\n",
    "# shapefiles\n",
    "phl_admin_link = f\"https://data.humdata.org/dataset/caf116df-f984-4deb-85ca-41b349d3f313/resource/12457689-6a86-4474-8032-5ca9464d38a8/download/phl_adm_psa_namria_20231106_shp.zip\""
   ]
  },
  {
   "cell_type": "markdown",
   "id": "27b5a30e-ab0a-4224-9009-f562e6ac56b8",
   "metadata": {},
   "source": [
    "Download the zipped file. Depending on your internet connection, it can take several minutes."
   ]
  },
  {
   "cell_type": "code",
   "execution_count": null,
   "id": "7c0dab3f-9f36-4eac-9e15-ed42c39a824b",
   "metadata": {},
   "outputs": [
    {
     "name": "stdout",
     "output_type": "stream",
     "text": [
      "CPU times: user 901 µs, sys: 2.68 ms, total: 3.59 ms\n",
      "Wall time: 279 ms\n"
     ]
    }
   ],
   "source": [
    "%%time\n",
    "#| no_test\n",
    "![ ! -e ../data/{phl_admin_zip} ] && curl -L -o ../data/{phl_admin_zip} {phl_admin_link}"
   ]
  },
  {
   "cell_type": "code",
   "execution_count": null,
   "id": "c1ef633d-e4be-4eab-bbae-d16f052c38f5",
   "metadata": {},
   "outputs": [],
   "source": [
    "!mkdir -p ../data/{phl_admin_file}"
   ]
  },
  {
   "cell_type": "code",
   "execution_count": null,
   "id": "c3fac509-20ce-40a5-8bea-97775a4393f7",
   "metadata": {},
   "outputs": [],
   "source": [
    "main_file = \"phl_admbnda_adm3_psa_namria_20231106\"\n",
    "phl_admin3_shp = f\"../data/{phl_admin_file}/{main_file}.shp\""
   ]
  },
  {
   "cell_type": "code",
   "execution_count": null,
   "id": "a7db3cef-6123-4d52-af11-3f0f70eb14aa",
   "metadata": {},
   "outputs": [
    {
     "name": "stdout",
     "output_type": "stream",
     "text": [
      "CPU times: user 907 µs, sys: 2.5 ms, total: 3.41 ms\n",
      "Wall time: 279 ms\n"
     ]
    }
   ],
   "source": [
    "%%time\n",
    "![ ! -e {phl_admin3_shp} ] && unzip -d ../data/{phl_admin_file} ../data/{phl_admin_zip}"
   ]
  },
  {
   "cell_type": "markdown",
   "id": "8c480eb0-a0cf-4962-be92-b3522dd3017d",
   "metadata": {},
   "source": [
    "Load the admin area geo dataset. \n",
    "\n",
    "In our example we are loading the `.shp` or shape file as a geopandas dataframe."
   ]
  },
  {
   "cell_type": "code",
   "execution_count": null,
   "id": "1d66af46-02d8-496a-9fd7-fe597cb927ac",
   "metadata": {},
   "outputs": [
    {
     "name": "stdout",
     "output_type": "stream",
     "text": [
      "loading ../data/phl_adminboundaries/phl_admbnda_adm3_psa_namria_20231106.shp\n",
      "CPU times: user 245 ms, sys: 68.7 ms, total: 313 ms\n",
      "Wall time: 327 ms\n"
     ]
    }
   ],
   "source": [
    "%%time\n",
    "print(f\"loading {phl_admin3_shp}\")\n",
    "admin3 = gpd.read_file(phl_admin3_shp)"
   ]
  },
  {
   "cell_type": "code",
   "execution_count": null,
   "id": "41e18049-3aba-4b81-a2a3-e0948eb11927",
   "metadata": {},
   "outputs": [
    {
     "data": {
      "text/html": [
       "<div>\n",
       "<style scoped>\n",
       "    .dataframe tbody tr th:only-of-type {\n",
       "        vertical-align: middle;\n",
       "    }\n",
       "\n",
       "    .dataframe tbody tr th {\n",
       "        vertical-align: top;\n",
       "    }\n",
       "\n",
       "    .dataframe thead th {\n",
       "        text-align: right;\n",
       "    }\n",
       "</style>\n",
       "<table border=\"1\" class=\"dataframe\">\n",
       "  <thead>\n",
       "    <tr style=\"text-align: right;\">\n",
       "      <th></th>\n",
       "      <th>ADM3_EN</th>\n",
       "      <th>ADM3_PCODE</th>\n",
       "      <th>ADM2_EN</th>\n",
       "      <th>ADM2_PCODE</th>\n",
       "      <th>ADM1_EN</th>\n",
       "      <th>ADM1_PCODE</th>\n",
       "      <th>ADM0_EN</th>\n",
       "      <th>ADM0_PCODE</th>\n",
       "      <th>date</th>\n",
       "      <th>validOn</th>\n",
       "      <th>validTo</th>\n",
       "      <th>ADM3_REF</th>\n",
       "      <th>ADM3ALT1EN</th>\n",
       "      <th>Shape_Leng</th>\n",
       "      <th>Shape_Area</th>\n",
       "      <th>AREA_SQKM</th>\n",
       "      <th>geometry</th>\n",
       "    </tr>\n",
       "  </thead>\n",
       "  <tbody>\n",
       "    <tr>\n",
       "      <th>0</th>\n",
       "      <td>Adams</td>\n",
       "      <td>PH0102801</td>\n",
       "      <td>Ilocos Norte</td>\n",
       "      <td>PH01028</td>\n",
       "      <td>Region I (Ilocos Region)</td>\n",
       "      <td>PH01</td>\n",
       "      <td>Philippines (the)</td>\n",
       "      <td>PH</td>\n",
       "      <td>2022-11-09</td>\n",
       "      <td>2023-11-06</td>\n",
       "      <td>0000/00/00</td>\n",
       "      <td>None</td>\n",
       "      <td>None</td>\n",
       "      <td>0.423604</td>\n",
       "      <td>0.009506</td>\n",
       "      <td>111.143026</td>\n",
       "      <td>POLYGON ((120.96915 18.51012, 120.95867 18.463...</td>\n",
       "    </tr>\n",
       "    <tr>\n",
       "      <th>1</th>\n",
       "      <td>Bacarra</td>\n",
       "      <td>PH0102802</td>\n",
       "      <td>Ilocos Norte</td>\n",
       "      <td>PH01028</td>\n",
       "      <td>Region I (Ilocos Region)</td>\n",
       "      <td>PH01</td>\n",
       "      <td>Philippines (the)</td>\n",
       "      <td>PH</td>\n",
       "      <td>2022-11-09</td>\n",
       "      <td>2023-11-06</td>\n",
       "      <td>0000/00/00</td>\n",
       "      <td>None</td>\n",
       "      <td>None</td>\n",
       "      <td>0.309136</td>\n",
       "      <td>0.004725</td>\n",
       "      <td>55.303195</td>\n",
       "      <td>POLYGON ((120.66821 18.28705, 120.66441 18.282...</td>\n",
       "    </tr>\n",
       "    <tr>\n",
       "      <th>2</th>\n",
       "      <td>Badoc</td>\n",
       "      <td>PH0102803</td>\n",
       "      <td>Ilocos Norte</td>\n",
       "      <td>PH01028</td>\n",
       "      <td>Region I (Ilocos Region)</td>\n",
       "      <td>PH01</td>\n",
       "      <td>Philippines (the)</td>\n",
       "      <td>PH</td>\n",
       "      <td>2022-11-09</td>\n",
       "      <td>2023-11-06</td>\n",
       "      <td>0000/00/00</td>\n",
       "      <td>None</td>\n",
       "      <td>None</td>\n",
       "      <td>0.599295</td>\n",
       "      <td>0.006880</td>\n",
       "      <td>80.683970</td>\n",
       "      <td>POLYGON ((120.47814 17.97717, 120.47816 17.977...</td>\n",
       "    </tr>\n",
       "    <tr>\n",
       "      <th>3</th>\n",
       "      <td>Bangui</td>\n",
       "      <td>PH0102804</td>\n",
       "      <td>Ilocos Norte</td>\n",
       "      <td>PH01028</td>\n",
       "      <td>Region I (Ilocos Region)</td>\n",
       "      <td>PH01</td>\n",
       "      <td>Philippines (the)</td>\n",
       "      <td>PH</td>\n",
       "      <td>2022-11-09</td>\n",
       "      <td>2023-11-06</td>\n",
       "      <td>0000/00/00</td>\n",
       "      <td>None</td>\n",
       "      <td>None</td>\n",
       "      <td>0.483066</td>\n",
       "      <td>0.009843</td>\n",
       "      <td>115.059041</td>\n",
       "      <td>POLYGON ((120.81318 18.53457, 120.81358 18.533...</td>\n",
       "    </tr>\n",
       "    <tr>\n",
       "      <th>4</th>\n",
       "      <td>City of Batac</td>\n",
       "      <td>PH0102805</td>\n",
       "      <td>Ilocos Norte</td>\n",
       "      <td>PH01028</td>\n",
       "      <td>Region I (Ilocos Region)</td>\n",
       "      <td>PH01</td>\n",
       "      <td>Philippines (the)</td>\n",
       "      <td>PH</td>\n",
       "      <td>2022-11-09</td>\n",
       "      <td>2023-11-06</td>\n",
       "      <td>0000/00/00</td>\n",
       "      <td>None</td>\n",
       "      <td>None</td>\n",
       "      <td>0.613500</td>\n",
       "      <td>0.013493</td>\n",
       "      <td>158.123132</td>\n",
       "      <td>POLYGON ((120.61242 18.10947, 120.612 18.10679...</td>\n",
       "    </tr>\n",
       "  </tbody>\n",
       "</table>\n",
       "</div>"
      ],
      "text/plain": [
       "         ADM3_EN ADM3_PCODE       ADM2_EN ADM2_PCODE                   ADM1_EN ADM1_PCODE            ADM0_EN ADM0_PCODE       date    validOn     validTo ADM3_REF ADM3ALT1EN  Shape_Leng  Shape_Area   AREA_SQKM                                           geometry\n",
       "0          Adams  PH0102801  Ilocos Norte    PH01028  Region I (Ilocos Region)       PH01  Philippines (the)         PH 2022-11-09 2023-11-06  0000/00/00     None       None    0.423604    0.009506  111.143026  POLYGON ((120.96915 18.51012, 120.95867 18.463...\n",
       "1        Bacarra  PH0102802  Ilocos Norte    PH01028  Region I (Ilocos Region)       PH01  Philippines (the)         PH 2022-11-09 2023-11-06  0000/00/00     None       None    0.309136    0.004725   55.303195  POLYGON ((120.66821 18.28705, 120.66441 18.282...\n",
       "2          Badoc  PH0102803  Ilocos Norte    PH01028  Region I (Ilocos Region)       PH01  Philippines (the)         PH 2022-11-09 2023-11-06  0000/00/00     None       None    0.599295    0.006880   80.683970  POLYGON ((120.47814 17.97717, 120.47816 17.977...\n",
       "3         Bangui  PH0102804  Ilocos Norte    PH01028  Region I (Ilocos Region)       PH01  Philippines (the)         PH 2022-11-09 2023-11-06  0000/00/00     None       None    0.483066    0.009843  115.059041  POLYGON ((120.81318 18.53457, 120.81358 18.533...\n",
       "4  City of Batac  PH0102805  Ilocos Norte    PH01028  Region I (Ilocos Region)       PH01  Philippines (the)         PH 2022-11-09 2023-11-06  0000/00/00     None       None    0.613500    0.013493  158.123132  POLYGON ((120.61242 18.10947, 120.612 18.10679..."
      ]
     },
     "execution_count": null,
     "metadata": {},
     "output_type": "execute_result"
    }
   ],
   "source": [
    "admin3.head()"
   ]
  },
  {
   "cell_type": "code",
   "execution_count": null,
   "id": "cfdb6f7f-fa54-47bc-8f8d-cb2544963d5d",
   "metadata": {},
   "outputs": [
    {
     "data": {
      "text/plain": [
       "['ADM3_EN',\n",
       " 'ADM3_PCODE',\n",
       " 'ADM2_EN',\n",
       " 'ADM2_PCODE',\n",
       " 'ADM1_EN',\n",
       " 'ADM1_PCODE',\n",
       " 'ADM0_EN',\n",
       " 'ADM0_PCODE',\n",
       " 'date',\n",
       " 'validOn',\n",
       " 'validTo',\n",
       " 'ADM3_REF',\n",
       " 'ADM3ALT1EN',\n",
       " 'Shape_Leng',\n",
       " 'Shape_Area',\n",
       " 'AREA_SQKM',\n",
       " 'geometry']"
      ]
     },
     "execution_count": null,
     "metadata": {},
     "output_type": "execute_result"
    }
   ],
   "source": [
    "list(admin3.columns.values)"
   ]
  },
  {
   "cell_type": "code",
   "execution_count": null,
   "id": "9f08fb29-2e3b-4ccb-a5b6-36394e79fe22",
   "metadata": {},
   "outputs": [
    {
     "data": {
      "text/plain": [
       "array(['Region I (Ilocos Region)', 'Region II (Cagayan Valley)',\n",
       "       'Region III (Central Luzon)', 'Region IV-A (Calabarzon)',\n",
       "       'Region V (Bicol Region)', 'Region VI (Western Visayas)',\n",
       "       'Region VII (Central Visayas)', 'Region VIII (Eastern Visayas)',\n",
       "       'Region IX (Zamboanga Peninsula)', 'Region X (Northern Mindanao)',\n",
       "       'Region XI (Davao Region)', 'Region XII (Soccsksargen)',\n",
       "       'National Capital Region (NCR)',\n",
       "       'Cordillera Administrative Region (CAR)', 'Region XIII (Caraga)',\n",
       "       'Mimaropa Region',\n",
       "       'Bangsamoro Autonomous Region In Muslim Mindanao (BARMM)'],\n",
       "      dtype=object)"
      ]
     },
     "execution_count": null,
     "metadata": {},
     "output_type": "execute_result"
    }
   ],
   "source": [
    "admin3.ADM1_EN.unique()"
   ]
  },
  {
   "cell_type": "markdown",
   "id": "1200f2ed-cece-454d-9dbc-69d5c492d56a",
   "metadata": {},
   "source": [
    "Limit the admin regions to only 1 in order to make the process run faster. \n",
    "\n",
    "The **REGION FILTER** is set in the [Set Region Filter Section](#Set-Region-Filter)"
   ]
  },
  {
   "cell_type": "code",
   "execution_count": null,
   "id": "27290d99-847d-4696-a081-601562a26ced",
   "metadata": {},
   "outputs": [],
   "source": [
    "if REGION_FILTER:\n",
    "    admin3 = admin3[admin3.ADM1_EN == REGION_FILTER]"
   ]
  },
  {
   "cell_type": "code",
   "execution_count": null,
   "id": "bdf663f2-b0db-47b6-846f-03370d832d67",
   "metadata": {},
   "outputs": [],
   "source": [
    "import matplotlib.pyplot as plt"
   ]
  },
  {
   "cell_type": "code",
   "execution_count": null,
   "id": "e7b2e213-83a1-4682-98ac-389e0b05c0d6",
   "metadata": {},
   "outputs": [
    {
     "data": {
      "image/png": "[encoded data removed]",
      "text/plain": [
       "<Figure size 640x480 with 1 Axes>"
      ]
     },
     "metadata": {},
     "output_type": "display_data"
    }
   ],
   "source": [
    "ax = plt.axes()\n",
    "ax = admin3.plot(ax=ax, facecolor=\"none\", edgecolor=\"blue\")"
   ]
  },
  {
   "cell_type": "markdown",
   "id": "80237cf9-2ff7-4298-914b-96a460ef4b22",
   "metadata": {},
   "source": [
    "![Admin 3 Levels for NCR](images/admin3-ncr.png)"
   ]
  },
  {
   "cell_type": "code",
   "execution_count": null,
   "id": "a37aa20a-82b1-43af-944c-bb77d18eb8e1",
   "metadata": {},
   "outputs": [],
   "source": [
    "#| include: false\n",
    "# uncomment the statement below to show an interactive map\n",
    "# admin3.explore(tooltip='ADM3_EN')"
   ]
  },
  {
   "cell_type": "code",
   "execution_count": null,
   "id": "91a038e7-1305-4046-a616-0227422fd927",
   "metadata": {},
   "outputs": [
    {
     "name": "stdout",
     "output_type": "stream",
     "text": [
      "CPU times: user 22.8 ms, sys: 1.43 ms, total: 24.2 ms\n",
      "Wall time: 23.7 ms\n"
     ]
    },
    {
     "data": {
      "image/png": "[encoded data removed]",
      "text/plain": [
       "<Figure size 640x480 with 1 Axes>"
      ]
     },
     "metadata": {},
     "output_type": "display_data"
    }
   ],
   "source": [
    "%%time\n",
    "ax = plt.axes()\n",
    "ax = admin3[admin3.ADM3_EN == \"Pateros\"].plot(ax=ax, facecolor=\"none\", edgecolor=\"blue\")"
   ]
  },
  {
   "cell_type": "code",
   "execution_count": null,
   "id": "21841988-833f-4ce9-8bc9-fdb1d46274f9",
   "metadata": {},
   "outputs": [
    {
     "data": {
      "text/plain": [
       "<Geographic 2D CRS: EPSG:4326>\n",
       "Name: WGS 84\n",
       "Axis Info [ellipsoidal]:\n",
       "- Lat[north]: Geodetic latitude (degree)\n",
       "- Lon[east]: Geodetic longitude (degree)\n",
       "Area of Use:\n",
       "- name: World.\n",
       "- bounds: (-180.0, -90.0, 180.0, 90.0)\n",
       "Datum: World Geodetic System 1984 ensemble\n",
       "- Ellipsoid: WGS 84\n",
       "- Prime Meridian: Greenwich"
      ]
     },
     "execution_count": null,
     "metadata": {},
     "output_type": "execute_result"
    }
   ],
   "source": [
    "admin3.crs"
   ]
  },
  {
   "cell_type": "code",
   "execution_count": null,
   "id": "4d177300-62d1-475e-bd63-1ab9005bb366",
   "metadata": {},
   "outputs": [
    {
     "data": {
      "text/plain": [
       "array([120.90639543,  14.35172957, 121.13503641,  14.78529173])"
      ]
     },
     "execution_count": null,
     "metadata": {},
     "output_type": "execute_result"
    }
   ],
   "source": [
    "admin3.total_bounds"
   ]
  },
  {
   "cell_type": "code",
   "execution_count": null,
   "id": "f84652a6-2edc-4815-a398-1f84d7e47fae",
   "metadata": {},
   "outputs": [
    {
     "data": {
      "text/plain": [
       "17"
      ]
     },
     "execution_count": null,
     "metadata": {},
     "output_type": "execute_result"
    }
   ],
   "source": [
    "len(admin3)"
   ]
  },
  {
   "cell_type": "markdown",
   "id": "TVghj-icvEFT",
   "metadata": {},
   "source": [
    "### Download Ookla data\n",
    "\n",
    "Use the `geowrangler.datasets.ookla` module to explore and download ookla (internet speed) data"
   ]
  },
  {
   "cell_type": "code",
   "execution_count": null,
   "id": "6f4e629a-6189-4020-af5d-8c794a26306e",
   "metadata": {},
   "outputs": [],
   "source": [
    "from geowrangler.datasets import ookla"
   ]
  },
  {
   "cell_type": "markdown",
   "id": "870f6687-f320-4073-a8fe-2b436e082f14",
   "metadata": {},
   "source": [
    "List the publically available ookla datasets"
   ]
  },
  {
   "cell_type": "code",
   "execution_count": null,
   "id": "0c0791a1-5002-471e-99c6-aef6c378a519",
   "metadata": {},
   "outputs": [
    {
     "name": "stdout",
     "output_type": "stream",
     "text": [
      "CPU times: user 34.2 ms, sys: 2.73 ms, total: 36.9 ms\n",
      "Wall time: 639 ms\n"
     ]
    },
    {
     "data": {
      "text/plain": [
       "{OoklaQuarter(type='fixed', year='2019', quarter='1'): '2019-01-01_performance_fixed_tiles.parquet',\n",
       " OoklaQuarter(type='fixed', year='2019', quarter='2'): '2019-04-01_performance_fixed_tiles.parquet',\n",
       " OoklaQuarter(type='fixed', year='2019', quarter='3'): '2019-07-01_performance_fixed_tiles.parquet',\n",
       " OoklaQuarter(type='fixed', year='2019', quarter='4'): '2019-10-01_performance_fixed_tiles.parquet',\n",
       " OoklaQuarter(type='fixed', year='2020', quarter='1'): '2020-01-01_performance_fixed_tiles.parquet',\n",
       " OoklaQuarter(type='fixed', year='2020', quarter='2'): '2020-04-01_performance_fixed_tiles.parquet',\n",
       " OoklaQuarter(type='fixed', year='2020', quarter='3'): '2020-07-01_performance_fixed_tiles.parquet',\n",
       " OoklaQuarter(type='fixed', year='2020', quarter='4'): '2020-10-01_performance_fixed_tiles.parquet',\n",
       " OoklaQuarter(type='fixed', year='2021', quarter='1'): '2021-01-01_performance_fixed_tiles.parquet',\n",
       " OoklaQuarter(type='fixed', year='2021', quarter='2'): '2021-04-01_performance_fixed_tiles.parquet',\n",
       " OoklaQuarter(type='fixed', year='2021', quarter='3'): '2021-07-01_performance_fixed_tiles.parquet',\n",
       " OoklaQuarter(type='fixed', year='2021', quarter='4'): '2021-10-01_performance_fixed_tiles.parquet',\n",
       " OoklaQuarter(type='fixed', year='2022', quarter='1'): '2022-01-01_performance_fixed_tiles.parquet',\n",
       " OoklaQuarter(type='fixed', year='2022', quarter='2'): '2022-04-01_performance_fixed_tiles.parquet',\n",
       " OoklaQuarter(type='fixed', year='2022', quarter='3'): '2022-07-01_performance_fixed_tiles.parquet',\n",
       " OoklaQuarter(type='fixed', year='2022', quarter='4'): '2022-10-01_performance_fixed_tiles.parquet',\n",
       " OoklaQuarter(type='fixed', year='2023', quarter='1'): '2023-01-01_performance_fixed_tiles.parquet',\n",
       " OoklaQuarter(type='fixed', year='2023', quarter='2'): '2023-04-01_performance_fixed_tiles.parquet',\n",
       " OoklaQuarter(type='fixed', year='2023', quarter='3'): '2023-07-01_performance_fixed_tiles.parquet',\n",
       " OoklaQuarter(type='fixed', year='2023', quarter='4'): '2023-10-01_performance_fixed_tiles.parquet',\n",
       " OoklaQuarter(type='fixed', year='2024', quarter='1'): '2024-01-01_performance_fixed_tiles.parquet',\n",
       " OoklaQuarter(type='fixed', year='2024', quarter='2'): '2024-04-01_performance_fixed_tiles.parquet',\n",
       " OoklaQuarter(type='mobile', year='2019', quarter='1'): '2019-01-01_performance_mobile_tiles.parquet',\n",
       " OoklaQuarter(type='mobile', year='2019', quarter='2'): '2019-04-01_performance_mobile_tiles.parquet',\n",
       " OoklaQuarter(type='mobile', year='2019', quarter='3'): '2019-07-01_performance_mobile_tiles.parquet',\n",
       " OoklaQuarter(type='mobile', year='2019', quarter='4'): '2019-10-01_performance_mobile_tiles.parquet',\n",
       " OoklaQuarter(type='mobile', year='2020', quarter='1'): '2020-01-01_performance_mobile_tiles.parquet',\n",
       " OoklaQuarter(type='mobile', year='2020', quarter='2'): '2020-04-01_performance_mobile_tiles.parquet',\n",
       " OoklaQuarter(type='mobile', year='2020', quarter='3'): '2020-07-01_performance_mobile_tiles.parquet',\n",
       " OoklaQuarter(type='mobile', year='2020', quarter='4'): '2020-10-01_performance_mobile_tiles.parquet',\n",
       " OoklaQuarter(type='mobile', year='2021', quarter='1'): '2021-01-01_performance_mobile_tiles.parquet',\n",
       " OoklaQuarter(type='mobile', year='2021', quarter='2'): '2021-04-01_performance_mobile_tiles.parquet',\n",
       " OoklaQuarter(type='mobile', year='2021', quarter='3'): '2021-07-01_performance_mobile_tiles.parquet',\n",
       " OoklaQuarter(type='mobile', year='2021', quarter='4'): '2021-10-01_performance_mobile_tiles.parquet',\n",
       " OoklaQuarter(type='mobile', year='2022', quarter='1'): '2022-01-01_performance_mobile_tiles.parquet',\n",
       " OoklaQuarter(type='mobile', year='2022', quarter='2'): '2022-04-01_performance_mobile_tiles.parquet',\n",
       " OoklaQuarter(type='mobile', year='2022', quarter='3'): '2022-07-01_performance_mobile_tiles.parquet',\n",
       " OoklaQuarter(type='mobile', year='2022', quarter='4'): '2022-10-01_performance_mobile_tiles.parquet',\n",
       " OoklaQuarter(type='mobile', year='2023', quarter='1'): '2023-01-01_performance_mobile_tiles.parquet',\n",
       " OoklaQuarter(type='mobile', year='2023', quarter='2'): '2023-04-01_performance_mobile_tiles.parquet',\n",
       " OoklaQuarter(type='mobile', year='2023', quarter='3'): '2023-07-01_performance_mobile_tiles.parquet',\n",
       " OoklaQuarter(type='mobile', year='2023', quarter='4'): '2023-10-01_performance_mobile_tiles.parquet',\n",
       " OoklaQuarter(type='mobile', year='2024', quarter='1'): '2024-01-01_performance_mobile_tiles.parquet',\n",
       " OoklaQuarter(type='mobile', year='2024', quarter='2'): '2024-04-01_performance_mobile_tiles.parquet'}"
      ]
     },
     "execution_count": null,
     "metadata": {},
     "output_type": "execute_result"
    }
   ],
   "source": [
    "%%time\n",
    "ookla_dsets = ookla.list_ookla_files()\n",
    "ookla_dsets"
   ]
  },
  {
   "cell_type": "markdown",
   "id": "41ca630b-afc9-4d26-be6e-93945c933598",
   "metadata": {},
   "source": [
    "Download the latest data (as of the time of writing this)"
   ]
  },
  {
   "cell_type": "code",
   "execution_count": null,
   "id": "7b88c6b6-9144-41be-8cfd-bb7082da0786",
   "metadata": {},
   "outputs": [],
   "source": [
    "ookla_params = dict(year=\"2022\", quarter=\"2\", directory=\"../data\")"
   ]
  },
  {
   "cell_type": "code",
   "execution_count": null,
   "id": "df724ed7-64f7-45d5-bc7c-6a0d51d1f95f",
   "metadata": {},
   "outputs": [
    {
     "name": "stdout",
     "output_type": "stream",
     "text": [
      "CPU times: user 126 µs, sys: 63 µs, total: 189 µs\n",
      "Wall time: 139 µs\n"
     ]
    }
   ],
   "source": [
    "%%time\n",
    "ookla_fixed = ookla.download_ookla_file(type_=\"fixed\", **ookla_params)"
   ]
  },
  {
   "cell_type": "code",
   "execution_count": null,
   "id": "6a86f9a6-bd8d-451c-8ba1-7482df06eedc",
   "metadata": {},
   "outputs": [
    {
     "data": {
      "text/plain": [
       "Path('../data/2022-04-01_performance_fixed_tiles.parquet')"
      ]
     },
     "execution_count": null,
     "metadata": {},
     "output_type": "execute_result"
    }
   ],
   "source": [
    "ookla_fixed"
   ]
  },
  {
   "cell_type": "markdown",
   "id": "bf06d637-fd1e-42d2-96d8-930801a9f237",
   "metadata": {},
   "source": [
    "### Convert ookla data into a GeoDataFrame\n",
    "\n",
    "The downloaded file from ookla is not yet a geodataset, so we will h\n",
    "have to convert it into a `GeoDataFrame` suitable for use in geowrangler."
   ]
  },
  {
   "cell_type": "code",
   "execution_count": null,
   "id": "46303e4e-9dcd-4331-a4b6-f60c112a95d2",
   "metadata": {},
   "outputs": [],
   "source": [
    "import pandas as pd"
   ]
  },
  {
   "cell_type": "markdown",
   "id": "6f31d92d-b347-4150-912f-63066bde9c8c",
   "metadata": {},
   "source": [
    "The downloaded ookla data contains the internet speed data for the whole world and can take a minute or two to load.\n",
    "\n",
    "Later, we will show how to filter the data to only include the data relevant to our AOI."
   ]
  },
  {
   "cell_type": "code",
   "execution_count": null,
   "id": "752dee1f-08d6-4082-9ae6-6a59e76f9e70",
   "metadata": {},
   "outputs": [
    {
     "name": "stdout",
     "output_type": "stream",
     "text": [
      "CPU times: user 3.1 s, sys: 1.57 s, total: 4.67 s\n",
      "Wall time: 4.27 s\n"
     ]
    }
   ],
   "source": [
    "%%time\n",
    "fixed = pd.read_parquet(ookla_fixed)"
   ]
  },
  {
   "cell_type": "code",
   "execution_count": null,
   "id": "2c990ddb-065c-4bcf-a9ac-ea5a2b52f9b2",
   "metadata": {},
   "outputs": [
    {
     "data": {
      "text/plain": [
       "6598700"
      ]
     },
     "execution_count": null,
     "metadata": {},
     "output_type": "execute_result"
    }
   ],
   "source": [
    "len(fixed)"
   ]
  },
  {
   "cell_type": "code",
   "execution_count": null,
   "id": "fc1a6b26-2954-42f1-b439-1d599ad49ce2",
   "metadata": {},
   "outputs": [
    {
     "data": {
      "text/html": [
       "<div>\n",
       "<style scoped>\n",
       "    .dataframe tbody tr th:only-of-type {\n",
       "        vertical-align: middle;\n",
       "    }\n",
       "\n",
       "    .dataframe tbody tr th {\n",
       "        vertical-align: top;\n",
       "    }\n",
       "\n",
       "    .dataframe thead th {\n",
       "        text-align: right;\n",
       "    }\n",
       "</style>\n",
       "<table border=\"1\" class=\"dataframe\">\n",
       "  <thead>\n",
       "    <tr style=\"text-align: right;\">\n",
       "      <th></th>\n",
       "      <th>quadkey</th>\n",
       "      <th>tile</th>\n",
       "      <th>tile_x</th>\n",
       "      <th>tile_y</th>\n",
       "      <th>avg_d_kbps</th>\n",
       "      <th>avg_u_kbps</th>\n",
       "      <th>avg_lat_ms</th>\n",
       "      <th>avg_lat_down_ms</th>\n",
       "      <th>avg_lat_up_ms</th>\n",
       "      <th>tests</th>\n",
       "      <th>devices</th>\n",
       "    </tr>\n",
       "  </thead>\n",
       "  <tbody>\n",
       "    <tr>\n",
       "      <th>0</th>\n",
       "      <td>0022133222312322</td>\n",
       "      <td>POLYGON((-160.02685546875 70.6435894914449, -1...</td>\n",
       "      <td>-160.0241</td>\n",
       "      <td>70.6427</td>\n",
       "      <td>8324</td>\n",
       "      <td>3798</td>\n",
       "      <td>91</td>\n",
       "      <td>NaN</td>\n",
       "      <td>NaN</td>\n",
       "      <td>2</td>\n",
       "      <td>1</td>\n",
       "    </tr>\n",
       "    <tr>\n",
       "      <th>1</th>\n",
       "      <td>0022133222330100</td>\n",
       "      <td>POLYGON((-160.02685546875 70.6417687358462, -1...</td>\n",
       "      <td>-160.0241</td>\n",
       "      <td>70.6409</td>\n",
       "      <td>14972</td>\n",
       "      <td>4461</td>\n",
       "      <td>94</td>\n",
       "      <td>NaN</td>\n",
       "      <td>NaN</td>\n",
       "      <td>29</td>\n",
       "      <td>2</td>\n",
       "    </tr>\n",
       "    <tr>\n",
       "      <th>2</th>\n",
       "      <td>0022133222330201</td>\n",
       "      <td>POLYGON((-160.043334960938 70.6344840663086, -...</td>\n",
       "      <td>-160.0406</td>\n",
       "      <td>70.6336</td>\n",
       "      <td>6253</td>\n",
       "      <td>2818</td>\n",
       "      <td>91</td>\n",
       "      <td>NaN</td>\n",
       "      <td>NaN</td>\n",
       "      <td>1</td>\n",
       "      <td>1</td>\n",
       "    </tr>\n",
       "    <tr>\n",
       "      <th>3</th>\n",
       "      <td>0022202203233313</td>\n",
       "      <td>POLYGON((-179.478149414062 68.9169336615194, -...</td>\n",
       "      <td>-179.4754</td>\n",
       "      <td>68.9159</td>\n",
       "      <td>700</td>\n",
       "      <td>126</td>\n",
       "      <td>1090</td>\n",
       "      <td>NaN</td>\n",
       "      <td>NaN</td>\n",
       "      <td>1</td>\n",
       "      <td>1</td>\n",
       "    </tr>\n",
       "    <tr>\n",
       "      <th>4</th>\n",
       "      <td>0022222211003013</td>\n",
       "      <td>POLYGON((-178.884887695312 67.048162117316, -1...</td>\n",
       "      <td>-178.8821</td>\n",
       "      <td>67.0471</td>\n",
       "      <td>6617</td>\n",
       "      <td>2019</td>\n",
       "      <td>977</td>\n",
       "      <td>NaN</td>\n",
       "      <td>NaN</td>\n",
       "      <td>1</td>\n",
       "      <td>1</td>\n",
       "    </tr>\n",
       "  </tbody>\n",
       "</table>\n",
       "</div>"
      ],
      "text/plain": [
       "            quadkey                                               tile    tile_x   tile_y  avg_d_kbps  avg_u_kbps  avg_lat_ms  avg_lat_down_ms  avg_lat_up_ms  tests  devices\n",
       "0  0022133222312322  POLYGON((-160.02685546875 70.6435894914449, -1... -160.0241  70.6427        8324        3798          91              NaN            NaN      2        1\n",
       "1  0022133222330100  POLYGON((-160.02685546875 70.6417687358462, -1... -160.0241  70.6409       14972        4461          94              NaN            NaN     29        2\n",
       "2  0022133222330201  POLYGON((-160.043334960938 70.6344840663086, -... -160.0406  70.6336        6253        2818          91              NaN            NaN      1        1\n",
       "3  0022202203233313  POLYGON((-179.478149414062 68.9169336615194, -... -179.4754  68.9159         700         126        1090              NaN            NaN      1        1\n",
       "4  0022222211003013  POLYGON((-178.884887695312 67.048162117316, -1... -178.8821  67.0471        6617        2019         977              NaN            NaN      1        1"
      ]
     },
     "execution_count": null,
     "metadata": {},
     "output_type": "execute_result"
    }
   ],
   "source": [
    "fixed.head()"
   ]
  },
  {
   "cell_type": "code",
   "execution_count": null,
   "id": "374be97f-f3fc-4348-97ad-2d668a659395",
   "metadata": {},
   "outputs": [
    {
     "data": {
      "text/plain": [
       "quadkey             object\n",
       "tile                object\n",
       "tile_x             float64\n",
       "tile_y             float64\n",
       "avg_d_kbps           int64\n",
       "avg_u_kbps           int64\n",
       "avg_lat_ms           int64\n",
       "avg_lat_down_ms    float64\n",
       "avg_lat_up_ms      float64\n",
       "tests                int64\n",
       "devices              int64\n",
       "dtype: object"
      ]
     },
     "execution_count": null,
     "metadata": {},
     "output_type": "execute_result"
    }
   ],
   "source": [
    "fixed.dtypes"
   ]
  },
  {
   "cell_type": "markdown",
   "id": "01c7b194-89e0-4e71-b18f-330f28a04c09",
   "metadata": {},
   "source": [
    "The data is now a Pandas `DataFrame` but this needs to be converted to a `GeoDataFrame` by converting the `tile` column into a `geometry` with a `crs` (Coordinate Reference System).\n",
    "\n",
    "See [EPSG:4326](https://epsg.io/4326) for more details about the CRS.\n",
    "\n",
    "Converting the data can also take a minute or two."
   ]
  },
  {
   "cell_type": "code",
   "execution_count": null,
   "id": "9254e1e5-2e95-4b82-92f3-83a96c9785e8",
   "metadata": {},
   "outputs": [
    {
     "name": "stdout",
     "output_type": "stream",
     "text": [
      "CPU times: user 7.99 s, sys: 775 ms, total: 8.77 s\n",
      "Wall time: 9.25 s\n"
     ]
    }
   ],
   "source": [
    "%%time\n",
    "fixed[\"geometry\"] = gpd.GeoSeries.from_wkt(fixed.tile, crs=\"EPSG:4326\")"
   ]
  },
  {
   "cell_type": "code",
   "execution_count": null,
   "id": "dab820d6-a7a3-458d-aa9d-88d9b57de79b",
   "metadata": {},
   "outputs": [
    {
     "data": {
      "text/html": [
       "<div>\n",
       "<style scoped>\n",
       "    .dataframe tbody tr th:only-of-type {\n",
       "        vertical-align: middle;\n",
       "    }\n",
       "\n",
       "    .dataframe tbody tr th {\n",
       "        vertical-align: top;\n",
       "    }\n",
       "\n",
       "    .dataframe thead th {\n",
       "        text-align: right;\n",
       "    }\n",
       "</style>\n",
       "<table border=\"1\" class=\"dataframe\">\n",
       "  <thead>\n",
       "    <tr style=\"text-align: right;\">\n",
       "      <th></th>\n",
       "      <th>quadkey</th>\n",
       "      <th>tile</th>\n",
       "      <th>tile_x</th>\n",
       "      <th>tile_y</th>\n",
       "      <th>avg_d_kbps</th>\n",
       "      <th>avg_u_kbps</th>\n",
       "      <th>avg_lat_ms</th>\n",
       "      <th>avg_lat_down_ms</th>\n",
       "      <th>avg_lat_up_ms</th>\n",
       "      <th>tests</th>\n",
       "      <th>devices</th>\n",
       "      <th>geometry</th>\n",
       "    </tr>\n",
       "  </thead>\n",
       "  <tbody>\n",
       "    <tr>\n",
       "      <th>0</th>\n",
       "      <td>0022133222312322</td>\n",
       "      <td>POLYGON((-160.02685546875 70.6435894914449, -1...</td>\n",
       "      <td>-160.0241</td>\n",
       "      <td>70.6427</td>\n",
       "      <td>8324</td>\n",
       "      <td>3798</td>\n",
       "      <td>91</td>\n",
       "      <td>NaN</td>\n",
       "      <td>NaN</td>\n",
       "      <td>2</td>\n",
       "      <td>1</td>\n",
       "      <td>POLYGON ((-160.02686 70.64359, -160.02136 70.6...</td>\n",
       "    </tr>\n",
       "    <tr>\n",
       "      <th>1</th>\n",
       "      <td>0022133222330100</td>\n",
       "      <td>POLYGON((-160.02685546875 70.6417687358462, -1...</td>\n",
       "      <td>-160.0241</td>\n",
       "      <td>70.6409</td>\n",
       "      <td>14972</td>\n",
       "      <td>4461</td>\n",
       "      <td>94</td>\n",
       "      <td>NaN</td>\n",
       "      <td>NaN</td>\n",
       "      <td>29</td>\n",
       "      <td>2</td>\n",
       "      <td>POLYGON ((-160.02686 70.64177, -160.02136 70.6...</td>\n",
       "    </tr>\n",
       "    <tr>\n",
       "      <th>2</th>\n",
       "      <td>0022133222330201</td>\n",
       "      <td>POLYGON((-160.043334960938 70.6344840663086, -...</td>\n",
       "      <td>-160.0406</td>\n",
       "      <td>70.6336</td>\n",
       "      <td>6253</td>\n",
       "      <td>2818</td>\n",
       "      <td>91</td>\n",
       "      <td>NaN</td>\n",
       "      <td>NaN</td>\n",
       "      <td>1</td>\n",
       "      <td>1</td>\n",
       "      <td>POLYGON ((-160.04333 70.63448, -160.03784 70.6...</td>\n",
       "    </tr>\n",
       "    <tr>\n",
       "      <th>3</th>\n",
       "      <td>0022202203233313</td>\n",
       "      <td>POLYGON((-179.478149414062 68.9169336615194, -...</td>\n",
       "      <td>-179.4754</td>\n",
       "      <td>68.9159</td>\n",
       "      <td>700</td>\n",
       "      <td>126</td>\n",
       "      <td>1090</td>\n",
       "      <td>NaN</td>\n",
       "      <td>NaN</td>\n",
       "      <td>1</td>\n",
       "      <td>1</td>\n",
       "      <td>POLYGON ((-179.47815 68.91693, -179.47266 68.9...</td>\n",
       "    </tr>\n",
       "    <tr>\n",
       "      <th>4</th>\n",
       "      <td>0022222211003013</td>\n",
       "      <td>POLYGON((-178.884887695312 67.048162117316, -1...</td>\n",
       "      <td>-178.8821</td>\n",
       "      <td>67.0471</td>\n",
       "      <td>6617</td>\n",
       "      <td>2019</td>\n",
       "      <td>977</td>\n",
       "      <td>NaN</td>\n",
       "      <td>NaN</td>\n",
       "      <td>1</td>\n",
       "      <td>1</td>\n",
       "      <td>POLYGON ((-178.88489 67.04816, -178.87939 67.0...</td>\n",
       "    </tr>\n",
       "  </tbody>\n",
       "</table>\n",
       "</div>"
      ],
      "text/plain": [
       "            quadkey                                               tile    tile_x   tile_y  avg_d_kbps  avg_u_kbps  avg_lat_ms  avg_lat_down_ms  avg_lat_up_ms  tests  devices                                           geometry\n",
       "0  0022133222312322  POLYGON((-160.02685546875 70.6435894914449, -1... -160.0241  70.6427        8324        3798          91              NaN            NaN      2        1  POLYGON ((-160.02686 70.64359, -160.02136 70.6...\n",
       "1  0022133222330100  POLYGON((-160.02685546875 70.6417687358462, -1... -160.0241  70.6409       14972        4461          94              NaN            NaN     29        2  POLYGON ((-160.02686 70.64177, -160.02136 70.6...\n",
       "2  0022133222330201  POLYGON((-160.043334960938 70.6344840663086, -... -160.0406  70.6336        6253        2818          91              NaN            NaN      1        1  POLYGON ((-160.04333 70.63448, -160.03784 70.6...\n",
       "3  0022202203233313  POLYGON((-179.478149414062 68.9169336615194, -... -179.4754  68.9159         700         126        1090              NaN            NaN      1        1  POLYGON ((-179.47815 68.91693, -179.47266 68.9...\n",
       "4  0022222211003013  POLYGON((-178.884887695312 67.048162117316, -1... -178.8821  67.0471        6617        2019         977              NaN            NaN      1        1  POLYGON ((-178.88489 67.04816, -178.87939 67.0..."
      ]
     },
     "execution_count": null,
     "metadata": {},
     "output_type": "execute_result"
    }
   ],
   "source": [
    "fixed.head()"
   ]
  },
  {
   "cell_type": "code",
   "execution_count": null,
   "id": "b8164e99-2363-46b8-8a49-de1e3e882a6e",
   "metadata": {},
   "outputs": [
    {
     "name": "stdout",
     "output_type": "stream",
     "text": [
      "CPU times: user 106 ms, sys: 276 ms, total: 382 ms\n",
      "Wall time: 592 ms\n"
     ]
    }
   ],
   "source": [
    "%%time\n",
    "fixed = fixed.drop(columns=[\"tile\"])"
   ]
  },
  {
   "cell_type": "code",
   "execution_count": null,
   "id": "004e4c2e-9e6e-4bd3-81f5-2887e989255e",
   "metadata": {},
   "outputs": [
    {
     "name": "stdout",
     "output_type": "stream",
     "text": [
      "CPU times: user 161 ms, sys: 105 ms, total: 266 ms\n",
      "Wall time: 343 ms\n"
     ]
    }
   ],
   "source": [
    "%%time\n",
    "fixed = gpd.GeoDataFrame(fixed, geometry=\"geometry\", crs=\"EPSG:4326\")"
   ]
  },
  {
   "cell_type": "markdown",
   "id": "35ff62dc-5deb-4ad1-9d61-e547cdc5ea54",
   "metadata": {},
   "source": [
    "### Validate AOI and Data Geometries\n",
    "\n",
    "In order to prevent more headaches as we process and analyze geospatial datasets down the line, it is prudent to check \n",
    "that our datasets have valid geometries.\n",
    "\n",
    "We can use the `geowrangler.validation` module to check as well fix these problems."
   ]
  },
  {
   "cell_type": "code",
   "execution_count": null,
   "id": "b115aba3-8b60-41fa-b6f8-5c46bf09fc85",
   "metadata": {},
   "outputs": [],
   "source": [
    "from geowrangler.validation import GeometryValidation"
   ]
  },
  {
   "cell_type": "markdown",
   "id": "d022088a-d672-4ac4-9ad7-cc305f6f3b3c",
   "metadata": {},
   "source": [
    "#### Validate AOI"
   ]
  },
  {
   "cell_type": "code",
   "execution_count": null,
   "id": "c53ec61f-46eb-4ff9-950e-7f4800077b75",
   "metadata": {},
   "outputs": [],
   "source": [
    "admin3_gvm = GeometryValidation(admin3)"
   ]
  },
  {
   "cell_type": "code",
   "execution_count": null,
   "id": "44700266-63e5-4850-8081-b3f1358f7e51",
   "metadata": {},
   "outputs": [
    {
     "name": "stdout",
     "output_type": "stream",
     "text": [
      "CPU times: user 33 ms, sys: 2.37 ms, total: 35.4 ms\n",
      "Wall time: 35 ms\n"
     ]
    }
   ],
   "source": [
    "%%time\n",
    "valid_admin3 = admin3_gvm.validate_all()"
   ]
  },
  {
   "cell_type": "code",
   "execution_count": null,
   "id": "4bf71c9f-daac-47b6-91f0-0e661dedd7c7",
   "metadata": {},
   "outputs": [
    {
     "data": {
      "text/html": [
       "<div>\n",
       "<style scoped>\n",
       "    .dataframe tbody tr th:only-of-type {\n",
       "        vertical-align: middle;\n",
       "    }\n",
       "\n",
       "    .dataframe tbody tr th {\n",
       "        vertical-align: top;\n",
       "    }\n",
       "\n",
       "    .dataframe thead th {\n",
       "        text-align: right;\n",
       "    }\n",
       "</style>\n",
       "<table border=\"1\" class=\"dataframe\">\n",
       "  <thead>\n",
       "    <tr style=\"text-align: right;\">\n",
       "      <th></th>\n",
       "      <th>ADM3_EN</th>\n",
       "      <th>ADM3_PCODE</th>\n",
       "      <th>ADM2_EN</th>\n",
       "      <th>ADM2_PCODE</th>\n",
       "      <th>ADM1_EN</th>\n",
       "      <th>ADM1_PCODE</th>\n",
       "      <th>ADM0_EN</th>\n",
       "      <th>ADM0_PCODE</th>\n",
       "      <th>date</th>\n",
       "      <th>validOn</th>\n",
       "      <th>validTo</th>\n",
       "      <th>ADM3_REF</th>\n",
       "      <th>ADM3ALT1EN</th>\n",
       "      <th>Shape_Leng</th>\n",
       "      <th>Shape_Area</th>\n",
       "      <th>AREA_SQKM</th>\n",
       "      <th>geometry</th>\n",
       "      <th>is_not_null</th>\n",
       "      <th>is_not_self_intersecting</th>\n",
       "      <th>is_oriented_properly</th>\n",
       "      <th>is_within_crs_bounds</th>\n",
       "      <th>area_is_not_zero</th>\n",
       "    </tr>\n",
       "  </thead>\n",
       "  <tbody>\n",
       "    <tr>\n",
       "      <th>1275</th>\n",
       "      <td>City of Manila</td>\n",
       "      <td>PH1303901</td>\n",
       "      <td>Metropolitan Manila First District</td>\n",
       "      <td>PH13039</td>\n",
       "      <td>National Capital Region (NCR)</td>\n",
       "      <td>PH13</td>\n",
       "      <td>Philippines (the)</td>\n",
       "      <td>PH</td>\n",
       "      <td>2022-11-09</td>\n",
       "      <td>2023-11-06</td>\n",
       "      <td>0000/00/00</td>\n",
       "      <td>None</td>\n",
       "      <td>None</td>\n",
       "      <td>0.600152</td>\n",
       "      <td>0.003520</td>\n",
       "      <td>41.960090</td>\n",
       "      <td>POLYGON ((120.98508 14.63998, 120.98502 14.639...</td>\n",
       "      <td>True</td>\n",
       "      <td>True</td>\n",
       "      <td>False</td>\n",
       "      <td>True</td>\n",
       "      <td>True</td>\n",
       "    </tr>\n",
       "    <tr>\n",
       "      <th>1276</th>\n",
       "      <td>City of Mandaluyong</td>\n",
       "      <td>PH1307401</td>\n",
       "      <td>Metropolitan Manila Second District</td>\n",
       "      <td>PH13074</td>\n",
       "      <td>National Capital Region (NCR)</td>\n",
       "      <td>PH13</td>\n",
       "      <td>Philippines (the)</td>\n",
       "      <td>PH</td>\n",
       "      <td>2022-11-09</td>\n",
       "      <td>2023-11-06</td>\n",
       "      <td>0000/00/00</td>\n",
       "      <td>None</td>\n",
       "      <td>None</td>\n",
       "      <td>0.141520</td>\n",
       "      <td>0.000949</td>\n",
       "      <td>11.314034</td>\n",
       "      <td>POLYGON ((121.05966 14.59007, 121.05729 14.589...</td>\n",
       "      <td>True</td>\n",
       "      <td>True</td>\n",
       "      <td>False</td>\n",
       "      <td>True</td>\n",
       "      <td>True</td>\n",
       "    </tr>\n",
       "    <tr>\n",
       "      <th>1277</th>\n",
       "      <td>City of Marikina</td>\n",
       "      <td>PH1307402</td>\n",
       "      <td>Metropolitan Manila Second District</td>\n",
       "      <td>PH13074</td>\n",
       "      <td>National Capital Region (NCR)</td>\n",
       "      <td>PH13</td>\n",
       "      <td>Philippines (the)</td>\n",
       "      <td>PH</td>\n",
       "      <td>2022-11-09</td>\n",
       "      <td>2023-11-06</td>\n",
       "      <td>0000/00/00</td>\n",
       "      <td>None</td>\n",
       "      <td>None</td>\n",
       "      <td>0.257017</td>\n",
       "      <td>0.001924</td>\n",
       "      <td>22.931403</td>\n",
       "      <td>POLYGON ((121.13338 14.65369, 121.13344 14.653...</td>\n",
       "      <td>True</td>\n",
       "      <td>True</td>\n",
       "      <td>False</td>\n",
       "      <td>True</td>\n",
       "      <td>True</td>\n",
       "    </tr>\n",
       "    <tr>\n",
       "      <th>1278</th>\n",
       "      <td>City of Pasig</td>\n",
       "      <td>PH1307403</td>\n",
       "      <td>Metropolitan Manila Second District</td>\n",
       "      <td>PH13074</td>\n",
       "      <td>National Capital Region (NCR)</td>\n",
       "      <td>PH13</td>\n",
       "      <td>Philippines (the)</td>\n",
       "      <td>PH</td>\n",
       "      <td>2022-11-09</td>\n",
       "      <td>2023-11-06</td>\n",
       "      <td>0000/00/00</td>\n",
       "      <td>None</td>\n",
       "      <td>None</td>\n",
       "      <td>0.344848</td>\n",
       "      <td>0.002626</td>\n",
       "      <td>31.304225</td>\n",
       "      <td>POLYGON ((121.10188 14.62066, 121.09785 14.619...</td>\n",
       "      <td>True</td>\n",
       "      <td>True</td>\n",
       "      <td>False</td>\n",
       "      <td>True</td>\n",
       "      <td>True</td>\n",
       "    </tr>\n",
       "    <tr>\n",
       "      <th>1279</th>\n",
       "      <td>Quezon City</td>\n",
       "      <td>PH1307404</td>\n",
       "      <td>Metropolitan Manila Second District</td>\n",
       "      <td>PH13074</td>\n",
       "      <td>National Capital Region (NCR)</td>\n",
       "      <td>PH13</td>\n",
       "      <td>Philippines (the)</td>\n",
       "      <td>PH</td>\n",
       "      <td>2022-11-09</td>\n",
       "      <td>2023-11-06</td>\n",
       "      <td>0000/00/00</td>\n",
       "      <td>None</td>\n",
       "      <td>None</td>\n",
       "      <td>0.773902</td>\n",
       "      <td>0.013630</td>\n",
       "      <td>162.439224</td>\n",
       "      <td>POLYGON ((121.12563 14.71782, 121.1256 14.7178...</td>\n",
       "      <td>True</td>\n",
       "      <td>True</td>\n",
       "      <td>False</td>\n",
       "      <td>True</td>\n",
       "      <td>True</td>\n",
       "    </tr>\n",
       "  </tbody>\n",
       "</table>\n",
       "</div>"
      ],
      "text/plain": [
       "                  ADM3_EN ADM3_PCODE                              ADM2_EN ADM2_PCODE                        ADM1_EN ADM1_PCODE            ADM0_EN ADM0_PCODE       date    validOn     validTo ADM3_REF ADM3ALT1EN  Shape_Leng  Shape_Area   AREA_SQKM                                           geometry  is_not_null  is_not_self_intersecting  is_oriented_properly  is_within_crs_bounds  area_is_not_zero\n",
       "1275       City of Manila  PH1303901   Metropolitan Manila First District    PH13039  National Capital Region (NCR)       PH13  Philippines (the)         PH 2022-11-09 2023-11-06  0000/00/00     None       None    0.600152    0.003520   41.960090  POLYGON ((120.98508 14.63998, 120.98502 14.639...         True                      True                 False                  True              True\n",
       "1276  City of Mandaluyong  PH1307401  Metropolitan Manila Second District    PH13074  National Capital Region (NCR)       PH13  Philippines (the)         PH 2022-11-09 2023-11-06  0000/00/00     None       None    0.141520    0.000949   11.314034  POLYGON ((121.05966 14.59007, 121.05729 14.589...         True                      True                 False                  True              True\n",
       "1277     City of Marikina  PH1307402  Metropolitan Manila Second District    PH13074  National Capital Region (NCR)       PH13  Philippines (the)         PH 2022-11-09 2023-11-06  0000/00/00     None       None    0.257017    0.001924   22.931403  POLYGON ((121.13338 14.65369, 121.13344 14.653...         True                      True                 False                  True              True\n",
       "1278        City of Pasig  PH1307403  Metropolitan Manila Second District    PH13074  National Capital Region (NCR)       PH13  Philippines (the)         PH 2022-11-09 2023-11-06  0000/00/00     None       None    0.344848    0.002626   31.304225  POLYGON ((121.10188 14.62066, 121.09785 14.619...         True                      True                 False                  True              True\n",
       "1279          Quezon City  PH1307404  Metropolitan Manila Second District    PH13074  National Capital Region (NCR)       PH13  Philippines (the)         PH 2022-11-09 2023-11-06  0000/00/00     None       None    0.773902    0.013630  162.439224  POLYGON ((121.12563 14.71782, 121.1256 14.7178...         True                      True                 False                  True              True"
      ]
     },
     "execution_count": null,
     "metadata": {},
     "output_type": "execute_result"
    }
   ],
   "source": [
    "valid_admin3.head()"
   ]
  },
  {
   "cell_type": "code",
   "execution_count": null,
   "id": "68d77869-6013-45a4-babb-ba7c8f7f7dd7",
   "metadata": {},
   "outputs": [],
   "source": [
    "valid_cols = [\n",
    "    \"is_oriented_properly\",\n",
    "    \"is_not_null\",\n",
    "    \"is_not_self_intersecting\",\n",
    "    \"is_within_crs_bounds\",\n",
    "    \"area_is_not_zero\",\n",
    "]"
   ]
  },
  {
   "cell_type": "code",
   "execution_count": null,
   "id": "2df9d710-0de7-4904-aa1c-446430585905",
   "metadata": {},
   "outputs": [
    {
     "data": {
      "text/plain": [
       "[is_oriented_properly\n",
       " False    17\n",
       " Name: count, dtype: int64,\n",
       " is_not_null\n",
       " True    17\n",
       " Name: count, dtype: int64,\n",
       " is_not_self_intersecting\n",
       " True    17\n",
       " Name: count, dtype: int64,\n",
       " is_within_crs_bounds\n",
       " True    17\n",
       " Name: count, dtype: int64,\n",
       " area_is_not_zero\n",
       " True    17\n",
       " Name: count, dtype: int64]"
      ]
     },
     "execution_count": null,
     "metadata": {},
     "output_type": "execute_result"
    }
   ],
   "source": [
    "[valid_admin3[col].value_counts() for col in valid_cols]"
   ]
  },
  {
   "cell_type": "markdown",
   "id": "42ff040b-ae69-42aa-99bc-4c286453a16e",
   "metadata": {},
   "source": [
    "So the admin areas have their geometry _improperly oriented_ (i.e. layed out in a counter clockwise direction instead of clockwise direction) and\n",
    "this has been fixed, but passes all the other default validations."
   ]
  },
  {
   "cell_type": "code",
   "execution_count": null,
   "id": "4c70a12b-1f9b-4b4e-bd23-de32923d9ee3",
   "metadata": {},
   "outputs": [],
   "source": [
    "valid_admin3 = valid_admin3.drop(columns=valid_cols)"
   ]
  },
  {
   "cell_type": "markdown",
   "id": "6fa0cd36-7465-471e-a356-36e4c6200b63",
   "metadata": {},
   "source": [
    "#### Validate Data Geometries\n",
    "\n",
    "Before validating, let's filter the data to only those intersecting our AOI because we don't need to check all the data from around the world\n",
    "when we're only interested in our AOI.\n",
    "\n",
    "Before we validate, we need to create the spatial indexes for both the AOI and data geometries. Generating the spatial \n",
    "indexes of the data geometries can take a minute or two due to the size of the data and their geometries."
   ]
  },
  {
   "cell_type": "code",
   "execution_count": null,
   "id": "46ecadee-805a-4aa4-a7a9-e544b1f6c071",
   "metadata": {},
   "outputs": [
    {
     "name": "stdout",
     "output_type": "stream",
     "text": [
      "CPU times: user 181 µs, sys: 7 µs, total: 188 µs\n",
      "Wall time: 190 µs\n"
     ]
    },
    {
     "data": {
      "text/plain": [
       "<geopandas.sindex.SpatialIndex>"
      ]
     },
     "execution_count": null,
     "metadata": {},
     "output_type": "execute_result"
    }
   ],
   "source": [
    "%%time\n",
    "valid_admin3.geometry.sindex"
   ]
  },
  {
   "cell_type": "code",
   "execution_count": null,
   "id": "7e9b73fc-6bf4-475a-af1a-be417f15c28b",
   "metadata": {},
   "outputs": [
    {
     "name": "stdout",
     "output_type": "stream",
     "text": [
      "CPU times: user 1.31 s, sys: 1.4 s, total: 2.71 s\n",
      "Wall time: 3.52 s\n"
     ]
    },
    {
     "data": {
      "text/plain": [
       "<geopandas.sindex.SpatialIndex>"
      ]
     },
     "execution_count": null,
     "metadata": {},
     "output_type": "execute_result"
    }
   ],
   "source": [
    "%%time\n",
    "fixed.geometry.sindex"
   ]
  },
  {
   "cell_type": "markdown",
   "id": "096d88fe-aee7-4707-9bfd-ee2be87b6a14",
   "metadata": {},
   "source": [
    "Lets now filter the data (`filtered_fixed`). \n",
    "\n",
    "Filtering the data using a spatial join can also take a minute or two."
   ]
  },
  {
   "cell_type": "code",
   "execution_count": null,
   "id": "cea62825-b28e-4392-86b5-fe7423b78edf",
   "metadata": {},
   "outputs": [
    {
     "name": "stdout",
     "output_type": "stream",
     "text": [
      "CPU times: user 244 ms, sys: 587 ms, total: 830 ms\n",
      "Wall time: 1.42 s\n"
     ]
    }
   ],
   "source": [
    "%%time\n",
    "filtered_fixed = fixed.sjoin(\n",
    "    valid_admin3[[\"geometry\"]], how=\"inner\", predicate=\"intersects\"\n",
    ")"
   ]
  },
  {
   "cell_type": "code",
   "execution_count": null,
   "id": "86780b3e-62c8-4df1-ab9c-fbd85a255b3c",
   "metadata": {},
   "outputs": [],
   "source": [
    "filtered_fixed = filtered_fixed.drop(columns=[\"index_right\"])"
   ]
  },
  {
   "cell_type": "code",
   "execution_count": null,
   "id": "04acfb15-d0b6-4474-ae31-a12c6ae1c502",
   "metadata": {},
   "outputs": [],
   "source": [
    "fixed_gvm = GeometryValidation(filtered_fixed)"
   ]
  },
  {
   "cell_type": "code",
   "execution_count": null,
   "id": "cf4b88b8-6620-419c-a12f-8b150aea3ae5",
   "metadata": {},
   "outputs": [
    {
     "name": "stdout",
     "output_type": "stream",
     "text": [
      "CPU times: user 182 ms, sys: 5.59 ms, total: 188 ms\n",
      "Wall time: 202 ms\n"
     ]
    }
   ],
   "source": [
    "%%time\n",
    "valid_fixed = fixed_gvm.validate_all()"
   ]
  },
  {
   "cell_type": "code",
   "execution_count": null,
   "id": "7b64a35b-57ca-4851-b20f-dfe74993d231",
   "metadata": {},
   "outputs": [
    {
     "name": "stdout",
     "output_type": "stream",
     "text": [
      "CPU times: user 595 µs, sys: 97 µs, total: 692 µs\n",
      "Wall time: 695 µs\n"
     ]
    },
    {
     "data": {
      "text/plain": [
       "[is_oriented_properly\n",
       " False    2202\n",
       " Name: count, dtype: int64,\n",
       " is_not_null\n",
       " True    2202\n",
       " Name: count, dtype: int64,\n",
       " is_not_self_intersecting\n",
       " True    2202\n",
       " Name: count, dtype: int64,\n",
       " is_within_crs_bounds\n",
       " True    2202\n",
       " Name: count, dtype: int64,\n",
       " area_is_not_zero\n",
       " True    2202\n",
       " Name: count, dtype: int64]"
      ]
     },
     "execution_count": null,
     "metadata": {},
     "output_type": "execute_result"
    }
   ],
   "source": [
    "%%time\n",
    "[valid_fixed[col].value_counts() for col in valid_cols]"
   ]
  },
  {
   "cell_type": "markdown",
   "id": "10965d71-d154-42eb-9f24-61cdda57d1a3",
   "metadata": {},
   "source": [
    "Again the data geometries have an improperly oriented geometry and have been fixed by the validator"
   ]
  },
  {
   "cell_type": "code",
   "execution_count": null,
   "id": "85508f64-1665-4e36-b009-edc673dbbd68",
   "metadata": {},
   "outputs": [],
   "source": [
    "valid_fixed = valid_fixed.drop(columns=valid_cols)\n",
    "filtered_fixed = valid_fixed"
   ]
  },
  {
   "cell_type": "markdown",
   "id": "99561576-51a9-4212-8809-5faea6fa8c75",
   "metadata": {},
   "source": [
    "![filtered fixed ookla data](images/fixed-ookla-admin3-ncr-2020q2.png)"
   ]
  },
  {
   "cell_type": "code",
   "execution_count": null,
   "id": "840d9ff1-d470-4848-8374-fcb368b9dad8",
   "metadata": {},
   "outputs": [],
   "source": [
    "# | include: false\n",
    "# uncomment the statement below to show an interactive map\n",
    "# filtered_fixed.explore(column='avg_d_kbps', cmap='viridis', tooltip='avg_d_kbps')"
   ]
  },
  {
   "cell_type": "markdown",
   "id": "zsrOIkCtvGWV",
   "metadata": {},
   "source": [
    "\n",
    "### Generate Zonal Stats\n"
   ]
  },
  {
   "cell_type": "markdown",
   "id": "ede1073e-5d4a-4513-8ee1-ebff62d5353e",
   "metadata": {},
   "source": [
    "Lets now generate the zonal stats -- the statistics of the data we are interested in."
   ]
  },
  {
   "cell_type": "code",
   "execution_count": null,
   "id": "055c2c87-728a-4659-be9a-d39dc39e0a2c",
   "metadata": {},
   "outputs": [
    {
     "data": {
      "text/html": [
       "<div>\n",
       "<style scoped>\n",
       "    .dataframe tbody tr th:only-of-type {\n",
       "        vertical-align: middle;\n",
       "    }\n",
       "\n",
       "    .dataframe tbody tr th {\n",
       "        vertical-align: top;\n",
       "    }\n",
       "\n",
       "    .dataframe thead th {\n",
       "        text-align: right;\n",
       "    }\n",
       "</style>\n",
       "<table border=\"1\" class=\"dataframe\">\n",
       "  <thead>\n",
       "    <tr style=\"text-align: right;\">\n",
       "      <th></th>\n",
       "      <th>quadkey</th>\n",
       "      <th>tile_x</th>\n",
       "      <th>tile_y</th>\n",
       "      <th>avg_d_kbps</th>\n",
       "      <th>avg_u_kbps</th>\n",
       "      <th>avg_lat_ms</th>\n",
       "      <th>avg_lat_down_ms</th>\n",
       "      <th>avg_lat_up_ms</th>\n",
       "      <th>tests</th>\n",
       "      <th>devices</th>\n",
       "      <th>geometry</th>\n",
       "    </tr>\n",
       "  </thead>\n",
       "  <tbody>\n",
       "    <tr>\n",
       "      <th>5658690</th>\n",
       "      <td>1323030313311323</td>\n",
       "      <td>120.9238</td>\n",
       "      <td>14.7350</td>\n",
       "      <td>43033</td>\n",
       "      <td>47711</td>\n",
       "      <td>9</td>\n",
       "      <td>NaN</td>\n",
       "      <td>NaN</td>\n",
       "      <td>92</td>\n",
       "      <td>23</td>\n",
       "      <td>POLYGON ((120.92102 14.7377, 120.92102 14.7323...</td>\n",
       "    </tr>\n",
       "    <tr>\n",
       "      <th>5658692</th>\n",
       "      <td>1323030313311332</td>\n",
       "      <td>120.9293</td>\n",
       "      <td>14.7350</td>\n",
       "      <td>72579</td>\n",
       "      <td>91717</td>\n",
       "      <td>11</td>\n",
       "      <td>NaN</td>\n",
       "      <td>NaN</td>\n",
       "      <td>149</td>\n",
       "      <td>36</td>\n",
       "      <td>POLYGON ((120.92651 14.7377, 120.92651 14.7323...</td>\n",
       "    </tr>\n",
       "    <tr>\n",
       "      <th>5658693</th>\n",
       "      <td>1323030313311333</td>\n",
       "      <td>120.9348</td>\n",
       "      <td>14.7350</td>\n",
       "      <td>52572</td>\n",
       "      <td>67337</td>\n",
       "      <td>3</td>\n",
       "      <td>NaN</td>\n",
       "      <td>NaN</td>\n",
       "      <td>1</td>\n",
       "      <td>1</td>\n",
       "      <td>POLYGON ((120.93201 14.7377, 120.93201 14.7323...</td>\n",
       "    </tr>\n",
       "    <tr>\n",
       "      <th>5658698</th>\n",
       "      <td>1323030313313033</td>\n",
       "      <td>120.9128</td>\n",
       "      <td>14.7138</td>\n",
       "      <td>7615</td>\n",
       "      <td>11991</td>\n",
       "      <td>14</td>\n",
       "      <td>NaN</td>\n",
       "      <td>NaN</td>\n",
       "      <td>14</td>\n",
       "      <td>3</td>\n",
       "      <td>POLYGON ((120.91003 14.71645, 120.91003 14.711...</td>\n",
       "    </tr>\n",
       "    <tr>\n",
       "      <th>5658702</th>\n",
       "      <td>1323030313313110</td>\n",
       "      <td>120.9293</td>\n",
       "      <td>14.7297</td>\n",
       "      <td>63551</td>\n",
       "      <td>77540</td>\n",
       "      <td>14</td>\n",
       "      <td>NaN</td>\n",
       "      <td>NaN</td>\n",
       "      <td>600</td>\n",
       "      <td>69</td>\n",
       "      <td>POLYGON ((120.92651 14.73239, 120.92651 14.727...</td>\n",
       "    </tr>\n",
       "  </tbody>\n",
       "</table>\n",
       "</div>"
      ],
      "text/plain": [
       "                  quadkey    tile_x   tile_y  avg_d_kbps  avg_u_kbps  avg_lat_ms  avg_lat_down_ms  avg_lat_up_ms  tests  devices                                           geometry\n",
       "5658690  1323030313311323  120.9238  14.7350       43033       47711           9              NaN            NaN     92       23  POLYGON ((120.92102 14.7377, 120.92102 14.7323...\n",
       "5658692  1323030313311332  120.9293  14.7350       72579       91717          11              NaN            NaN    149       36  POLYGON ((120.92651 14.7377, 120.92651 14.7323...\n",
       "5658693  1323030313311333  120.9348  14.7350       52572       67337           3              NaN            NaN      1        1  POLYGON ((120.93201 14.7377, 120.93201 14.7323...\n",
       "5658698  1323030313313033  120.9128  14.7138        7615       11991          14              NaN            NaN     14        3  POLYGON ((120.91003 14.71645, 120.91003 14.711...\n",
       "5658702  1323030313313110  120.9293  14.7297       63551       77540          14              NaN            NaN    600       69  POLYGON ((120.92651 14.73239, 120.92651 14.727..."
      ]
     },
     "execution_count": null,
     "metadata": {},
     "output_type": "execute_result"
    }
   ],
   "source": [
    "filtered_fixed.head()"
   ]
  },
  {
   "cell_type": "code",
   "execution_count": null,
   "id": "43cc6792-18db-494d-ae1e-dfdafec36f96",
   "metadata": {},
   "outputs": [
    {
     "data": {
      "text/plain": [
       "['quadkey',\n",
       " 'tile_x',\n",
       " 'tile_y',\n",
       " 'avg_d_kbps',\n",
       " 'avg_u_kbps',\n",
       " 'avg_lat_ms',\n",
       " 'avg_lat_down_ms',\n",
       " 'avg_lat_up_ms',\n",
       " 'tests',\n",
       " 'devices',\n",
       " 'geometry']"
      ]
     },
     "execution_count": null,
     "metadata": {},
     "output_type": "execute_result"
    }
   ],
   "source": [
    "list(filtered_fixed.columns.values)"
   ]
  },
  {
   "cell_type": "code",
   "execution_count": null,
   "id": "3fab265e-908c-4a69-9da3-94204a8c16b8",
   "metadata": {},
   "outputs": [
    {
     "data": {
      "text/plain": [
       "2202"
      ]
     },
     "execution_count": null,
     "metadata": {},
     "output_type": "execute_result"
    }
   ],
   "source": [
    "len(filtered_fixed)"
   ]
  },
  {
   "cell_type": "markdown",
   "id": "05a94f80-c021-4ab0-ba0e-0bdaaf514752",
   "metadata": {},
   "source": [
    "Convert to planar CRS (since we are computing areas)"
   ]
  },
  {
   "cell_type": "code",
   "execution_count": null,
   "id": "0a8e14d2-4113-4387-937e-b9f5129c9557",
   "metadata": {},
   "outputs": [
    {
     "name": "stdout",
     "output_type": "stream",
     "text": [
      "CPU times: user 5.53 ms, sys: 2.28 ms, total: 7.81 ms\n",
      "Wall time: 13 ms\n"
     ]
    }
   ],
   "source": [
    "%%time\n",
    "valid_admin3 = valid_admin3.to_crs(\"EPSG:3857\")"
   ]
  },
  {
   "cell_type": "code",
   "execution_count": null,
   "id": "e8e2ff47-bba6-4a6c-9436-5988c9feeec3",
   "metadata": {},
   "outputs": [
    {
     "name": "stdout",
     "output_type": "stream",
     "text": [
      "CPU times: user 3.5 ms, sys: 1.08 ms, total: 4.58 ms\n",
      "Wall time: 4.43 ms\n"
     ]
    }
   ],
   "source": [
    "%%time\n",
    "filtered_fixed = filtered_fixed.to_crs(\"EPSG:3857\")"
   ]
  },
  {
   "cell_type": "markdown",
   "id": "64bc80d0-9639-4f88-bd8e-55dd4bee11c7",
   "metadata": {},
   "source": [
    "Lets save the files so we can retrieve them as necessary without having to reprocess them again."
   ]
  },
  {
   "cell_type": "code",
   "execution_count": null,
   "id": "93ea17d1-532b-40b7-a17a-c67d6eb27dec",
   "metadata": {},
   "outputs": [
    {
     "name": "stdout",
     "output_type": "stream",
     "text": [
      "CPU times: user 81.4 ms, sys: 3.95 ms, total: 85.3 ms\n",
      "Wall time: 87.2 ms\n"
     ]
    }
   ],
   "source": [
    "%%time\n",
    "valid_admin3.to_file(\"../data/valid_admin3.geojson\", driver=\"GeoJSON\")"
   ]
  },
  {
   "cell_type": "code",
   "execution_count": null,
   "id": "e7ee9053-5726-456d-a941-293db991c3d6",
   "metadata": {},
   "outputs": [
    {
     "name": "stdout",
     "output_type": "stream",
     "text": [
      "CPU times: user 45.2 ms, sys: 2.77 ms, total: 47.9 ms\n",
      "Wall time: 48.9 ms\n"
     ]
    }
   ],
   "source": [
    "%%time\n",
    "filtered_fixed.to_file(\"../data/filtered_fixed.geojson\", driver=\"GeoJSON\")"
   ]
  },
  {
   "cell_type": "code",
   "execution_count": null,
   "id": "d5f76eab-e106-4f26-8c1e-5ccb62d9144b",
   "metadata": {},
   "outputs": [],
   "source": [
    "# %%time\n",
    "# valid_admin3 = gpd.read_file(\"../data/valid_admin3.geojson\")"
   ]
  },
  {
   "cell_type": "code",
   "execution_count": null,
   "id": "029d9c9e-d502-499c-ab91-4cdd9ab75089",
   "metadata": {},
   "outputs": [],
   "source": [
    "# %%time\n",
    "# filtered_fixed = gpd.read_file(\"../data/filtered_fixed.geojson\")"
   ]
  },
  {
   "cell_type": "markdown",
   "id": "18564198-65c3-4218-8168-34a53265e63c",
   "metadata": {},
   "source": [
    "We want the following statistics - `mean` (aka average), `min` (minimum), `max` (maximum) and the standard deviation (`std`)\n",
    "for the 3 data columns that ookla provides - average download speed (`avg_d_kbps`), average upload speed (`avg_u_kbps`) and average latency in milliseconds (`avg_lat_ms`)"
   ]
  },
  {
   "cell_type": "code",
   "execution_count": null,
   "id": "aa1b3b4a-0ab7-4431-91d3-d2a001ac8c27",
   "metadata": {},
   "outputs": [],
   "source": [
    "funcs = [\"mean\", \"min\", \"max\", \"std\"]\n",
    "columns = [\"avg_d_kbps\", \"avg_u_kbps\", \"avg_lat_ms\"]"
   ]
  },
  {
   "cell_type": "code",
   "execution_count": null,
   "id": "9c659af8-48fb-4621-b42f-5c97622ef54c",
   "metadata": {},
   "outputs": [],
   "source": [
    "aggregations = [dict(func=funcs, column=c) for c in columns]"
   ]
  },
  {
   "cell_type": "markdown",
   "id": "d069555b-09c0-455c-baec-3afb9fe4cb6b",
   "metadata": {},
   "source": [
    "These are the aggregations to be performed for each data column"
   ]
  },
  {
   "cell_type": "code",
   "execution_count": null,
   "id": "c069d560-8c21-4c75-a0ea-5ac1e1171ee7",
   "metadata": {},
   "outputs": [
    {
     "data": {
      "text/plain": [
       "[{'func': ['mean', 'min', 'max', 'std'], 'column': 'avg_d_kbps'},\n",
       " {'func': ['mean', 'min', 'max', 'std'], 'column': 'avg_u_kbps'},\n",
       " {'func': ['mean', 'min', 'max', 'std'], 'column': 'avg_lat_ms'}]"
      ]
     },
     "execution_count": null,
     "metadata": {},
     "output_type": "execute_result"
    }
   ],
   "source": [
    "aggregations"
   ]
  },
  {
   "cell_type": "markdown",
   "id": "eb5af0bb-1da0-4f4a-b3c0-2db0dc498cf8",
   "metadata": {},
   "source": [
    "The output columns use the default `{column}_{func}` format if not explicitly specified."
   ]
  },
  {
   "cell_type": "code",
   "execution_count": null,
   "id": "00af125d-e5b2-4a7c-bdde-09dbbc73c845",
   "metadata": {},
   "outputs": [
    {
     "name": "stdout",
     "output_type": "stream",
     "text": [
      "CPU times: user 287 ms, sys: 12.5 ms, total: 300 ms\n",
      "Wall time: 304 ms\n"
     ]
    }
   ],
   "source": [
    "%%time\n",
    "aoi = azs.create_area_zonal_stats(\n",
    "    valid_admin3, filtered_fixed, aggregations=aggregations\n",
    ")"
   ]
  },
  {
   "cell_type": "markdown",
   "id": "jaQ-k7BlvI2W",
   "metadata": {},
   "source": [
    "\n",
    "### Analyze Zonal Stats\n"
   ]
  },
  {
   "cell_type": "markdown",
   "id": "afb22a09-a64b-4a94-823a-0e4d37dadd09",
   "metadata": {},
   "source": [
    "These are the results - the same dataframe as the original, with the addition of zonal statistics we specified as the aggregations."
   ]
  },
  {
   "cell_type": "code",
   "execution_count": null,
   "id": "44b4c4f4-1641-4f5a-8d37-bffbef2ae6dd",
   "metadata": {},
   "outputs": [
    {
     "data": {
      "text/html": [
       "<div>\n",
       "<style scoped>\n",
       "    .dataframe tbody tr th:only-of-type {\n",
       "        vertical-align: middle;\n",
       "    }\n",
       "\n",
       "    .dataframe tbody tr th {\n",
       "        vertical-align: top;\n",
       "    }\n",
       "\n",
       "    .dataframe thead th {\n",
       "        text-align: right;\n",
       "    }\n",
       "</style>\n",
       "<table border=\"1\" class=\"dataframe\">\n",
       "  <thead>\n",
       "    <tr style=\"text-align: right;\">\n",
       "      <th></th>\n",
       "      <th>ADM3_EN</th>\n",
       "      <th>ADM3_PCODE</th>\n",
       "      <th>ADM2_EN</th>\n",
       "      <th>ADM2_PCODE</th>\n",
       "      <th>ADM1_EN</th>\n",
       "      <th>ADM1_PCODE</th>\n",
       "      <th>ADM0_EN</th>\n",
       "      <th>ADM0_PCODE</th>\n",
       "      <th>date</th>\n",
       "      <th>validOn</th>\n",
       "      <th>validTo</th>\n",
       "      <th>ADM3_REF</th>\n",
       "      <th>ADM3ALT1EN</th>\n",
       "      <th>Shape_Leng</th>\n",
       "      <th>Shape_Area</th>\n",
       "      <th>AREA_SQKM</th>\n",
       "      <th>geometry</th>\n",
       "      <th>intersect_area_sum</th>\n",
       "      <th>avg_d_kbps_mean</th>\n",
       "      <th>avg_d_kbps_min</th>\n",
       "      <th>avg_d_kbps_max</th>\n",
       "      <th>avg_d_kbps_std</th>\n",
       "      <th>avg_u_kbps_mean</th>\n",
       "      <th>avg_u_kbps_min</th>\n",
       "      <th>avg_u_kbps_max</th>\n",
       "      <th>avg_u_kbps_std</th>\n",
       "      <th>avg_lat_ms_mean</th>\n",
       "      <th>avg_lat_ms_min</th>\n",
       "      <th>avg_lat_ms_max</th>\n",
       "      <th>avg_lat_ms_std</th>\n",
       "    </tr>\n",
       "  </thead>\n",
       "  <tbody>\n",
       "    <tr>\n",
       "      <th>1275</th>\n",
       "      <td>City of Manila</td>\n",
       "      <td>PH1303901</td>\n",
       "      <td>Metropolitan Manila First District</td>\n",
       "      <td>PH13039</td>\n",
       "      <td>National Capital Region (NCR)</td>\n",
       "      <td>PH13</td>\n",
       "      <td>Philippines (the)</td>\n",
       "      <td>PH</td>\n",
       "      <td>2022-11-09</td>\n",
       "      <td>2023-11-06</td>\n",
       "      <td>0000/00/00</td>\n",
       "      <td>None</td>\n",
       "      <td>None</td>\n",
       "      <td>0.600152</td>\n",
       "      <td>0.003520</td>\n",
       "      <td>41.960090</td>\n",
       "      <td>POLYGON ((13467997.788 1647743.669, 13467990.2...</td>\n",
       "      <td>5.319784e+07</td>\n",
       "      <td>480.501342</td>\n",
       "      <td>0.0</td>\n",
       "      <td>208079</td>\n",
       "      <td>19451.400409</td>\n",
       "      <td>401.935738</td>\n",
       "      <td>0.0</td>\n",
       "      <td>252268</td>\n",
       "      <td>21777.859621</td>\n",
       "      <td>0.042510</td>\n",
       "      <td>0.0</td>\n",
       "      <td>160</td>\n",
       "      <td>11.038219</td>\n",
       "    </tr>\n",
       "    <tr>\n",
       "      <th>1276</th>\n",
       "      <td>City of Mandaluyong</td>\n",
       "      <td>PH1307401</td>\n",
       "      <td>Metropolitan Manila Second District</td>\n",
       "      <td>PH13074</td>\n",
       "      <td>National Capital Region (NCR)</td>\n",
       "      <td>PH13</td>\n",
       "      <td>Philippines (the)</td>\n",
       "      <td>PH</td>\n",
       "      <td>2022-11-09</td>\n",
       "      <td>2023-11-06</td>\n",
       "      <td>0000/00/00</td>\n",
       "      <td>None</td>\n",
       "      <td>None</td>\n",
       "      <td>0.141520</td>\n",
       "      <td>0.000949</td>\n",
       "      <td>11.314034</td>\n",
       "      <td>POLYGON ((13476299.72 1642002.083, 13476035.58...</td>\n",
       "      <td>1.861584e+07</td>\n",
       "      <td>1556.122992</td>\n",
       "      <td>0.0</td>\n",
       "      <td>169221</td>\n",
       "      <td>19460.297726</td>\n",
       "      <td>1391.349828</td>\n",
       "      <td>0.0</td>\n",
       "      <td>192392</td>\n",
       "      <td>22225.667081</td>\n",
       "      <td>0.141840</td>\n",
       "      <td>0.0</td>\n",
       "      <td>15</td>\n",
       "      <td>2.309665</td>\n",
       "    </tr>\n",
       "    <tr>\n",
       "      <th>1277</th>\n",
       "      <td>City of Marikina</td>\n",
       "      <td>PH1307402</td>\n",
       "      <td>Metropolitan Manila Second District</td>\n",
       "      <td>PH13074</td>\n",
       "      <td>National Capital Region (NCR)</td>\n",
       "      <td>PH13</td>\n",
       "      <td>Philippines (the)</td>\n",
       "      <td>PH</td>\n",
       "      <td>2022-11-09</td>\n",
       "      <td>2023-11-06</td>\n",
       "      <td>0000/00/00</td>\n",
       "      <td>None</td>\n",
       "      <td>None</td>\n",
       "      <td>0.257017</td>\n",
       "      <td>0.001924</td>\n",
       "      <td>22.931403</td>\n",
       "      <td>POLYGON ((13484505.693 1649321.548, 13484512.7...</td>\n",
       "      <td>2.925728e+07</td>\n",
       "      <td>890.018039</td>\n",
       "      <td>0.0</td>\n",
       "      <td>144549</td>\n",
       "      <td>15060.305627</td>\n",
       "      <td>814.873754</td>\n",
       "      <td>0.0</td>\n",
       "      <td>132992</td>\n",
       "      <td>15016.269054</td>\n",
       "      <td>0.060550</td>\n",
       "      <td>0.0</td>\n",
       "      <td>22</td>\n",
       "      <td>2.928328</td>\n",
       "    </tr>\n",
       "    <tr>\n",
       "      <th>1278</th>\n",
       "      <td>City of Pasig</td>\n",
       "      <td>PH1307403</td>\n",
       "      <td>Metropolitan Manila Second District</td>\n",
       "      <td>PH13074</td>\n",
       "      <td>National Capital Region (NCR)</td>\n",
       "      <td>PH13</td>\n",
       "      <td>Philippines (the)</td>\n",
       "      <td>PH</td>\n",
       "      <td>2022-11-09</td>\n",
       "      <td>2023-11-06</td>\n",
       "      <td>0000/00/00</td>\n",
       "      <td>None</td>\n",
       "      <td>None</td>\n",
       "      <td>0.344848</td>\n",
       "      <td>0.002626</td>\n",
       "      <td>31.304225</td>\n",
       "      <td>POLYGON ((13480999.467 1645520.671, 13480550.6...</td>\n",
       "      <td>4.235474e+07</td>\n",
       "      <td>654.028552</td>\n",
       "      <td>0.0</td>\n",
       "      <td>148007</td>\n",
       "      <td>17091.663647</td>\n",
       "      <td>589.939054</td>\n",
       "      <td>0.0</td>\n",
       "      <td>142586</td>\n",
       "      <td>19958.543519</td>\n",
       "      <td>0.052444</td>\n",
       "      <td>0.0</td>\n",
       "      <td>25</td>\n",
       "      <td>3.773210</td>\n",
       "    </tr>\n",
       "    <tr>\n",
       "      <th>1279</th>\n",
       "      <td>Quezon City</td>\n",
       "      <td>PH1307404</td>\n",
       "      <td>Metropolitan Manila Second District</td>\n",
       "      <td>PH13074</td>\n",
       "      <td>National Capital Region (NCR)</td>\n",
       "      <td>PH13</td>\n",
       "      <td>Philippines (the)</td>\n",
       "      <td>PH</td>\n",
       "      <td>2022-11-09</td>\n",
       "      <td>2023-11-06</td>\n",
       "      <td>0000/00/00</td>\n",
       "      <td>None</td>\n",
       "      <td>None</td>\n",
       "      <td>0.773902</td>\n",
       "      <td>0.013630</td>\n",
       "      <td>162.439224</td>\n",
       "      <td>POLYGON ((13483643.002 1656701.652, 13483639.5...</td>\n",
       "      <td>1.744956e+08</td>\n",
       "      <td>145.327232</td>\n",
       "      <td>0.0</td>\n",
       "      <td>269544</td>\n",
       "      <td>20256.330164</td>\n",
       "      <td>133.237247</td>\n",
       "      <td>0.0</td>\n",
       "      <td>260425</td>\n",
       "      <td>20148.610313</td>\n",
       "      <td>0.011825</td>\n",
       "      <td>0.0</td>\n",
       "      <td>29</td>\n",
       "      <td>2.907006</td>\n",
       "    </tr>\n",
       "  </tbody>\n",
       "</table>\n",
       "</div>"
      ],
      "text/plain": [
       "                  ADM3_EN ADM3_PCODE                              ADM2_EN ADM2_PCODE                        ADM1_EN ADM1_PCODE            ADM0_EN ADM0_PCODE       date    validOn     validTo ADM3_REF ADM3ALT1EN  Shape_Leng  Shape_Area   AREA_SQKM                                           geometry  intersect_area_sum  avg_d_kbps_mean  avg_d_kbps_min  avg_d_kbps_max  avg_d_kbps_std  avg_u_kbps_mean  avg_u_kbps_min  avg_u_kbps_max  avg_u_kbps_std  avg_lat_ms_mean  avg_lat_ms_min  avg_lat_ms_max  avg_lat_ms_std\n",
       "1275       City of Manila  PH1303901   Metropolitan Manila First District    PH13039  National Capital Region (NCR)       PH13  Philippines (the)         PH 2022-11-09 2023-11-06  0000/00/00     None       None    0.600152    0.003520   41.960090  POLYGON ((13467997.788 1647743.669, 13467990.2...        5.319784e+07       480.501342             0.0          208079    19451.400409       401.935738             0.0          252268    21777.859621         0.042510             0.0             160       11.038219\n",
       "1276  City of Mandaluyong  PH1307401  Metropolitan Manila Second District    PH13074  National Capital Region (NCR)       PH13  Philippines (the)         PH 2022-11-09 2023-11-06  0000/00/00     None       None    0.141520    0.000949   11.314034  POLYGON ((13476299.72 1642002.083, 13476035.58...        1.861584e+07      1556.122992             0.0          169221    19460.297726      1391.349828             0.0          192392    22225.667081         0.141840             0.0              15        2.309665\n",
       "1277     City of Marikina  PH1307402  Metropolitan Manila Second District    PH13074  National Capital Region (NCR)       PH13  Philippines (the)         PH 2022-11-09 2023-11-06  0000/00/00     None       None    0.257017    0.001924   22.931403  POLYGON ((13484505.693 1649321.548, 13484512.7...        2.925728e+07       890.018039             0.0          144549    15060.305627       814.873754             0.0          132992    15016.269054         0.060550             0.0              22        2.928328\n",
       "1278        City of Pasig  PH1307403  Metropolitan Manila Second District    PH13074  National Capital Region (NCR)       PH13  Philippines (the)         PH 2022-11-09 2023-11-06  0000/00/00     None       None    0.344848    0.002626   31.304225  POLYGON ((13480999.467 1645520.671, 13480550.6...        4.235474e+07       654.028552             0.0          148007    17091.663647       589.939054             0.0          142586    19958.543519         0.052444             0.0              25        3.773210\n",
       "1279          Quezon City  PH1307404  Metropolitan Manila Second District    PH13074  National Capital Region (NCR)       PH13  Philippines (the)         PH 2022-11-09 2023-11-06  0000/00/00     None       None    0.773902    0.013630  162.439224  POLYGON ((13483643.002 1656701.652, 13483639.5...        1.744956e+08       145.327232             0.0          269544    20256.330164       133.237247             0.0          260425    20148.610313         0.011825             0.0              29        2.907006"
      ]
     },
     "execution_count": null,
     "metadata": {},
     "output_type": "execute_result"
    }
   ],
   "source": [
    "aoi.head()"
   ]
  },
  {
   "cell_type": "markdown",
   "id": "5dfab782-0707-4fea-9bc2-aae3b5e42aca",
   "metadata": {},
   "source": [
    "Lets save the results "
   ]
  },
  {
   "cell_type": "code",
   "execution_count": null,
   "id": "f303907c-62e6-40d5-9fd5-4c99ea39860a",
   "metadata": {},
   "outputs": [
    {
     "name": "stdout",
     "output_type": "stream",
     "text": [
      "CPU times: user 83.8 ms, sys: 2.89 ms, total: 86.7 ms\n",
      "Wall time: 101 ms\n"
     ]
    }
   ],
   "source": [
    "%%time\n",
    "aoi.to_file(\"../data/admin3_internet_aoi.geojson\", driver=\"GeoJSON\")"
   ]
  },
  {
   "cell_type": "code",
   "execution_count": null,
   "id": "f928d3af-9f82-4812-807d-a073d01e66b6",
   "metadata": {},
   "outputs": [
    {
     "data": {
      "text/plain": [
       "['ADM3_EN',\n",
       " 'ADM3_PCODE',\n",
       " 'ADM2_EN',\n",
       " 'ADM2_PCODE',\n",
       " 'ADM1_EN',\n",
       " 'ADM1_PCODE',\n",
       " 'ADM0_EN',\n",
       " 'ADM0_PCODE',\n",
       " 'date',\n",
       " 'validOn',\n",
       " 'validTo',\n",
       " 'ADM3_REF',\n",
       " 'ADM3ALT1EN',\n",
       " 'Shape_Leng',\n",
       " 'Shape_Area',\n",
       " 'AREA_SQKM',\n",
       " 'geometry',\n",
       " 'intersect_area_sum',\n",
       " 'avg_d_kbps_mean',\n",
       " 'avg_d_kbps_min',\n",
       " 'avg_d_kbps_max',\n",
       " 'avg_d_kbps_std',\n",
       " 'avg_u_kbps_mean',\n",
       " 'avg_u_kbps_min',\n",
       " 'avg_u_kbps_max',\n",
       " 'avg_u_kbps_std',\n",
       " 'avg_lat_ms_mean',\n",
       " 'avg_lat_ms_min',\n",
       " 'avg_lat_ms_max',\n",
       " 'avg_lat_ms_std']"
      ]
     },
     "execution_count": null,
     "metadata": {},
     "output_type": "execute_result"
    }
   ],
   "source": [
    "list(aoi.columns.values)"
   ]
  },
  {
   "cell_type": "markdown",
   "id": "7123cca8-7d36-4fe9-ad5d-1892892e2c48",
   "metadata": {},
   "source": [
    "Let's sort the different admin level 3 areas (cities/municipalities/district) by average download speed (`avg_d_kbps_mean`)  in descending order"
   ]
  },
  {
   "cell_type": "code",
   "execution_count": null,
   "id": "97099816-94c5-426b-9ce0-a94d1823e12d",
   "metadata": {},
   "outputs": [
    {
     "name": "stdout",
     "output_type": "stream",
     "text": [
      "CPU times: user 423 µs, sys: 61 µs, total: 484 µs\n",
      "Wall time: 452 µs\n"
     ]
    }
   ],
   "source": [
    "%%time\n",
    "fastest_mean_download = aoi.sort_values(\"avg_d_kbps_mean\", ascending=False)"
   ]
  },
  {
   "cell_type": "code",
   "execution_count": null,
   "id": "b79ed5ca-35fd-4486-aff8-bb6e2b3a667c",
   "metadata": {},
   "outputs": [
    {
     "data": {
      "text/plain": [
       "17"
      ]
     },
     "execution_count": null,
     "metadata": {},
     "output_type": "execute_result"
    }
   ],
   "source": [
    "len(fastest_mean_download)"
   ]
  },
  {
   "cell_type": "markdown",
   "id": "bf2ff63d-a765-4e98-b329-a9164d393de4",
   "metadata": {},
   "source": [
    "So according the latest ookla data (as of this writing) the district/town/province within the NCR Region with the fastest average download speed is **Pateros**!! :)"
   ]
  },
  {
   "cell_type": "code",
   "execution_count": null,
   "id": "f97ca617-a2fe-4891-ad0d-3de47b7ea3a8",
   "metadata": {},
   "outputs": [
    {
     "data": {
      "text/plain": [
       "ADM3_EN                                                         Pateros\n",
       "ADM3_PCODE                                                    PH1307606\n",
       "ADM2_EN                             Metropolitan Manila Fourth District\n",
       "ADM2_PCODE                                                      PH13076\n",
       "ADM1_EN                                   National Capital Region (NCR)\n",
       "ADM1_PCODE                                                         PH13\n",
       "ADM0_EN                                               Philippines (the)\n",
       "ADM0_PCODE                                                           PH\n",
       "date                                                2022-11-09 00:00:00\n",
       "validOn                                             2023-11-06 00:00:00\n",
       "validTo                                                      0000/00/00\n",
       "ADM3_REF                                                           None\n",
       "ADM3ALT1EN                                                         None\n",
       "Shape_Leng                                                     0.068193\n",
       "Shape_Area                                                     0.000135\n",
       "AREA_SQKM                                                      1.609302\n",
       "geometry              POLYGON ((13478347.724949818 1637036.020144811...\n",
       "intersect_area_sum                                        3712583.54692\n",
       "avg_d_kbps_mean                                             7583.799743\n",
       "avg_d_kbps_min                                                      0.0\n",
       "avg_d_kbps_max                                                   111120\n",
       "avg_d_kbps_std                                             14196.753913\n",
       "avg_u_kbps_mean                                             7591.256832\n",
       "avg_u_kbps_min                                                      0.0\n",
       "avg_u_kbps_max                                                   111569\n",
       "avg_u_kbps_std                                             16428.535646\n",
       "avg_lat_ms_mean                                                0.653218\n",
       "avg_lat_ms_min                                                      0.0\n",
       "avg_lat_ms_max                                                       22\n",
       "avg_lat_ms_std                                                 6.301402\n",
       "Name: 1290, dtype: object"
      ]
     },
     "execution_count": null,
     "metadata": {},
     "output_type": "execute_result"
    }
   ],
   "source": [
    "fastest_mean_download.iloc[0]"
   ]
  },
  {
   "cell_type": "markdown",
   "id": "3446ab5f-0331-46ed-88b6-544f184835b9",
   "metadata": {},
   "source": [
    "While the district/city/municipality within the NCR Regions with the slowest average download speed is **Quezon City**!!! "
   ]
  },
  {
   "cell_type": "code",
   "execution_count": null,
   "id": "7af62fe8-19a3-40fd-b4d0-2f40aeb20fdb",
   "metadata": {},
   "outputs": [
    {
     "data": {
      "text/plain": [
       "ADM3_EN                                                     Quezon City\n",
       "ADM3_PCODE                                                    PH1307404\n",
       "ADM2_EN                             Metropolitan Manila Second District\n",
       "ADM2_PCODE                                                      PH13074\n",
       "ADM1_EN                                   National Capital Region (NCR)\n",
       "ADM1_PCODE                                                         PH13\n",
       "ADM0_EN                                               Philippines (the)\n",
       "ADM0_PCODE                                                           PH\n",
       "date                                                2022-11-09 00:00:00\n",
       "validOn                                             2023-11-06 00:00:00\n",
       "validTo                                                      0000/00/00\n",
       "ADM3_REF                                                           None\n",
       "ADM3ALT1EN                                                         None\n",
       "Shape_Leng                                                     0.773902\n",
       "Shape_Area                                                      0.01363\n",
       "AREA_SQKM                                                    162.439224\n",
       "geometry              POLYGON ((13483643.001879975 1656701.652220414...\n",
       "intersect_area_sum                                     174495583.968927\n",
       "avg_d_kbps_mean                                              145.327232\n",
       "avg_d_kbps_min                                                      0.0\n",
       "avg_d_kbps_max                                                   269544\n",
       "avg_d_kbps_std                                             20256.330164\n",
       "avg_u_kbps_mean                                              133.237247\n",
       "avg_u_kbps_min                                                      0.0\n",
       "avg_u_kbps_max                                                   260425\n",
       "avg_u_kbps_std                                             20148.610313\n",
       "avg_lat_ms_mean                                                0.011825\n",
       "avg_lat_ms_min                                                      0.0\n",
       "avg_lat_ms_max                                                       29\n",
       "avg_lat_ms_std                                                 2.907006\n",
       "Name: 1279, dtype: object"
      ]
     },
     "execution_count": null,
     "metadata": {},
     "output_type": "execute_result"
    }
   ],
   "source": [
    "fastest_mean_download.iloc[-1]"
   ]
  },
  {
   "cell_type": "markdown",
   "id": "7f57df1e-4c60-4e0f-a764-6ba57bec28b4",
   "metadata": {},
   "source": [
    "The top 5 fastest areas are"
   ]
  },
  {
   "cell_type": "code",
   "execution_count": null,
   "id": "aadf0459-e05c-495e-855e-4d8cf9d60a5c",
   "metadata": {},
   "outputs": [
    {
     "data": {
      "text/html": [
       "<div>\n",
       "<style scoped>\n",
       "    .dataframe tbody tr th:only-of-type {\n",
       "        vertical-align: middle;\n",
       "    }\n",
       "\n",
       "    .dataframe tbody tr th {\n",
       "        vertical-align: top;\n",
       "    }\n",
       "\n",
       "    .dataframe thead th {\n",
       "        text-align: right;\n",
       "    }\n",
       "</style>\n",
       "<table border=\"1\" class=\"dataframe\">\n",
       "  <thead>\n",
       "    <tr style=\"text-align: right;\">\n",
       "      <th></th>\n",
       "      <th>ADM3_EN</th>\n",
       "      <th>ADM2_EN</th>\n",
       "      <th>avg_d_kbps_mean</th>\n",
       "    </tr>\n",
       "  </thead>\n",
       "  <tbody>\n",
       "    <tr>\n",
       "      <th>1290</th>\n",
       "      <td>Pateros</td>\n",
       "      <td>Metropolitan Manila Fourth District</td>\n",
       "      <td>7583.799743</td>\n",
       "    </tr>\n",
       "    <tr>\n",
       "      <th>1280</th>\n",
       "      <td>City of San Juan</td>\n",
       "      <td>Metropolitan Manila Second District</td>\n",
       "      <td>3060.079907</td>\n",
       "    </tr>\n",
       "    <tr>\n",
       "      <th>1276</th>\n",
       "      <td>City of Mandaluyong</td>\n",
       "      <td>Metropolitan Manila Second District</td>\n",
       "      <td>1556.122992</td>\n",
       "    </tr>\n",
       "    <tr>\n",
       "      <th>1283</th>\n",
       "      <td>City of Navotas</td>\n",
       "      <td>Metropolitan Manila Third District</td>\n",
       "      <td>1065.788943</td>\n",
       "    </tr>\n",
       "    <tr>\n",
       "      <th>1282</th>\n",
       "      <td>City of Malabon</td>\n",
       "      <td>Metropolitan Manila Third District</td>\n",
       "      <td>1006.571673</td>\n",
       "    </tr>\n",
       "  </tbody>\n",
       "</table>\n",
       "</div>"
      ],
      "text/plain": [
       "                  ADM3_EN                              ADM2_EN  avg_d_kbps_mean\n",
       "1290              Pateros  Metropolitan Manila Fourth District      7583.799743\n",
       "1280     City of San Juan  Metropolitan Manila Second District      3060.079907\n",
       "1276  City of Mandaluyong  Metropolitan Manila Second District      1556.122992\n",
       "1283      City of Navotas   Metropolitan Manila Third District      1065.788943\n",
       "1282      City of Malabon   Metropolitan Manila Third District      1006.571673"
      ]
     },
     "execution_count": null,
     "metadata": {},
     "output_type": "execute_result"
    }
   ],
   "source": [
    "fastest_mean_download[[\"ADM3_EN\", \"ADM2_EN\", \"avg_d_kbps_mean\"]].head()"
   ]
  },
  {
   "cell_type": "markdown",
   "id": "806ccd10-c322-4887-91f7-cedccc97a6fd",
   "metadata": {},
   "source": [
    "The top 5 slowest areas are"
   ]
  },
  {
   "cell_type": "code",
   "execution_count": null,
   "id": "175d329b-c7dc-4e0e-b2b8-4f37fd48b88c",
   "metadata": {},
   "outputs": [
    {
     "data": {
      "text/html": [
       "<div>\n",
       "<style scoped>\n",
       "    .dataframe tbody tr th:only-of-type {\n",
       "        vertical-align: middle;\n",
       "    }\n",
       "\n",
       "    .dataframe tbody tr th {\n",
       "        vertical-align: top;\n",
       "    }\n",
       "\n",
       "    .dataframe thead th {\n",
       "        text-align: right;\n",
       "    }\n",
       "</style>\n",
       "<table border=\"1\" class=\"dataframe\">\n",
       "  <thead>\n",
       "    <tr style=\"text-align: right;\">\n",
       "      <th></th>\n",
       "      <th>ADM3_EN</th>\n",
       "      <th>ADM2_EN</th>\n",
       "      <th>avg_d_kbps_mean</th>\n",
       "    </tr>\n",
       "  </thead>\n",
       "  <tbody>\n",
       "    <tr>\n",
       "      <th>1275</th>\n",
       "      <td>City of Manila</td>\n",
       "      <td>Metropolitan Manila First District</td>\n",
       "      <td>480.501342</td>\n",
       "    </tr>\n",
       "    <tr>\n",
       "      <th>1288</th>\n",
       "      <td>City of Parañaque</td>\n",
       "      <td>Metropolitan Manila Fourth District</td>\n",
       "      <td>470.097380</td>\n",
       "    </tr>\n",
       "    <tr>\n",
       "      <th>1284</th>\n",
       "      <td>City of Valenzuela</td>\n",
       "      <td>Metropolitan Manila Third District</td>\n",
       "      <td>419.877335</td>\n",
       "    </tr>\n",
       "    <tr>\n",
       "      <th>1281</th>\n",
       "      <td>Caloocan City</td>\n",
       "      <td>Metropolitan Manila Third District</td>\n",
       "      <td>311.217504</td>\n",
       "    </tr>\n",
       "    <tr>\n",
       "      <th>1279</th>\n",
       "      <td>Quezon City</td>\n",
       "      <td>Metropolitan Manila Second District</td>\n",
       "      <td>145.327232</td>\n",
       "    </tr>\n",
       "  </tbody>\n",
       "</table>\n",
       "</div>"
      ],
      "text/plain": [
       "                 ADM3_EN                              ADM2_EN  avg_d_kbps_mean\n",
       "1275      City of Manila   Metropolitan Manila First District       480.501342\n",
       "1288   City of Parañaque  Metropolitan Manila Fourth District       470.097380\n",
       "1284  City of Valenzuela   Metropolitan Manila Third District       419.877335\n",
       "1281       Caloocan City   Metropolitan Manila Third District       311.217504\n",
       "1279         Quezon City  Metropolitan Manila Second District       145.327232"
      ]
     },
     "execution_count": null,
     "metadata": {},
     "output_type": "execute_result"
    }
   ],
   "source": [
    "fastest_mean_download[[\"ADM3_EN\", \"ADM2_EN\", \"avg_d_kbps_mean\"]].tail()"
   ]
  },
  {
   "cell_type": "code",
   "execution_count": null,
   "id": "64712071-46f8-47d4-8676-b3901771c7fd",
   "metadata": {},
   "outputs": [
    {
     "data": {
      "image/png": "[encoded data removed]",
      "text/plain": [
       "<Figure size 640x480 with 1 Axes>"
      ]
     },
     "metadata": {},
     "output_type": "display_data"
    }
   ],
   "source": [
    "ax = plt.axes()\n",
    "ax = fastest_mean_download.plot(ax=ax, facecolor=\"none\", edgecolor=\"blue\")\n",
    "ax = fastest_mean_download.iloc[:1].plot(ax=ax, facecolor=\"red\", edgecolor=\"red\")\n",
    "ax = fastest_mean_download.iloc[-1:].plot(ax=ax, facecolor=\"green\", edgecolor=\"green\")"
   ]
  },
  {
   "cell_type": "markdown",
   "id": "97306eb0-1077-412e-9567-11775ea874f0",
   "metadata": {},
   "source": [
    "![fastest fixed ookla by adm3](images/fastest-fixed-ookla-by-adm3.png)"
   ]
  },
  {
   "cell_type": "code",
   "execution_count": null,
   "id": "a2e3ca71-d2ed-4927-ac43-483282bdf633",
   "metadata": {},
   "outputs": [],
   "source": [
    "#| include: false\n",
    "# uncomment the statement below to show an interactive map\n",
    "# fastest_mean_download.explore(column='avg_d_kbps_mean',cmap='viridis', tooltip='avg_d_kbps_mean')"
   ]
  },
  {
   "cell_type": "markdown",
   "id": "1b6ab38b-db24-4a3c-8ffd-be841e83db7d",
   "metadata": {},
   "source": [
    "So now, we've answered the question of where the fastest/slowest internet speeds are for the National Capital Region (NCR)"
   ]
  },
  {
   "cell_type": "markdown",
   "id": "88f66142-537f-40cb-a928-47d0e5c9e40d",
   "metadata": {},
   "source": [
    "### Additional Exercises\n",
    "\n",
    "You can further experiment and try out other exercises to explore ookla data, or even try it out using\n",
    "a different country using a different geodataset from the Humanitarian Data Exchange site. \n",
    "\n",
    "The following are more exercises you can try:\n",
    "\n",
    "* Repeat the same process to find the fastest and slowest **mobile** internet speeds\n",
    "* Repeat the same process for a different REGION_FILTER\n",
    "* Aggregate by adm2 level instead of adm3\n"
   ]
  }
 ],
 "metadata": {
  "kernelspec": {
   "display_name": "python3",
   "language": "python",
   "name": "python3"
  }
 },
 "nbformat": 4,
 "nbformat_minor": 5
}
