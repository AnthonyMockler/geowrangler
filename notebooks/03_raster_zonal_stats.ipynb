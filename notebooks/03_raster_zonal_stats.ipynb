{
 "cells": [
  {
   "cell_type": "raw",
   "metadata": {},
   "source": [
    "---\n",
    "description: generating zonal stats from raster data\n",
    "output-file: raster_zonal_stats.html\n",
    "title: Raster Zonal Stats\n",
    "\n",
    "---\n",
    "\n"
   ]
  },
  {
   "cell_type": "markdown",
   "metadata": {},
   "source": [
    "[![](https://colab.research.google.com/assets/colab-badge.svg \"Open in Colab button\")](https://colab.research.google.com/github/thinkingmachines/geowrangler/blob/master/notebooks/03_raster_zonal_stats.ipynb)"
   ]
  },
  {
   "cell_type": "code",
   "execution_count": 1,
   "metadata": {},
   "outputs": [],
   "source": [
    "#| default_exp raster_zonal_stats"
   ]
  },
  {
   "cell_type": "code",
   "execution_count": 2,
   "metadata": {},
   "outputs": [],
   "source": [
    "#| include: false\n",
    "#| no_test\n",
    "! [ -e /content ] && pip install -Uqq geowrangler"
   ]
  },
  {
   "cell_type": "code",
   "execution_count": 3,
   "metadata": {},
   "outputs": [],
   "source": [
    "#| include: false\n",
    "#| no_test\n",
    "!mkdir -p ../data\n",
    "![ -e /content ] && ln -s ../data ."
   ]
  },
  {
   "cell_type": "code",
   "execution_count": 4,
   "metadata": {},
   "outputs": [],
   "source": [
    "#| include: false\n",
    "#| no_test\n",
    "!mkdir -p ../data\n",
    "# download sample geojson files from repo\n",
    "![ ! -e ../data/sample_terrain.tif ] && curl -s -o ../data/sample_terrain.tif https://raw.githubusercontent.com/thinkingmachines/geowrangler/master/data/sample_terrain.tif\n",
    "![ ! -e ../data/region3_admin.geojson ] && curl -s -o ../data/region3_admin.geojson https://raw.githubusercontent.com/thinkingmachines/geowrangler/master/data/region3_admin.geojson\n",
    "# originally from https://data.worldpop.org/GIS/Population/Global_2000_2020_Constrained/2020/BSGM/PHL/phl_ppp_2020_constrained.tif\n",
    "![ ! -e ../data/phl_ppp_2020_constrained.tif ] && curl -s -o ../data/phl_ppp_2020_constrained.tif https://raw.githubusercontent.com/thinkingmachines/geowrangler/master/data/phl_ppp_2020_constrained.tif"
   ]
  },
  {
   "cell_type": "code",
   "execution_count": 5,
   "metadata": {},
   "outputs": [],
   "source": [
    "#| include: false\n",
    "#| no_test\n",
    "%reload_ext autoreload\n",
    "%autoreload 2\n",
    "%matplotlib inline"
   ]
  },
  {
   "cell_type": "markdown",
   "metadata": {},
   "source": [
    "Note: This module is a thin layer on top of the `rasterstats` and `exactextract` packages to make its interface more compatible with the other geowrangler modules (e.g. vector zonal stats)"
   ]
  },
  {
   "cell_type": "code",
   "execution_count": 6,
   "metadata": {},
   "outputs": [],
   "source": [
    "#| export\n",
    "from pathlib import Path\n",
    "from typing import Any, Dict, Union, List\n",
    "import warnings\n",
    "import json\n",
    "\n",
    "import geopandas as gpd\n",
    "import pandas as pd\n",
    "import rasterio\n",
    "import rasterstats as rs\n",
    "from exactextract import exact_extract\n",
    "from exactextract.raster import RasterioRasterSource\n",
    "\n",
    "from geowrangler.vector_zonal_stats import _expand_aggs, _fillnas, _fix_agg"
   ]
  },
  {
   "cell_type": "code",
   "execution_count": 7,
   "metadata": {},
   "outputs": [],
   "source": [
    "#| export\n",
    "def create_raster_zonal_stats(\n",
    "    aoi: Union[  # The area of interest geodataframe, or path to the vector file\n",
    "        str, gpd.GeoDataFrame\n",
    "    ],\n",
    "    data: Union[str, Path],  # The path to the raster data file\n",
    "    aggregation: Dict[  # A dict specifying the aggregation. See `create_zonal_stats` from the `geowrangler.vector_zonal_stats` module for more details\n",
    "        str, Any\n",
    "    ],\n",
    "    extra_args: Dict[  # Extra arguments passed to `rasterstats.zonal_stats` method\n",
    "        str, Any\n",
    "    ] = dict(\n",
    "        layer=0,\n",
    "        band_num=1,\n",
    "        nodata=None,\n",
    "        affine=None,\n",
    "        all_touched=False,\n",
    "    ),\n",
    ") -> gpd.GeoDataFrame:\n",
    "\n",
    "    \"\"\"Compute zonal stats with a vector areas of interest (aoi) from raster data sources.\n",
    "    This is a thin layer  over the `zonal_stats` method from\n",
    "    the `rasterstats` python package for compatibility with other geowrangler modules.\n",
    "    This method currently only supports 1 band for each call, so if you want to create zonal\n",
    "    stats for multiple bands with the same raster data, you can call this method for\n",
    "    each band (make sure to specify the correct `band_num` in the `extra_args` parameter).\n",
    "    See https://pythonhosted.org/rasterstats/manual.html#zonal-statistics for more details\"\"\"\n",
    "    fixed_agg = _fix_agg(aggregation)\n",
    "\n",
    "    if \"stats\" in extra_args:\n",
    "        extra_args.pop(\"stats\")  # use aggregation\n",
    "\n",
    "    if \"geojson_out\" in extra_args:\n",
    "        extra_args.pop(\"geojson_out\")  # never add features\n",
    "\n",
    "    if \"categorical\" in extra_args:\n",
    "        extra_args.pop(\"categorical\")  # no use for categorical and categorical maps\n",
    "    if \"categorical_map\" in extra_args:\n",
    "        extra_args.pop(\"categorical_map\")\n",
    "\n",
    "    if \"prefix\" in extra_args:\n",
    "        extra_args.pop(\"prefix\")  # use agg['column'] as prefix\n",
    "\n",
    "    if \"add_stats\" in extra_args:\n",
    "        extra_args.pop(\"add_stats\")  # always use stats only\n",
    "\n",
    "    if \"nodata\" in extra_args:\n",
    "        nodata = extra_args[\"nodata\"]\n",
    "        if nodata is None:\n",
    "            extra_args.pop(\"nodata\")\n",
    "            with rasterio.open(data) as src:\n",
    "                extra_args[\"nodata\"] = src.nodata\n",
    "\n",
    "    stats = fixed_agg[\"func\"]\n",
    "    prefix = fixed_agg[\"column\"] + \"_\"\n",
    "\n",
    "    renamed_columns = {\n",
    "        f\"{prefix}{func}\": fixed_agg[\"output\"][i]\n",
    "        for (i, func) in enumerate(fixed_agg[\"func\"])\n",
    "        if f\"{prefix}{func}\" != fixed_agg[\"output\"][i]\n",
    "    }\n",
    "    results_dict = rs.zonal_stats(\n",
    "        vectors=aoi,\n",
    "        raster=data,\n",
    "        stats=stats,\n",
    "        geojson_out=False,\n",
    "        categorical=False,\n",
    "        category_map=None,\n",
    "        prefix=prefix,\n",
    "        **extra_args,\n",
    "    )\n",
    "\n",
    "    results = pd.DataFrame.from_records(results_dict)\n",
    "    results.rename(columns=renamed_columns, inplace=True)\n",
    "    expanded_aggs = _expand_aggs([fixed_agg])\n",
    "\n",
    "    if type(aoi) == str:\n",
    "        aoi = gpd.read_file(aoi)\n",
    "\n",
    "    _fillnas(expanded_aggs, results, aoi)\n",
    "\n",
    "    aoi = aoi.merge(results, how=\"left\", left_index=True, right_index=True)\n",
    "\n",
    "    return aoi"
   ]
  },
  {
   "cell_type": "code",
   "execution_count": 8,
   "metadata": {},
   "outputs": [],
   "source": [
    "#| include: false\n",
    "# see tests/test_vector_zonal_stats.py\n",
    "from shapely.geometry import Polygon"
   ]
  },
  {
   "cell_type": "code",
   "execution_count": 9,
   "metadata": {},
   "outputs": [],
   "source": [
    "def make_simple_aoi():\n",
    "    df = pd.DataFrame(\n",
    "        data={\n",
    "            \"col1\": [1, 2, 3],\n",
    "            \"lat0\": [0.0, 1.0, 2.0],\n",
    "            \"lon0\": [0.0, 0.0, 0.0],\n",
    "            \"lat1\": [0.0, 1.0, 2.0],\n",
    "            \"lon1\": [1.0, 1.0, 1.0],\n",
    "            \"lat2\": [1.0, 2.0, 3.0],\n",
    "            \"lon2\": [1.0, 1.0, 1.0],\n",
    "            \"lat3\": [1.0, 2.0, 3.0],\n",
    "            \"lon3\": [0.0, 0.0, 0.0],\n",
    "        }\n",
    "    )\n",
    "\n",
    "    def square(row):\n",
    "        return Polygon(\n",
    "            (\n",
    "                [\n",
    "                    (row.lat0, row.lon0),\n",
    "                    (row.lat1, row.lon1),\n",
    "                    (row.lat2, row.lon2),\n",
    "                    (row.lat3, row.lon3),\n",
    "                ]\n",
    "            )\n",
    "        )\n",
    "\n",
    "    return gpd.GeoDataFrame(df, geometry=df.apply(square, axis=1), crs=\"EPSG:3857\") # Use 3857 to match terrain CRS\n",
    "\n",
    "\n",
    "simple_aoi = make_simple_aoi()\n",
    "terrain_file = \"../data/sample_terrain.tif\""
   ]
  },
  {
   "cell_type": "code",
   "execution_count": 10,
   "metadata": {},
   "outputs": [],
   "source": [
    "import matplotlib.pyplot as plt\n",
    "import numpy as np\n",
    "import rasterio"
   ]
  },
  {
   "cell_type": "code",
   "execution_count": 11,
   "metadata": {},
   "outputs": [
    {
     "name": "stdout",
     "output_type": "stream",
     "text": [
      "(707, 707) EPSG:3857 BoundingBox(left=-20.0, bottom=-19.994, right=19.994, top=20.0)\n"
     ]
    }
   ],
   "source": [
    "with rasterio.open(terrain_file) as src:\n",
    "    data = src.read(1)\n",
    "    data_crs = src.crs\n",
    "    data_bounds = src.bounds\n",
    "print(data.shape, data_crs, data_bounds)"
   ]
  },
  {
   "cell_type": "code",
   "execution_count": 12,
   "metadata": {},
   "outputs": [
    {
     "data": {
      "text/plain": [
       "array([0., 0., 3., 1.])"
      ]
     },
     "execution_count": 12,
     "metadata": {},
     "output_type": "execute_result"
    }
   ],
   "source": [
    "simple_aoi.total_bounds"
   ]
  },
  {
   "cell_type": "code",
   "execution_count": 13,
   "metadata": {},
   "outputs": [
    {
     "data": {
      "image/png": "[encoded data removed]",
      "text/plain": [
       "<Figure size 640x480 with 1 Axes>"
      ]
     },
     "metadata": {},
     "output_type": "display_data"
    }
   ],
   "source": [
    "ax = plt.imshow(data, cmap=\"pink\")"
   ]
  },
  {
   "cell_type": "code",
   "execution_count": 14,
   "metadata": {},
   "outputs": [
    {
     "data": {
      "image/png": "[encoded data removed]",
      "text/plain": [
       "<Figure size 640x480 with 1 Axes>"
      ]
     },
     "metadata": {},
     "output_type": "display_data"
    }
   ],
   "source": [
    "ax = simple_aoi.plot(facecolor=\"none\", edgecolor=\"blue\")"
   ]
  },
  {
   "cell_type": "code",
   "execution_count": 15,
   "metadata": {},
   "outputs": [
    {
     "name": "stdout",
     "output_type": "stream",
     "text": [
      "CPU times: user 32.8 ms, sys: 1.17 ms, total: 34 ms\n",
      "Wall time: 33.2 ms\n"
     ]
    }
   ],
   "source": [
    "%%time\n",
    "results = create_raster_zonal_stats(\n",
    "    simple_aoi,\n",
    "    terrain_file,\n",
    "    aggregation=dict(func=[\"mean\", \"max\", \"min\", \"std\"], column=\"elevation\"),\n",
    "    extra_args=dict(nodata=np.nan),\n",
    ")"
   ]
  },
  {
   "cell_type": "code",
   "execution_count": 16,
   "metadata": {},
   "outputs": [
    {
     "data": {
      "text/html": [
       "<div>\n",
       "<style scoped>\n",
       "    .dataframe tbody tr th:only-of-type {\n",
       "        vertical-align: middle;\n",
       "    }\n",
       "\n",
       "    .dataframe tbody tr th {\n",
       "        vertical-align: top;\n",
       "    }\n",
       "\n",
       "    .dataframe thead th {\n",
       "        text-align: right;\n",
       "    }\n",
       "</style>\n",
       "<table border=\"1\" class=\"dataframe\">\n",
       "  <thead>\n",
       "    <tr style=\"text-align: right;\">\n",
       "      <th></th>\n",
       "      <th>col1</th>\n",
       "      <th>lat0</th>\n",
       "      <th>lon0</th>\n",
       "      <th>lat1</th>\n",
       "      <th>lon1</th>\n",
       "      <th>lat2</th>\n",
       "      <th>lon2</th>\n",
       "      <th>lat3</th>\n",
       "      <th>lon3</th>\n",
       "      <th>geometry</th>\n",
       "      <th>elevation_min</th>\n",
       "      <th>elevation_max</th>\n",
       "      <th>elevation_mean</th>\n",
       "      <th>elevation_std</th>\n",
       "    </tr>\n",
       "  </thead>\n",
       "  <tbody>\n",
       "    <tr>\n",
       "      <th>0</th>\n",
       "      <td>1</td>\n",
       "      <td>0.0</td>\n",
       "      <td>0.0</td>\n",
       "      <td>0.0</td>\n",
       "      <td>1.0</td>\n",
       "      <td>1.0</td>\n",
       "      <td>1.0</td>\n",
       "      <td>1.0</td>\n",
       "      <td>0.0</td>\n",
       "      <td>POLYGON ((0 0, 0 1, 1 1, 1 0, 0 0))</td>\n",
       "      <td>1238.734161</td>\n",
       "      <td>1444.722213</td>\n",
       "      <td>1339.126726</td>\n",
       "      <td>64.362218</td>\n",
       "    </tr>\n",
       "    <tr>\n",
       "      <th>1</th>\n",
       "      <td>2</td>\n",
       "      <td>1.0</td>\n",
       "      <td>0.0</td>\n",
       "      <td>1.0</td>\n",
       "      <td>1.0</td>\n",
       "      <td>2.0</td>\n",
       "      <td>1.0</td>\n",
       "      <td>2.0</td>\n",
       "      <td>0.0</td>\n",
       "      <td>POLYGON ((1 0, 1 1, 2 1, 2 0, 1 0))</td>\n",
       "      <td>1222.409102</td>\n",
       "      <td>1425.920852</td>\n",
       "      <td>1311.903997</td>\n",
       "      <td>51.286449</td>\n",
       "    </tr>\n",
       "    <tr>\n",
       "      <th>2</th>\n",
       "      <td>3</td>\n",
       "      <td>2.0</td>\n",
       "      <td>0.0</td>\n",
       "      <td>2.0</td>\n",
       "      <td>1.0</td>\n",
       "      <td>3.0</td>\n",
       "      <td>1.0</td>\n",
       "      <td>3.0</td>\n",
       "      <td>0.0</td>\n",
       "      <td>POLYGON ((2 0, 2 1, 3 1, 3 0, 2 0))</td>\n",
       "      <td>1231.569771</td>\n",
       "      <td>1402.859628</td>\n",
       "      <td>1319.624868</td>\n",
       "      <td>45.298326</td>\n",
       "    </tr>\n",
       "  </tbody>\n",
       "</table>\n",
       "</div>"
      ],
      "text/plain": [
       "   col1  lat0  lon0  lat1  lon1  lat2  lon2  lat3  lon3  \\\n",
       "0     1   0.0   0.0   0.0   1.0   1.0   1.0   1.0   0.0   \n",
       "1     2   1.0   0.0   1.0   1.0   2.0   1.0   2.0   0.0   \n",
       "2     3   2.0   0.0   2.0   1.0   3.0   1.0   3.0   0.0   \n",
       "\n",
       "                              geometry  elevation_min  elevation_max  \\\n",
       "0  POLYGON ((0 0, 0 1, 1 1, 1 0, 0 0))    1238.734161    1444.722213   \n",
       "1  POLYGON ((1 0, 1 1, 2 1, 2 0, 1 0))    1222.409102    1425.920852   \n",
       "2  POLYGON ((2 0, 2 1, 3 1, 3 0, 2 0))    1231.569771    1402.859628   \n",
       "\n",
       "   elevation_mean  elevation_std  \n",
       "0     1339.126726      64.362218  \n",
       "1     1311.903997      51.286449  \n",
       "2     1319.624868      45.298326  "
      ]
     },
     "execution_count": 16,
     "metadata": {},
     "output_type": "execute_result"
    }
   ],
   "source": [
    "results"
   ]
  },
  {
   "cell_type": "markdown",
   "metadata": {},
   "source": [
    "Check that `create_raster_zonal_stats` uses the `nodata` attribute set in the tif file if `extra_args.nodata` is set to `None`"
   ]
  },
  {
   "cell_type": "code",
   "execution_count": 17,
   "metadata": {},
   "outputs": [],
   "source": [
    "# Load in admin bounds\n",
    "phl_adm = gpd.read_file(\"../data/region3_admin.geojson\")"
   ]
  },
  {
   "cell_type": "markdown",
   "metadata": {},
   "source": [
    "If the `nodata` parameter is explicitly set to `-999999`, the Population count should be > 0."
   ]
  },
  {
   "cell_type": "code",
   "execution_count": 18,
   "metadata": {},
   "outputs": [
    {
     "name": "stderr",
     "output_type": "stream",
     "text": [
      "/home/jc_tm/project_repos/geowrangler/geowrangler/vector_zonal_stats.py:182: FutureWarning: A value is trying to be set on a copy of a DataFrame or Series through chained assignment using an inplace method.\n",
      "The behavior will change in pandas 3.0. This inplace method will never work because the intermediate object on which we are setting values always behaves as a copy.\n",
      "\n",
      "For example, when doing 'df[col].method(value, inplace=True)', try using 'df.method({col: value}, inplace=True)' or df[col] = df[col].method(value) instead, to perform the operation inplace on the original object.\n",
      "\n",
      "\n",
      "  results[colname].fillna(0, inplace=True)\n"
     ]
    }
   ],
   "source": [
    "grid_aoi_results = create_raster_zonal_stats(\n",
    "    phl_adm,\n",
    "    \"../data/phl_ppp_2020_constrained.tif\",\n",
    "    aggregation=dict(\n",
    "        func=[\"sum\"],\n",
    "        column=\"population\",\n",
    "        output=[\"population_count\"],\n",
    "        fillna=[True],\n",
    "    ),\n",
    "    extra_args=dict(nodata=-99999),\n",
    ")"
   ]
  },
  {
   "cell_type": "code",
   "execution_count": 19,
   "metadata": {},
   "outputs": [
    {
     "data": {
      "text/html": [
       "<div>\n",
       "<style scoped>\n",
       "    .dataframe tbody tr th:only-of-type {\n",
       "        vertical-align: middle;\n",
       "    }\n",
       "\n",
       "    .dataframe tbody tr th {\n",
       "        vertical-align: top;\n",
       "    }\n",
       "\n",
       "    .dataframe thead th {\n",
       "        text-align: right;\n",
       "    }\n",
       "</style>\n",
       "<table border=\"1\" class=\"dataframe\">\n",
       "  <thead>\n",
       "    <tr style=\"text-align: right;\">\n",
       "      <th></th>\n",
       "      <th>Reg_Code</th>\n",
       "      <th>Reg_Name</th>\n",
       "      <th>Reg_Alt_Name</th>\n",
       "      <th>geometry</th>\n",
       "      <th>population_count</th>\n",
       "    </tr>\n",
       "  </thead>\n",
       "  <tbody>\n",
       "    <tr>\n",
       "      <th>0</th>\n",
       "      <td>030000000</td>\n",
       "      <td>Region III</td>\n",
       "      <td>Central Luzon</td>\n",
       "      <td>MULTIPOLYGON (((120.11687 14.76309, 120.11684 ...</td>\n",
       "      <td>10983338.0</td>\n",
       "    </tr>\n",
       "  </tbody>\n",
       "</table>\n",
       "</div>"
      ],
      "text/plain": [
       "    Reg_Code    Reg_Name   Reg_Alt_Name  \\\n",
       "0  030000000  Region III  Central Luzon   \n",
       "\n",
       "                                            geometry  population_count  \n",
       "0  MULTIPOLYGON (((120.11687 14.76309, 120.11684 ...        10983338.0  "
      ]
     },
     "execution_count": 19,
     "metadata": {},
     "output_type": "execute_result"
    }
   ],
   "source": [
    "grid_aoi_results"
   ]
  },
  {
   "cell_type": "code",
   "execution_count": 20,
   "metadata": {},
   "outputs": [],
   "source": [
    "#| include: false\n",
    "assert grid_aoi_results[\"population_count\"].iloc[0] > 0"
   ]
  },
  {
   "cell_type": "markdown",
   "metadata": {},
   "source": [
    "If  the `nodata` parameter is not set, `create_raster_zonal_stats` should use the `nodata` attribute set by the geotiff file so that population count should still be > 0."
   ]
  },
  {
   "cell_type": "code",
   "execution_count": 21,
   "metadata": {},
   "outputs": [
    {
     "name": "stderr",
     "output_type": "stream",
     "text": [
      "/home/jc_tm/project_repos/geowrangler/geowrangler/vector_zonal_stats.py:182: FutureWarning: A value is trying to be set on a copy of a DataFrame or Series through chained assignment using an inplace method.\n",
      "The behavior will change in pandas 3.0. This inplace method will never work because the intermediate object on which we are setting values always behaves as a copy.\n",
      "\n",
      "For example, when doing 'df[col].method(value, inplace=True)', try using 'df.method({col: value}, inplace=True)' or df[col] = df[col].method(value) instead, to perform the operation inplace on the original object.\n",
      "\n",
      "\n",
      "  results[colname].fillna(0, inplace=True)\n"
     ]
    }
   ],
   "source": [
    "grid_aoi_results = create_raster_zonal_stats(\n",
    "    phl_adm,\n",
    "    \"../data/phl_ppp_2020_constrained.tif\",\n",
    "    aggregation=dict(\n",
    "        func=[\"sum\"],\n",
    "        column=\"population\",\n",
    "        output=[\"population_count\"],\n",
    "        fillna=[True],\n",
    "    ),\n",
    ")"
   ]
  },
  {
   "cell_type": "code",
   "execution_count": 22,
   "metadata": {},
   "outputs": [],
   "source": [
    "#| include: false\n",
    "assert grid_aoi_results[\"population_count\"].iloc[0] > 0"
   ]
  },
  {
   "cell_type": "code",
   "execution_count": 23,
   "metadata": {},
   "outputs": [
    {
     "data": {
      "text/html": [
       "<div>\n",
       "<style scoped>\n",
       "    .dataframe tbody tr th:only-of-type {\n",
       "        vertical-align: middle;\n",
       "    }\n",
       "\n",
       "    .dataframe tbody tr th {\n",
       "        vertical-align: top;\n",
       "    }\n",
       "\n",
       "    .dataframe thead th {\n",
       "        text-align: right;\n",
       "    }\n",
       "</style>\n",
       "<table border=\"1\" class=\"dataframe\">\n",
       "  <thead>\n",
       "    <tr style=\"text-align: right;\">\n",
       "      <th></th>\n",
       "      <th>Reg_Code</th>\n",
       "      <th>Reg_Name</th>\n",
       "      <th>Reg_Alt_Name</th>\n",
       "      <th>geometry</th>\n",
       "      <th>population_count</th>\n",
       "    </tr>\n",
       "  </thead>\n",
       "  <tbody>\n",
       "    <tr>\n",
       "      <th>0</th>\n",
       "      <td>030000000</td>\n",
       "      <td>Region III</td>\n",
       "      <td>Central Luzon</td>\n",
       "      <td>MULTIPOLYGON (((120.11687 14.76309, 120.11684 ...</td>\n",
       "      <td>10983338.0</td>\n",
       "    </tr>\n",
       "  </tbody>\n",
       "</table>\n",
       "</div>"
      ],
      "text/plain": [
       "    Reg_Code    Reg_Name   Reg_Alt_Name  \\\n",
       "0  030000000  Region III  Central Luzon   \n",
       "\n",
       "                                            geometry  population_count  \n",
       "0  MULTIPOLYGON (((120.11687 14.76309, 120.11684 ...        10983338.0  "
      ]
     },
     "execution_count": 23,
     "metadata": {},
     "output_type": "execute_result"
    }
   ],
   "source": [
    "grid_aoi_results"
   ]
  },
  {
   "cell_type": "markdown",
   "metadata": {},
   "source": [
    "## Exactextract Zonal Stats\n",
    "The next section provides an alternative implementation of raster zonal statistics using the `exactextract` package. This package promises more exact zonal statistics by taking into account pixel fractions vs rasterstats that assigns the pixels to a polygon based on their centroid locations.\n",
    "\n",
    "> [exactextract](https://github.com/isciences/exactextract) provides a fast and accurate algorithm for summarizing values in the portion of a raster dataset that is covered by a polygon, often referred to as zonal statistics. Unlike other zonal statistics implementations, **it takes into account raster cells that are partially covered by the polygon.**\n",
    "\n",
    "### Advantages\n",
    "- Results from `exactextract` are more precise than `rasterstats` due to handling pixel fractions in its calculations\n",
    "- `exactextract` is faster to run than `rasterstats` for the same input AOI and raster data\n",
    "\n",
    "\n",
    "### Disadvantages\n",
    "- nodata value handling is not yet supported by the `get_exactextract_zonal_stats()` method."
   ]
  },
  {
   "cell_type": "code",
   "execution_count": 24,
   "metadata": {},
   "outputs": [],
   "source": [
    "#| export\n",
    "def _validate_aggs(aggregations, band_count):\n",
    "    \"Validate aggregations based on band count, dropping invalid entries\"\n",
    "    aggregations_validated = []\n",
    "\n",
    "    # Iterate over the list of dictionaries\n",
    "    for agg in aggregations:\n",
    "        # Check if the 'band' value is less than or equal to band_count\n",
    "        if agg['band'] > band_count:\n",
    "            warnings.warn(f\"Band number in {json.dumps(agg)}  is invalid. Aggregation will be skipped.\")\n",
    "            continue\n",
    "        aggregations_validated.append(agg)\n",
    "\n",
    "    return aggregations_validated"
   ]
  },
  {
   "cell_type": "code",
   "execution_count": 25,
   "metadata": {},
   "outputs": [],
   "source": [
    "#| export\n",
    "def create_exactextract_zonal_stats(\n",
    "    aoi: Union[  \n",
    "            str, gpd.GeoDataFrame\n",
    "    ], # The area of interest geodataframe, or path to the vector file\n",
    "    data: Union[str, Path],  # The path to the raster data file\n",
    "    aggregations: List[Dict[str, Any]], # List of agg specs\n",
    "    extra_args: dict = dict(\n",
    "        strategy=\"feature-sequential\",\n",
    "        max_cells_in_memory=30000000\n",
    "    )\n",
    ") -> gpd.GeoDataFrame:\n",
    "\n",
    "    \"\"\"\n",
    "    Computes zonal statistics from raster data sources using vector areas of interest (AOI).\n",
    "\n",
    "    This function is a wrapper over the `exact_extract` method from the `exactextract` Python package,\n",
    "    designed for compatibility with other geowrangler modules. It takes a list of agg specs, \n",
    "    with each agg spec applied to a specific band. \n",
    "    See https://github.com/isciences/exactextract/blob/master/python/README.md for more details.\n",
    "\n",
    "    Parameters\n",
    "    ----------\n",
    "    aoi : GeoDataframe\n",
    "        A GeoDataframe specifying geometries.\n",
    "    data : str\n",
    "        Path to the raster file.\n",
    "    aggregations: list[Dict]: list of aggregation specs, which are dictionaries which specify the ff.\n",
    "\n",
    "        - band (int): band number of the input raster to aggregate\n",
    "        - func (list[str]): list of operations to perform (i.e. \"mean\", \"median\", \"count\"). For a full list of \n",
    "        possible exactextract functions, see: https://github.com/isciences/exactextract/tree/master?tab=readme-ov-file#supported-statistics\n",
    "        - output (str or list[str], option): output columns for operation. \n",
    "            If None (default), the output column name will be given as band_<band number>_<func> for all functions. \n",
    "            If str, the output column name will be given as <output>_<func> for all functions. \n",
    "            If list(str), the list items will be used as the column names, in order of the passed funcs.\n",
    "        - nodata_val (int or float, optional): nodata value to use in calculation.\n",
    "\n",
    "    extra_args : dict\n",
    "\n",
    "\n",
    "    Example usage\n",
    "    --------\n",
    "    create_exactextract_zonal_stats(\n",
    "        aoi=aoi_gdf,\n",
    "        data=\"path/to/raster.tif\",\n",
    "        aggregations=[\n",
    "            dict(band=1, func=[\"mean\", \"sum\"], nodata_val=-9999) # default - band_1_mean, band_1_sum\n",
    "            dict(band=1, func=[\"mean\", \"sum\"], output=[\"pop_mean\", \"pop_sum\"]),\n",
    "            dict(band=2, func=[\"mean\", \"sum\"]) # default - band_2_mean, band_2_sum\n",
    "            dict(band=2, func=[\"mean\", \"sum\"], output=\"prefix\") # prefix_mean, prefix_sum\n",
    "        ],\n",
    "    )\n",
    "    \"\"\"\n",
    "    # TODO: figure out NODATA handling\n",
    "\n",
    "    # Handle extra arguments, issuing warnings for non-default behavior.\n",
    "    if \"weights\" in extra_args:\n",
    "        warnings.warn(\"Input weights raster will be used for all passed aggregations. To use different weights for each aggregation, call `get_exactextract_zonal_stats` multiple times.\")\n",
    "\n",
    "    # If output, include_cols, or include_geom, return the raw exactextract results instead\n",
    "    # These values conflict with the intended postprocessing steps (renaming/filtering, joining to input gdf)\n",
    "    RETURN_RAW_RESULTS = False\n",
    "    if \"output\" not in extra_args:\n",
    "        extra_args[\"output\"] = \"pandas\"\n",
    "    else:\n",
    "        if extra_args[\"output\"] != \"pandas\":\n",
    "            RETURN_RAW_RESULTS = True\n",
    "        if extra_args[\"output\"] == \"gdal\": # requires osgeo (heavy dependency)\n",
    "            raise ValueError(\"extra_args['output'] is set to 'gdal', which is currently unsupported. Please choose a different option.\")\n",
    "\n",
    "    if \"include_cols\" in extra_args:\n",
    "        RETURN_RAW_RESULTS = True\n",
    "\n",
    "    if \"include_geom\" in extra_args:\n",
    "        RETURN_RAW_RESULTS = True\n",
    "    \n",
    "    if RETURN_RAW_RESULTS:\n",
    "        warnings.warn(\"Defaulting to raw exactextract output using arguments in output, include_cols, and/or include_geom. Column names: band_<band number>_<func>.\")\n",
    "\n",
    "\n",
    "    if isinstance(aoi, str) or isinstance(aoi, Path):\n",
    "        aoi = gpd.read_file(aoi)\n",
    "        \n",
    "    # Open raster and run exactextract\n",
    "    with rasterio.open(data) as dst:\n",
    "        # Validate passed aggregations based on band count and compile\n",
    "        aggregations = _validate_aggs(aggregations, dst.count)\n",
    "        all_operations = set()\n",
    "        for agg in aggregations:\n",
    "            all_operations.update(agg[\"func\"])\n",
    "        all_operations = sorted(all_operations)\n",
    "        if aoi.crs != dst.crs:\n",
    "            warnings.warn(f\"The CRS of the AOI ({aoi.crs}) and the raster data ({dst.crs}) do not match!\")\n",
    "        \n",
    "        # If input is single band, the output is processed to band_1_<func> for all funcs\n",
    "        # This is automatically done with singleband inputs\n",
    "        if dst.count == 1:\n",
    "            results =  exact_extract(\n",
    "                data,\n",
    "                aoi,\n",
    "                all_operations,\n",
    "                **extra_args\n",
    "            )\n",
    "            if RETURN_RAW_RESULTS:\n",
    "                return results\n",
    "            results = results.rename(columns={col: f\"band_1_{col}\" for col in results.columns})\n",
    "        else:\n",
    "            results = exact_extract(\n",
    "                data,\n",
    "                aoi,\n",
    "                all_operations,\n",
    "                **extra_args\n",
    "            )\n",
    "            if RETURN_RAW_RESULTS:\n",
    "                return results\n",
    "\n",
    "    # Create new columns as specified by agg specs\n",
    "    # Each renamed column will be a copy of its corresponding result column\n",
    "    out_cols = []\n",
    "    for agg in aggregations:\n",
    "        result_cols = [f\"band_{agg['band']}_{func}\" for func in agg[\"func\"]]\n",
    "        \n",
    "        if \"output\" not in agg:\n",
    "            agg_out_cols = result_cols\n",
    "\n",
    "        elif isinstance(agg['output'], str):\n",
    "            agg_out_cols = [f\"{agg['output']}_{func}\" for func in agg['func']]\n",
    "\n",
    "        elif isinstance(agg['output'], list) and all(isinstance(item, str) for item in agg.get('output')):\n",
    "            assert len(agg['output']) == len(agg['func']), f\"Output list only has {len(agg['output'])}, expected {len(agg['func'])}\"\n",
    "            agg_out_cols = agg.get('output')\n",
    "\n",
    "        # Add output columns to result\n",
    "        for agg_out_col, result_col in zip(agg_out_cols, result_cols):\n",
    "            results[agg_out_col] = results[result_col]\n",
    "        out_cols.extend(agg_out_cols)\n",
    "    \n",
    "    # Return only the columns specified\n",
    "    output_results = results.loc[:,out_cols]\n",
    "    return aoi.merge(output_results, how=\"left\", left_index=True, right_index=True)"
   ]
  },
  {
   "cell_type": "code",
   "execution_count": 26,
   "metadata": {},
   "outputs": [
    {
     "name": "stdout",
     "output_type": "stream",
     "text": [
      "CPU times: user 23.7 ms, sys: 740 µs, total: 24.4 ms\n",
      "Wall time: 23.8 ms\n"
     ]
    },
    {
     "name": "stderr",
     "output_type": "stream",
     "text": [
      "/tmp/ipykernel_4931/3912716971.py:10: UserWarning: Band number in {\"band\": 2, \"func\": [\"mean\", \"max\", \"min\", \"stdev\"], \"output\": \"elevation\"}  is invalid. Aggregation will be skipped.\n",
      "  warnings.warn(f\"Band number in {json.dumps(agg)}  is invalid. Aggregation will be skipped.\")\n"
     ]
    },
    {
     "data": {
      "text/html": [
       "<div>\n",
       "<style scoped>\n",
       "    .dataframe tbody tr th:only-of-type {\n",
       "        vertical-align: middle;\n",
       "    }\n",
       "\n",
       "    .dataframe tbody tr th {\n",
       "        vertical-align: top;\n",
       "    }\n",
       "\n",
       "    .dataframe thead th {\n",
       "        text-align: right;\n",
       "    }\n",
       "</style>\n",
       "<table border=\"1\" class=\"dataframe\">\n",
       "  <thead>\n",
       "    <tr style=\"text-align: right;\">\n",
       "      <th></th>\n",
       "      <th>col1</th>\n",
       "      <th>lat0</th>\n",
       "      <th>lon0</th>\n",
       "      <th>lat1</th>\n",
       "      <th>lon1</th>\n",
       "      <th>lat2</th>\n",
       "      <th>lon2</th>\n",
       "      <th>lat3</th>\n",
       "      <th>lon3</th>\n",
       "      <th>geometry</th>\n",
       "      <th>elevation_sum</th>\n",
       "      <th>elevation_max</th>\n",
       "      <th>elevation_min</th>\n",
       "      <th>elevation_stdev</th>\n",
       "    </tr>\n",
       "  </thead>\n",
       "  <tbody>\n",
       "    <tr>\n",
       "      <th>0</th>\n",
       "      <td>1</td>\n",
       "      <td>0.0</td>\n",
       "      <td>0.0</td>\n",
       "      <td>0.0</td>\n",
       "      <td>1.0</td>\n",
       "      <td>1.0</td>\n",
       "      <td>1.0</td>\n",
       "      <td>1.0</td>\n",
       "      <td>0.0</td>\n",
       "      <td>POLYGON ((0 0, 0 1, 1 1, 1 0, 0 0))</td>\n",
       "      <td>417459.46875</td>\n",
       "      <td>1444.722213</td>\n",
       "      <td>1232.164947</td>\n",
       "      <td>63.263985</td>\n",
       "    </tr>\n",
       "    <tr>\n",
       "      <th>1</th>\n",
       "      <td>2</td>\n",
       "      <td>1.0</td>\n",
       "      <td>0.0</td>\n",
       "      <td>1.0</td>\n",
       "      <td>1.0</td>\n",
       "      <td>2.0</td>\n",
       "      <td>1.0</td>\n",
       "      <td>2.0</td>\n",
       "      <td>0.0</td>\n",
       "      <td>POLYGON ((1 0, 1 1, 2 1, 2 0, 1 0))</td>\n",
       "      <td>409081.15625</td>\n",
       "      <td>1425.920852</td>\n",
       "      <td>1213.356474</td>\n",
       "      <td>50.523487</td>\n",
       "    </tr>\n",
       "    <tr>\n",
       "      <th>2</th>\n",
       "      <td>3</td>\n",
       "      <td>2.0</td>\n",
       "      <td>0.0</td>\n",
       "      <td>2.0</td>\n",
       "      <td>1.0</td>\n",
       "      <td>3.0</td>\n",
       "      <td>1.0</td>\n",
       "      <td>3.0</td>\n",
       "      <td>0.0</td>\n",
       "      <td>POLYGON ((2 0, 2 1, 3 1, 3 0, 2 0))</td>\n",
       "      <td>411552.87500</td>\n",
       "      <td>1402.859628</td>\n",
       "      <td>1220.031795</td>\n",
       "      <td>44.781490</td>\n",
       "    </tr>\n",
       "  </tbody>\n",
       "</table>\n",
       "</div>"
      ],
      "text/plain": [
       "   col1  lat0  lon0  lat1  lon1  lat2  lon2  lat3  lon3  \\\n",
       "0     1   0.0   0.0   0.0   1.0   1.0   1.0   1.0   0.0   \n",
       "1     2   1.0   0.0   1.0   1.0   2.0   1.0   2.0   0.0   \n",
       "2     3   2.0   0.0   2.0   1.0   3.0   1.0   3.0   0.0   \n",
       "\n",
       "                              geometry  elevation_sum  elevation_max  \\\n",
       "0  POLYGON ((0 0, 0 1, 1 1, 1 0, 0 0))   417459.46875    1444.722213   \n",
       "1  POLYGON ((1 0, 1 1, 2 1, 2 0, 1 0))   409081.15625    1425.920852   \n",
       "2  POLYGON ((2 0, 2 1, 3 1, 3 0, 2 0))   411552.87500    1402.859628   \n",
       "\n",
       "   elevation_min  elevation_stdev  \n",
       "0    1232.164947        63.263985  \n",
       "1    1213.356474        50.523487  \n",
       "2    1220.031795        44.781490  "
      ]
     },
     "execution_count": 26,
     "metadata": {},
     "output_type": "execute_result"
    }
   ],
   "source": [
    "%%time\n",
    "# Single band\n",
    "results = create_exactextract_zonal_stats(\n",
    "    simple_aoi.to_crs(\"EPSG:3857\"),\n",
    "    terrain_file,\n",
    "    aggregations=[\n",
    "        dict(band=1, func=[\"sum\", \"max\", \"min\", \"stdev\"], output=\"elevation\"),\n",
    "        dict(band=2, func=[\"mean\", \"max\", \"min\", \"stdev\"], output=\"elevation\")\n",
    "    ],    \n",
    ")\n",
    "results"
   ]
  },
  {
   "cell_type": "code",
   "execution_count": 27,
   "metadata": {},
   "outputs": [
    {
     "data": {
      "text/html": [
       "<div>\n",
       "<style scoped>\n",
       "    .dataframe tbody tr th:only-of-type {\n",
       "        vertical-align: middle;\n",
       "    }\n",
       "\n",
       "    .dataframe tbody tr th {\n",
       "        vertical-align: top;\n",
       "    }\n",
       "\n",
       "    .dataframe thead th {\n",
       "        text-align: right;\n",
       "    }\n",
       "</style>\n",
       "<table border=\"1\" class=\"dataframe\">\n",
       "  <thead>\n",
       "    <tr style=\"text-align: right;\">\n",
       "      <th></th>\n",
       "      <th>Reg_Code</th>\n",
       "      <th>Reg_Name</th>\n",
       "      <th>Reg_Alt_Name</th>\n",
       "      <th>geometry</th>\n",
       "      <th>band_1_mean</th>\n",
       "      <th>band_1_sum</th>\n",
       "      <th>band_2_mean</th>\n",
       "      <th>band_2_sum</th>\n",
       "      <th>prefix_mean</th>\n",
       "      <th>prefix_sum</th>\n",
       "      <th>aer_ai_mean</th>\n",
       "      <th>aer_ai_sum</th>\n",
       "      <th>aer_ai_count</th>\n",
       "    </tr>\n",
       "  </thead>\n",
       "  <tbody>\n",
       "    <tr>\n",
       "      <th>0</th>\n",
       "      <td>030000000</td>\n",
       "      <td>Region III</td>\n",
       "      <td>Central Luzon</td>\n",
       "      <td>MULTIPOLYGON (((120.11687 14.76309, 120.11684 ...</td>\n",
       "      <td>0.000279</td>\n",
       "      <td>0.12919</td>\n",
       "      <td>0.015252</td>\n",
       "      <td>7.070237</td>\n",
       "      <td>0.015252</td>\n",
       "      <td>7.070237</td>\n",
       "      <td>0.000279</td>\n",
       "      <td>0.12919</td>\n",
       "      <td>463.568115</td>\n",
       "    </tr>\n",
       "  </tbody>\n",
       "</table>\n",
       "</div>"
      ],
      "text/plain": [
       "    Reg_Code    Reg_Name   Reg_Alt_Name  \\\n",
       "0  030000000  Region III  Central Luzon   \n",
       "\n",
       "                                            geometry  band_1_mean  band_1_sum  \\\n",
       "0  MULTIPOLYGON (((120.11687 14.76309, 120.11684 ...     0.000279     0.12919   \n",
       "\n",
       "   band_2_mean  band_2_sum  prefix_mean  prefix_sum  aer_ai_mean  aer_ai_sum  \\\n",
       "0     0.015252    7.070237     0.015252    7.070237     0.000279     0.12919   \n",
       "\n",
       "   aer_ai_count  \n",
       "0    463.568115  "
      ]
     },
     "metadata": {},
     "output_type": "display_data"
    },
    {
     "name": "stdout",
     "output_type": "stream",
     "text": [
      "CPU times: user 914 ms, sys: 7.86 ms, total: 922 ms\n",
      "Wall time: 920 ms\n"
     ]
    }
   ],
   "source": [
    "%%time\n",
    "# Multiple band test\n",
    "grid_exactextract_aoi_results = create_exactextract_zonal_stats(\n",
    "    phl_adm,\n",
    "    \"../data/ph_s5p_AER_AI_340_380.tiff\",\n",
    "    aggregations=[\n",
    "        dict(band=1, func=[\"mean\", \"sum\"], nodata_val=-9999), # default - band1_mean, band1_sum\n",
    "        dict(band=2, func=[\"mean\", \"sum\"]), # default - band2_mean, band2_sum\n",
    "        dict(band=2, func=[\"mean\", \"sum\"], output=\"prefix\"), # prefix_mean, prefix_sum\n",
    "        dict(band=1, func=[\"mean\", \"sum\", \"count\"], output=[\"aer_ai_mean\", \"aer_ai_sum\", \"aer_ai_count\"]),\n",
    "    ]\n",
    ")\n",
    "display(grid_exactextract_aoi_results)"
   ]
  },
  {
   "cell_type": "code",
   "execution_count": 28,
   "metadata": {},
   "outputs": [
    {
     "name": "stderr",
     "output_type": "stream",
     "text": [
      "/tmp/ipykernel_4931/3470049868.py:79: UserWarning: Defaulting to raw exactextract output using arguments in output, include_cols, and/or include_geom. Column names: band_<band number>_<func>.\n",
      "  warnings.warn(\"Defaulting to raw exactextract output using arguments in output, include_cols, and/or include_geom. Column names: band_<band number>_<func>.\")\n"
     ]
    },
    {
     "data": {
      "text/plain": [
       "[{'type': 'Feature',\n",
       "  'properties': {'band_3_mean': 0.6317912340164185,\n",
       "   'band_2_sum': 7.070237159729004,\n",
       "   'band_2_mean': 0.015251776203513145,\n",
       "   'band_1_sum': 0.12918977439403534,\n",
       "   'band_3_count': 463.568115234375,\n",
       "   'band_3_sum': 292.8782653808594,\n",
       "   'band_1_mean': 0.00027868562028743327,\n",
       "   'band_2_count': 463.568115234375,\n",
       "   'band_1_count': 463.568115234375}}]"
      ]
     },
     "metadata": {},
     "output_type": "display_data"
    },
    {
     "name": "stdout",
     "output_type": "stream",
     "text": [
      "CPU times: user 729 ms, sys: 17.7 ms, total: 746 ms\n",
      "Wall time: 743 ms\n"
     ]
    }
   ],
   "source": [
    "%%time\n",
    "# Multiple band test - geojson\n",
    "grid_exactextract_aoi_results = create_exactextract_zonal_stats(\n",
    "    phl_adm,\n",
    "    \"../data/ph_s5p_AER_AI_340_380.tiff\",\n",
    "    aggregations=[\n",
    "        dict(band=1, func=[\"mean\", \"sum\"], nodata_val=-9999), # default - band1_mean, band1_sum\n",
    "        dict(band=2, func=[\"mean\", \"sum\"]), # default - band2_mean, band2_sum\n",
    "        dict(band=2, func=[\"mean\", \"sum\"], output=\"prefix\"), # prefix_mean, prefix_sum\n",
    "        dict(band=1, func=[\"mean\", \"sum\", \"count\"], output=[\"aer_ai_mean\", \"aer_ai_sum\", \"aer_ai_count\"]),\n",
    "    ],\n",
    "    extra_args = dict(output=\"geojson\")\n",
    ")\n",
    "display(grid_exactextract_aoi_results)"
   ]
  },
  {
   "cell_type": "code",
   "execution_count": 29,
   "metadata": {},
   "outputs": [
    {
     "name": "stderr",
     "output_type": "stream",
     "text": [
      "/tmp/ipykernel_4931/3470049868.py:79: UserWarning: Defaulting to raw exactextract output using arguments in output, include_cols, and/or include_geom. Column names: band_<band number>_<func>.\n",
      "  warnings.warn(\"Defaulting to raw exactextract output using arguments in output, include_cols, and/or include_geom. Column names: band_<band number>_<func>.\")\n"
     ]
    },
    {
     "data": {
      "text/plain": [
       "[{'type': 'Feature',\n",
       "  'properties': {'band_3_mean': 0.6317912340164185,\n",
       "   'band_2_sum': 7.070237159729004,\n",
       "   'band_2_mean': 0.015251776203513145,\n",
       "   'band_1_sum': 0.12918977439403534,\n",
       "   'band_3_count': 463.568115234375,\n",
       "   'band_3_sum': 292.8782653808594,\n",
       "   'band_1_mean': 0.00027868562028743327,\n",
       "   'band_2_count': 463.568115234375,\n",
       "   'band_1_count': 463.568115234375,\n",
       "   'Reg_Code': '030000000'}}]"
      ]
     },
     "metadata": {},
     "output_type": "display_data"
    },
    {
     "name": "stdout",
     "output_type": "stream",
     "text": [
      "CPU times: user 779 ms, sys: 17.8 ms, total: 797 ms\n",
      "Wall time: 794 ms\n"
     ]
    }
   ],
   "source": [
    "%%time\n",
    "# Multiple band test - gdal -> include_cols\n",
    "grid_exactextract_aoi_results = create_exactextract_zonal_stats(\n",
    "    phl_adm,\n",
    "    \"../data/ph_s5p_AER_AI_340_380.tiff\",\n",
    "    aggregations=[\n",
    "        dict(band=1, func=[\"mean\", \"sum\"], nodata_val=-9999), # default - band1_mean, band1_sum\n",
    "        dict(band=2, func=[\"mean\", \"sum\"]), # default - band2_mean, band2_sum\n",
    "        dict(band=2, func=[\"mean\", \"sum\"], output=\"prefix\"), # prefix_mean, prefix_sum\n",
    "        dict(band=1, func=[\"mean\", \"sum\", \"count\"], output=[\"aer_ai_mean\", \"aer_ai_sum\", \"aer_ai_count\"]),\n",
    "    ],\n",
    "    extra_args = dict(output=\"geojson\", include_cols=[\"Reg_Code\"])\n",
    ")\n",
    "display(grid_exactextract_aoi_results)"
   ]
  },
  {
   "cell_type": "code",
   "execution_count": 30,
   "metadata": {},
   "outputs": [
    {
     "name": "stderr",
     "output_type": "stream",
     "text": [
      "/tmp/ipykernel_4931/3470049868.py:79: UserWarning: Defaulting to raw exactextract output using arguments in output, include_cols, and/or include_geom. Column names: band_<band number>_<func>.\n",
      "  warnings.warn(\"Defaulting to raw exactextract output using arguments in output, include_cols, and/or include_geom. Column names: band_<band number>_<func>.\")\n"
     ]
    },
    {
     "data": {
      "text/plain": [
       "[{'type': 'Feature',\n",
       "  'properties': {'band_3_mean': 0.6317912340164185,\n",
       "   'band_2_sum': 7.070237159729004,\n",
       "   'band_2_mean': 0.015251776203513145,\n",
       "   'band_1_sum': 0.12918977439403534,\n",
       "   'band_3_count': 463.568115234375,\n",
       "   'band_3_sum': 292.8782653808594,\n",
       "   'band_1_mean': 0.00027868562028743327,\n",
       "   'band_2_count': 463.568115234375,\n",
       "   'band_1_count': 463.568115234375,\n",
       "   'Reg_Code': '030000000'}}]"
      ]
     },
     "metadata": {},
     "output_type": "display_data"
    },
    {
     "data": {
      "text/plain": [
       "list"
      ]
     },
     "metadata": {},
     "output_type": "display_data"
    },
    {
     "name": "stdout",
     "output_type": "stream",
     "text": [
      "CPU times: user 757 ms, sys: 19.2 ms, total: 776 ms\n",
      "Wall time: 773 ms\n"
     ]
    }
   ],
   "source": [
    "%%time\n",
    "# Multiple band test - gdal -> include_cols\n",
    "grid_exactextract_aoi_results = create_exactextract_zonal_stats(\n",
    "    phl_adm,\n",
    "    \"../data/ph_s5p_AER_AI_340_380.tiff\",\n",
    "    aggregations=[\n",
    "        dict(band=1, func=[\"mean\", \"sum\"], nodata_val=-9999), # default - band1_mean, band1_sum\n",
    "        dict(band=2, func=[\"mean\", \"sum\"]), # default - band2_mean, band2_sum\n",
    "        dict(band=2, func=[\"mean\", \"sum\"], output=\"prefix\"), # prefix_mean, prefix_sum\n",
    "        dict(band=1, func=[\"mean\", \"sum\", \"count\"], output=[\"aer_ai_mean\", \"aer_ai_sum\", \"aer_ai_count\"]),\n",
    "    ],\n",
    "    extra_args = dict(output=\"geojson\", include_cols=[\"Reg_Code\"])\n",
    ")\n",
    "display(grid_exactextract_aoi_results, type(grid_exactextract_aoi_results))"
   ]
  },
  {
   "cell_type": "code",
   "execution_count": 31,
   "metadata": {},
   "outputs": [
    {
     "data": {
      "text/html": [
       "<div>\n",
       "<style scoped>\n",
       "    .dataframe tbody tr th:only-of-type {\n",
       "        vertical-align: middle;\n",
       "    }\n",
       "\n",
       "    .dataframe tbody tr th {\n",
       "        vertical-align: top;\n",
       "    }\n",
       "\n",
       "    .dataframe thead th {\n",
       "        text-align: right;\n",
       "    }\n",
       "</style>\n",
       "<table border=\"1\" class=\"dataframe\">\n",
       "  <thead>\n",
       "    <tr style=\"text-align: right;\">\n",
       "      <th></th>\n",
       "      <th>Reg_Code</th>\n",
       "      <th>Reg_Name</th>\n",
       "      <th>Reg_Alt_Name</th>\n",
       "      <th>geometry</th>\n",
       "      <th>band_1_mean</th>\n",
       "      <th>band_1_sum</th>\n",
       "      <th>band_2_mean</th>\n",
       "      <th>band_2_sum</th>\n",
       "      <th>prefix_mean</th>\n",
       "      <th>prefix_sum</th>\n",
       "      <th>aer_ai_mean</th>\n",
       "      <th>aer_ai_sum</th>\n",
       "      <th>aer_ai_count</th>\n",
       "    </tr>\n",
       "  </thead>\n",
       "  <tbody>\n",
       "    <tr>\n",
       "      <th>0</th>\n",
       "      <td>030000000</td>\n",
       "      <td>Region III</td>\n",
       "      <td>Central Luzon</td>\n",
       "      <td>MULTIPOLYGON (((120.11687 14.76309, 120.11684 ...</td>\n",
       "      <td>0.000279</td>\n",
       "      <td>0.12919</td>\n",
       "      <td>0.015252</td>\n",
       "      <td>7.070237</td>\n",
       "      <td>0.015252</td>\n",
       "      <td>7.070237</td>\n",
       "      <td>0.000279</td>\n",
       "      <td>0.12919</td>\n",
       "      <td>463.568115</td>\n",
       "    </tr>\n",
       "  </tbody>\n",
       "</table>\n",
       "</div>"
      ],
      "text/plain": [
       "    Reg_Code    Reg_Name   Reg_Alt_Name  \\\n",
       "0  030000000  Region III  Central Luzon   \n",
       "\n",
       "                                            geometry  band_1_mean  band_1_sum  \\\n",
       "0  MULTIPOLYGON (((120.11687 14.76309, 120.11684 ...     0.000279     0.12919   \n",
       "\n",
       "   band_2_mean  band_2_sum  prefix_mean  prefix_sum  aer_ai_mean  aer_ai_sum  \\\n",
       "0     0.015252    7.070237     0.015252    7.070237     0.000279     0.12919   \n",
       "\n",
       "   aer_ai_count  \n",
       "0    463.568115  "
      ]
     },
     "metadata": {},
     "output_type": "display_data"
    },
    {
     "name": "stdout",
     "output_type": "stream",
     "text": [
      "CPU times: user 1.35 s, sys: 56.4 ms, total: 1.41 s\n",
      "Wall time: 1.41 s\n"
     ]
    }
   ],
   "source": [
    "%%time\n",
    "# Multiple band test - from file\n",
    "grid_exactextract_aoi_results = create_exactextract_zonal_stats(\n",
    "    \"../data/region3_admin.geojson\",\n",
    "    \"../data/ph_s5p_AER_AI_340_380.tiff\",\n",
    "    aggregations=[\n",
    "        dict(band=1, func=[\"mean\", \"sum\"], nodata_val=-9999), # default - band1_mean, band1_sum\n",
    "        dict(band=2, func=[\"mean\", \"sum\"]), # default - band2_mean, band2_sum\n",
    "        dict(band=2, func=[\"mean\", \"sum\"], output=\"prefix\"), # prefix_mean, prefix_sum\n",
    "        dict(band=1, func=[\"mean\", \"sum\", \"count\"], output=[\"aer_ai_mean\", \"aer_ai_sum\", \"aer_ai_count\"]),\n",
    "    ],\n",
    ")\n",
    "display(grid_exactextract_aoi_results)"
   ]
  },
  {
   "cell_type": "code",
   "execution_count": 32,
   "metadata": {},
   "outputs": [
    {
     "ename": "ValueError",
     "evalue": "extra_args['output'] is set to 'gdal', which is currently unsupported. Please choose a different option.",
     "output_type": "error",
     "traceback": [
      "\u001b[0;31m---------------------------------------------------------------------------\u001b[0m",
      "\u001b[0;31mValueError\u001b[0m                                Traceback (most recent call last)",
      "File \u001b[0;32m<timed exec>:2\u001b[0m\n",
      "Cell \u001b[0;32mIn[25], line 70\u001b[0m, in \u001b[0;36mcreate_exactextract_zonal_stats\u001b[0;34m(aoi, data, aggregations, extra_args)\u001b[0m\n\u001b[1;32m     68\u001b[0m         RETURN_RAW_RESULTS \u001b[38;5;241m=\u001b[39m \u001b[38;5;28;01mTrue\u001b[39;00m\n\u001b[1;32m     69\u001b[0m     \u001b[38;5;28;01mif\u001b[39;00m extra_args[\u001b[38;5;124m\"\u001b[39m\u001b[38;5;124moutput\u001b[39m\u001b[38;5;124m\"\u001b[39m] \u001b[38;5;241m==\u001b[39m \u001b[38;5;124m\"\u001b[39m\u001b[38;5;124mgdal\u001b[39m\u001b[38;5;124m\"\u001b[39m: \u001b[38;5;66;03m# requires osgeo (heavy dependency)\u001b[39;00m\n\u001b[0;32m---> 70\u001b[0m         \u001b[38;5;28;01mraise\u001b[39;00m \u001b[38;5;167;01mValueError\u001b[39;00m(\u001b[38;5;124m\"\u001b[39m\u001b[38;5;124mextra_args[\u001b[39m\u001b[38;5;124m'\u001b[39m\u001b[38;5;124moutput\u001b[39m\u001b[38;5;124m'\u001b[39m\u001b[38;5;124m] is set to \u001b[39m\u001b[38;5;124m'\u001b[39m\u001b[38;5;124mgdal\u001b[39m\u001b[38;5;124m'\u001b[39m\u001b[38;5;124m, which is currently unsupported. Please choose a different option.\u001b[39m\u001b[38;5;124m\"\u001b[39m)\n\u001b[1;32m     72\u001b[0m \u001b[38;5;28;01mif\u001b[39;00m \u001b[38;5;124m\"\u001b[39m\u001b[38;5;124minclude_cols\u001b[39m\u001b[38;5;124m\"\u001b[39m \u001b[38;5;129;01min\u001b[39;00m extra_args:\n\u001b[1;32m     73\u001b[0m     RETURN_RAW_RESULTS \u001b[38;5;241m=\u001b[39m \u001b[38;5;28;01mTrue\u001b[39;00m\n",
      "\u001b[0;31mValueError\u001b[0m: extra_args['output'] is set to 'gdal', which is currently unsupported. Please choose a different option."
     ]
    }
   ],
   "source": [
    "%%time\n",
    "# Multiple band test - gdal -> UNSUPPORTED\n",
    "grid_exactextract_aoi_results = create_exactextract_zonal_stats(\n",
    "    phl_adm,\n",
    "    \"../data/ph_s5p_AER_AI_340_380.tiff\",\n",
    "    aggregations=[\n",
    "        dict(band=1, func=[\"mean\", \"sum\"], nodata_val=-9999), # default - band1_mean, band1_sum\n",
    "        dict(band=2, func=[\"mean\", \"sum\"]), # default - band2_mean, band2_sum\n",
    "        dict(band=2, func=[\"mean\", \"sum\"], output=\"prefix\"), # prefix_mean, prefix_sum\n",
    "        dict(band=1, func=[\"mean\", \"sum\", \"count\"], output=[\"aer_ai_mean\", \"aer_ai_sum\", \"aer_ai_count\"]),\n",
    "    ],\n",
    "    extra_args = dict(output=\"gdal\")\n",
    ")\n",
    "display(grid_exactextract_aoi_results)"
   ]
  }
 ],
 "metadata": {
  "kernelspec": {
   "display_name": "python3",
   "language": "python",
   "name": "python3"
  },
  "language_info": {
   "codemirror_mode": {
    "name": "ipython",
    "version": 3
   },
   "file_extension": ".py",
   "mimetype": "text/x-python",
   "name": "python",
   "nbconvert_exporter": "python",
   "pygments_lexer": "ipython3",
   "version": "3.9.19"
  }
 },
 "nbformat": 4,
 "nbformat_minor": 4
}
